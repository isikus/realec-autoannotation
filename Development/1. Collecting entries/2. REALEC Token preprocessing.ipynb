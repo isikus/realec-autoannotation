{
 "cells": [
  {
   "cell_type": "code",
   "execution_count": 1,
   "metadata": {
    "colab": {
     "base_uri": "https://localhost:8080/",
     "height": 52
    },
    "colab_type": "code",
    "executionInfo": {
     "elapsed": 2298,
     "status": "ok",
     "timestamp": 1556383194105,
     "user": {
      "displayName": "Ivan Torubarov",
      "photoUrl": "",
      "userId": "07481003931234110333"
     },
     "user_tz": -180
    },
    "id": "HshNXn_Jke0-",
    "outputId": "e351b609-0e1d-477b-8f08-26b1e5293289"
   },
   "outputs": [
    {
     "name": "stderr",
     "output_type": "stream",
     "text": [
      "WARNING: Logging before flag parsing goes to stderr.\n",
      "W0427 16:39:53.853027 140535831156608 __init__.py:56] Some hub symbols are not available because TensorFlow version is less than 1.14\n"
     ]
    }
   ],
   "source": [
    "from sklearn.model_selection import train_test_split\n",
    "import numpy as np\n",
    "import pandas as pd\n",
    "import tensorflow as tf\n",
    "import tensorflow_hub as hub\n",
    "from datetime import datetime\n",
    "\n",
    "from tensorflow import keras\n",
    "import os\n",
    "import re"
   ]
  },
  {
   "cell_type": "code",
   "execution_count": 2,
   "metadata": {
    "colab": {
     "base_uri": "https://localhost:8080/",
     "height": 125
    },
    "colab_type": "code",
    "executionInfo": {
     "elapsed": 46211,
     "status": "ok",
     "timestamp": 1556383246739,
     "user": {
      "displayName": "Ivan Torubarov",
      "photoUrl": "",
      "userId": "07481003931234110333"
     },
     "user_tz": -180
    },
    "id": "m4ny6R86lJRo",
    "outputId": "5bbdd11e-bcac-4cb8-a821-e0b98ef94ea3"
   },
   "outputs": [
    {
     "name": "stdout",
     "output_type": "stream",
     "text": [
      "Go to this URL in a browser: https://accounts.google.com/o/oauth2/auth?client_id=947318989803-6bn6qk8qdgf4n4g3pfee6491hc0brc4i.apps.googleusercontent.com&redirect_uri=urn%3Aietf%3Awg%3Aoauth%3A2.0%3Aoob&scope=email%20https%3A%2F%2Fwww.googleapis.com%2Fauth%2Fdocs.test%20https%3A%2F%2Fwww.googleapis.com%2Fauth%2Fdrive%20https%3A%2F%2Fwww.googleapis.com%2Fauth%2Fdrive.photos.readonly%20https%3A%2F%2Fwww.googleapis.com%2Fauth%2Fpeopleapi.readonly&response_type=code\n",
      "\n",
      "Enter your authorization code:\n",
      "··········\n",
      "Mounted at /content/gdrive\n"
     ]
    }
   ],
   "source": [
    "from google.colab import drive\n",
    "drive.mount('/content/gdrive')"
   ]
  },
  {
   "cell_type": "code",
   "execution_count": 3,
   "metadata": {
    "colab": {
     "base_uri": "https://localhost:8080/",
     "height": 34
    },
    "colab_type": "code",
    "executionInfo": {
     "elapsed": 1594,
     "status": "ok",
     "timestamp": 1556383253579,
     "user": {
      "displayName": "Ivan Torubarov",
      "photoUrl": "",
      "userId": "07481003931234110333"
     },
     "user_tz": -180
    },
    "id": "IShMFLB9lUz5",
    "outputId": "fdfa55c2-78ed-4f93-e72c-6666fa28f931"
   },
   "outputs": [
    {
     "data": {
      "text/plain": [
       "'./realec_110319_2315.tar.gz'"
      ]
     },
     "execution_count": 3,
     "metadata": {
      "tags": []
     },
     "output_type": "execute_result"
    }
   ],
   "source": [
    "import shutil\n",
    "\n",
    "drive_path = \"Clean REALEC dumps/\" #@param {type:\"string\"}\n",
    "filename = \"realec_110319_2315.tar.gz\" #@param {type:\"string\"}\n",
    "\n",
    "\n",
    "shutil.copy2('/content/gdrive/My Drive/'+drive_path+filename,'.')"
   ]
  },
  {
   "cell_type": "code",
   "execution_count": 0,
   "metadata": {
    "colab": {},
    "colab_type": "code",
    "collapsed": true,
    "id": "Ut242uEbmBCJ"
   },
   "outputs": [],
   "source": [
    "import tarfile\n",
    "\n",
    "tar = tarfile.open(filename)\n",
    "tar.extractall()"
   ]
  },
  {
   "cell_type": "markdown",
   "metadata": {
    "colab_type": "text",
    "id": "s7LeaLTh5UJ0"
   },
   "source": [
    "# Dealing with corrupt strings in annotation files"
   ]
  },
  {
   "cell_type": "markdown",
   "metadata": {
    "colab_type": "text",
    "id": "ENDnlEhT-Psn"
   },
   "source": [
    "##Atypical entries"
   ]
  },
  {
   "cell_type": "markdown",
   "metadata": {
    "colab_type": "text",
    "id": "XT0GH1y7AXUh"
   },
   "source": [
    "Let's fetch all annotation entries into a DataFrame. Yes, I'm that crazy."
   ]
  },
  {
   "cell_type": "code",
   "execution_count": 5,
   "metadata": {
    "colab": {
     "base_uri": "https://localhost:8080/",
     "height": 52
    },
    "colab_type": "code",
    "executionInfo": {
     "elapsed": 11124,
     "status": "ok",
     "timestamp": 1556383336082,
     "user": {
      "displayName": "Ivan Torubarov",
      "photoUrl": "",
      "userId": "07481003931234110333"
     },
     "user_tz": -180
    },
    "id": "qL10V7A3Adzl",
    "outputId": "4418eeea-217c-4e24-9579-0f510eea424b"
   },
   "outputs": [
    {
     "name": "stdout",
     "output_type": "stream",
     "text": [
      "CPU times: user 2.72 s, sys: 657 ms, total: 3.38 s\n",
      "Wall time: 9.33 s\n"
     ]
    }
   ],
   "source": [
    "%%time\n",
    "\n",
    "all_entries_path = []\n",
    "all_entries_line = []\n",
    "\n",
    "\n",
    "for root, dirs, files in os.walk('.'):\n",
    "  for file in os.listdir(root):\n",
    "    if file.endswith(\".ann\"):\n",
    "      path = root+os.sep+file\n",
    "      with open(path, 'r', encoding='utf-8') as annfile:\n",
    "        lines = annfile.read().split('\\n')\n",
    "        for line in lines:\n",
    "          if line != \"\":\n",
    "            all_entries_path.append(path)\n",
    "            all_entries_line.append(line)\n",
    "\n",
    "\n",
    "all_entries = pd.DataFrame({\n",
    "  'path': all_entries_path,\n",
    "  'line': all_entries_line\n",
    "})\n",
    "\n",
    "all_entries.head()"
   ]
  },
  {
   "cell_type": "code",
   "execution_count": 6,
   "metadata": {
    "colab": {
     "base_uri": "https://localhost:8080/",
     "height": 1882
    },
    "colab_type": "code",
    "executionInfo": {
     "elapsed": 844,
     "status": "ok",
     "timestamp": 1556383340385,
     "user": {
      "displayName": "Ivan Torubarov",
      "photoUrl": "",
      "userId": "07481003931234110333"
     },
     "user_tz": -180
    },
    "id": "56pquD6VkV7r",
    "outputId": "0385e7a2-fecc-4003-e9fb-d1ae5acee09c"
   },
   "outputs": [
    {
     "data": {
      "text/html": [
       "<div>\n",
       "<style scoped>\n",
       "    .dataframe tbody tr th:only-of-type {\n",
       "        vertical-align: middle;\n",
       "    }\n",
       "\n",
       "    .dataframe tbody tr th {\n",
       "        vertical-align: top;\n",
       "    }\n",
       "\n",
       "    .dataframe thead th {\n",
       "        text-align: right;\n",
       "    }\n",
       "</style>\n",
       "<table border=\"1\" class=\"dataframe\">\n",
       "  <thead>\n",
       "    <tr style=\"text-align: right;\">\n",
       "      <th></th>\n",
       "      <th>path</th>\n",
       "      <th>line</th>\n",
       "    </tr>\n",
       "  </thead>\n",
       "  <tbody>\n",
       "    <tr>\n",
       "      <th>0</th>\n",
       "      <td>./data/MAGOLEGO/2018/Student_36_MT.ann</td>\n",
       "      <td>People now fully enjoy the benefits this age ...</td>\n",
       "    </tr>\n",
       "    <tr>\n",
       "      <th>1</th>\n",
       "      <td>./data/MAGOLEGO/2018/Student_36_MT.ann</td>\n",
       "      <td>What people often fail to notice, however, is...</td>\n",
       "    </tr>\n",
       "    <tr>\n",
       "      <th>2</th>\n",
       "      <td>./data/MAGOLEGO/2018/Student_36_MT.ann</td>\n",
       "      <td>Perhaps it is now the right time to conceive ...</td>\n",
       "    </tr>\n",
       "    <tr>\n",
       "      <th>3</th>\n",
       "      <td>./data/MAGOLEGO/2018/Student_36_MT.ann</td>\n",
       "      <td>The debate on the topic is quite heated and m...</td>\n",
       "    </tr>\n",
       "    <tr>\n",
       "      <th>4</th>\n",
       "      <td>./data/MAGOLEGO/2018/Student_36_MT.ann</td>\n",
       "      <td>The critics claim that huge market shares all...</td>\n",
       "    </tr>\n",
       "    <tr>\n",
       "      <th>5</th>\n",
       "      <td>./data/MAGOLEGO/2018/Student_36_MT.ann</td>\n",
       "      <td>Secondly, the critics are often concerned wit...</td>\n",
       "    </tr>\n",
       "    <tr>\n",
       "      <th>6</th>\n",
       "      <td>./data/MAGOLEGO/2018/Student_36_MT.ann</td>\n",
       "      <td>Finally, many of the speakers, for example, J...</td>\n",
       "    </tr>\n",
       "    <tr>\n",
       "      <th>7</th>\n",
       "      <td>./data/MAGOLEGO/2018/Student_36_MT.ann</td>\n",
       "      <td>Ultimately, speakers from this side call for ...</td>\n",
       "    </tr>\n",
       "    <tr>\n",
       "      <th>8</th>\n",
       "      <td>./data/MAGOLEGO/2018/Student_36_MT.ann</td>\n",
       "      <td>The other side of the debate stands against t...</td>\n",
       "    </tr>\n",
       "    <tr>\n",
       "      <th>9</th>\n",
       "      <td>./data/MAGOLEGO/2018/Student_36_MT.ann</td>\n",
       "      <td>There are several lines of reasoning the spea...</td>\n",
       "    </tr>\n",
       "    <tr>\n",
       "      <th>10</th>\n",
       "      <td>./data/MAGOLEGO/2018/Student_36_MT.ann</td>\n",
       "      <td>Huge tech companies of today are also often c...</td>\n",
       "    </tr>\n",
       "    <tr>\n",
       "      <th>11</th>\n",
       "      <td>./data/MAGOLEGO/2018/Student_36_MT.ann</td>\n",
       "      <td>Moreover, a small number of big companies is ...</td>\n",
       "    </tr>\n",
       "    <tr>\n",
       "      <th>12</th>\n",
       "      <td>./data/MAGOLEGO/2018/Student_36_MT.ann</td>\n",
       "      <td>Finally, the defenders of the tech giants sug...</td>\n",
       "    </tr>\n",
       "    <tr>\n",
       "      <th>13</th>\n",
       "      <td>./data/MAGOLEGO/2018/Student_36_MT.ann</td>\n",
       "      <td>The debate keeps raging on, as it clearly doe...</td>\n",
       "    </tr>\n",
       "    <tr>\n",
       "      <th>14</th>\n",
       "      <td>./data/MAGOLEGO/2018/Student_36_MT.ann</td>\n",
       "      <td>Personally, I agree with the latter. In my op...</td>\n",
       "    </tr>\n",
       "    <tr>\n",
       "      <th>15</th>\n",
       "      <td>./data/exam/exam2017_3/DOv_7_1.ann</td>\n",
       "      <td>T1\\tPrepositions 60 64\\tfrom</td>\n",
       "    </tr>\n",
       "    <tr>\n",
       "      <th>16</th>\n",
       "      <td>./data/exam/exam2017_3/DOv_7_1.ann</td>\n",
       "      <td>#1\\tAnnotatorNotes T1\\tof</td>\n",
       "    </tr>\n",
       "    <tr>\n",
       "      <th>17</th>\n",
       "      <td>./data/exam/exam2017_3/DOv_7_1.ann</td>\n",
       "      <td>T2\\tRedundant_comp 79 85\\tgroups</td>\n",
       "    </tr>\n",
       "    <tr>\n",
       "      <th>18</th>\n",
       "      <td>./data/exam/exam2017_3/DOv_7_1.ann</td>\n",
       "      <td>A1\\tDelete T2</td>\n",
       "    </tr>\n",
       "    <tr>\n",
       "      <th>19</th>\n",
       "      <td>./data/exam/exam2017_3/DOv_7_1.ann</td>\n",
       "      <td>T3\\tNoun_number 75 78\\tage</td>\n",
       "    </tr>\n",
       "    <tr>\n",
       "      <th>20</th>\n",
       "      <td>./data/exam/exam2017_3/DOv_7_1.ann</td>\n",
       "      <td>#2\\tAnnotatorNotes T3\\tages</td>\n",
       "    </tr>\n",
       "    <tr>\n",
       "      <th>21</th>\n",
       "      <td>./data/exam/exam2017_3/DOv_7_1.ann</td>\n",
       "      <td>R1\\tDependent_change Arg1:T2 Arg2:T3\\t</td>\n",
       "    </tr>\n",
       "    <tr>\n",
       "      <th>22</th>\n",
       "      <td>./data/exam/exam2017_3/DOv_7_1.ann</td>\n",
       "      <td>R2\\tDependent_change Arg1:T3 Arg2:T1\\t</td>\n",
       "    </tr>\n",
       "    <tr>\n",
       "      <th>23</th>\n",
       "      <td>./data/exam/exam2017_3/DOv_7_1.ann</td>\n",
       "      <td>T4\\tSpelling 177 183\\tnetwor</td>\n",
       "    </tr>\n",
       "    <tr>\n",
       "      <th>24</th>\n",
       "      <td>./data/exam/exam2017_3/DOv_7_1.ann</td>\n",
       "      <td>#3\\tAnnotatorNotes T4\\tnetwork</td>\n",
       "    </tr>\n",
       "    <tr>\n",
       "      <th>25</th>\n",
       "      <td>./data/exam/exam2017_3/DOv_7_1.ann</td>\n",
       "      <td>T5\\tQuantifiers 243 246\\tany</td>\n",
       "    </tr>\n",
       "    <tr>\n",
       "      <th>26</th>\n",
       "      <td>./data/exam/exam2017_3/DOv_7_1.ann</td>\n",
       "      <td>#4\\tAnnotatorNotes T5\\tall</td>\n",
       "    </tr>\n",
       "    <tr>\n",
       "      <th>27</th>\n",
       "      <td>./data/exam/exam2017_3/DOv_7_1.ann</td>\n",
       "      <td>T6\\tPrepositions 184 187\\tfor</td>\n",
       "    </tr>\n",
       "    <tr>\n",
       "      <th>28</th>\n",
       "      <td>./data/exam/exam2017_3/DOv_7_1.ann</td>\n",
       "      <td>#5\\tAnnotatorNotes T6\\tin</td>\n",
       "    </tr>\n",
       "    <tr>\n",
       "      <th>29</th>\n",
       "      <td>./data/exam/exam2017_3/DOv_7_1.ann</td>\n",
       "      <td>T7\\tAbsence_explanation 192 202\\tthe groups</td>\n",
       "    </tr>\n",
       "    <tr>\n",
       "      <th>...</th>\n",
       "      <td>...</td>\n",
       "      <td>...</td>\n",
       "    </tr>\n",
       "    <tr>\n",
       "      <th>4307817</th>\n",
       "      <td>./data/Exam_practice/AV_1_year/Book_reviews/VA...</td>\n",
       "      <td>T666\\tNOUN 3224 3227\\tera</td>\n",
       "    </tr>\n",
       "    <tr>\n",
       "      <th>4307818</th>\n",
       "      <td>./data/Exam_practice/AV_1_year/Book_reviews/VA...</td>\n",
       "      <td>#665\\tAnnotatorNotes T666\\tlemma = 'era'</td>\n",
       "    </tr>\n",
       "    <tr>\n",
       "      <th>4307819</th>\n",
       "      <td>./data/Exam_practice/AV_1_year/Book_reviews/VA...</td>\n",
       "      <td>T667\\tSCONJ 3228 3232\\twhen</td>\n",
       "    </tr>\n",
       "    <tr>\n",
       "      <th>4307820</th>\n",
       "      <td>./data/Exam_practice/AV_1_year/Book_reviews/VA...</td>\n",
       "      <td>#666\\tAnnotatorNotes T667\\tlemma = 'when'</td>\n",
       "    </tr>\n",
       "    <tr>\n",
       "      <th>4307821</th>\n",
       "      <td>./data/Exam_practice/AV_1_year/Book_reviews/VA...</td>\n",
       "      <td>T668\\tPRON 3233 3236\\tyou</td>\n",
       "    </tr>\n",
       "    <tr>\n",
       "      <th>4307822</th>\n",
       "      <td>./data/Exam_practice/AV_1_year/Book_reviews/VA...</td>\n",
       "      <td>#667\\tAnnotatorNotes T668\\tlemma = 'you'</td>\n",
       "    </tr>\n",
       "    <tr>\n",
       "      <th>4307823</th>\n",
       "      <td>./data/Exam_practice/AV_1_year/Book_reviews/VA...</td>\n",
       "      <td>T669\\tNOUN 3237 3245\\tquestion</td>\n",
       "    </tr>\n",
       "    <tr>\n",
       "      <th>4307824</th>\n",
       "      <td>./data/Exam_practice/AV_1_year/Book_reviews/VA...</td>\n",
       "      <td>#668\\tAnnotatorNotes T669\\tlemma = 'question'</td>\n",
       "    </tr>\n",
       "    <tr>\n",
       "      <th>4307825</th>\n",
       "      <td>./data/Exam_practice/AV_1_year/Book_reviews/VA...</td>\n",
       "      <td>T670\\tNOUN 3246 3256\\teverything</td>\n",
       "    </tr>\n",
       "    <tr>\n",
       "      <th>4307826</th>\n",
       "      <td>./data/Exam_practice/AV_1_year/Book_reviews/VA...</td>\n",
       "      <td>#669\\tAnnotatorNotes T670\\tlemma = 'everything'</td>\n",
       "    </tr>\n",
       "    <tr>\n",
       "      <th>4307827</th>\n",
       "      <td>./data/Exam_practice/AV_1_year/Book_reviews/VA...</td>\n",
       "      <td>T671\\tCCONJ 3257 3260\\tand</td>\n",
       "    </tr>\n",
       "    <tr>\n",
       "      <th>4307828</th>\n",
       "      <td>./data/Exam_practice/AV_1_year/Book_reviews/VA...</td>\n",
       "      <td>#670\\tAnnotatorNotes T671\\tlemma = 'and'</td>\n",
       "    </tr>\n",
       "    <tr>\n",
       "      <th>4307829</th>\n",
       "      <td>./data/Exam_practice/AV_1_year/Book_reviews/VA...</td>\n",
       "      <td>T672\\tNOUN 3261 3271\\texperience</td>\n",
       "    </tr>\n",
       "    <tr>\n",
       "      <th>4307830</th>\n",
       "      <td>./data/Exam_practice/AV_1_year/Book_reviews/VA...</td>\n",
       "      <td>#671\\tAnnotatorNotes T672\\tlemma = 'experience'</td>\n",
       "    </tr>\n",
       "    <tr>\n",
       "      <th>4307831</th>\n",
       "      <td>./data/Exam_practice/AV_1_year/Book_reviews/VA...</td>\n",
       "      <td>T673\\tDET 3272 3273\\ta</td>\n",
       "    </tr>\n",
       "    <tr>\n",
       "      <th>4307832</th>\n",
       "      <td>./data/Exam_practice/AV_1_year/Book_reviews/VA...</td>\n",
       "      <td>#672\\tAnnotatorNotes T673\\tlemma = 'a'</td>\n",
       "    </tr>\n",
       "    <tr>\n",
       "      <th>4307833</th>\n",
       "      <td>./data/Exam_practice/AV_1_year/Book_reviews/VA...</td>\n",
       "      <td>T674\\tNOUN 3274 3277\\tlot</td>\n",
       "    </tr>\n",
       "    <tr>\n",
       "      <th>4307834</th>\n",
       "      <td>./data/Exam_practice/AV_1_year/Book_reviews/VA...</td>\n",
       "      <td>#673\\tAnnotatorNotes T674\\tlemma = 'lot'</td>\n",
       "    </tr>\n",
       "    <tr>\n",
       "      <th>4307835</th>\n",
       "      <td>./data/Exam_practice/AV_1_year/Book_reviews/VA...</td>\n",
       "      <td>T675\\tADP 3278 3280\\tof</td>\n",
       "    </tr>\n",
       "    <tr>\n",
       "      <th>4307836</th>\n",
       "      <td>./data/Exam_practice/AV_1_year/Book_reviews/VA...</td>\n",
       "      <td>#674\\tAnnotatorNotes T675\\tlemma = 'of'</td>\n",
       "    </tr>\n",
       "    <tr>\n",
       "      <th>4307837</th>\n",
       "      <td>./data/Exam_practice/AV_1_year/Book_reviews/VA...</td>\n",
       "      <td>T676\\tNOUN 3281 3290\\tconflicts</td>\n",
       "    </tr>\n",
       "    <tr>\n",
       "      <th>4307838</th>\n",
       "      <td>./data/Exam_practice/AV_1_year/Book_reviews/VA...</td>\n",
       "      <td>#675\\tAnnotatorNotes T676\\tlemma = 'conflict'</td>\n",
       "    </tr>\n",
       "    <tr>\n",
       "      <th>4307839</th>\n",
       "      <td>./data/Exam_practice/AV_1_year/Book_reviews/VA...</td>\n",
       "      <td>T677\\tADP 3291 3297\\tinside</td>\n",
       "    </tr>\n",
       "    <tr>\n",
       "      <th>4307840</th>\n",
       "      <td>./data/Exam_practice/AV_1_year/Book_reviews/VA...</td>\n",
       "      <td>#676\\tAnnotatorNotes T677\\tlemma = 'inside'</td>\n",
       "    </tr>\n",
       "    <tr>\n",
       "      <th>4307841</th>\n",
       "      <td>./data/Exam_practice/AV_1_year/Book_reviews/VA...</td>\n",
       "      <td>T678\\tDET 3298 3302\\tyour</td>\n",
       "    </tr>\n",
       "    <tr>\n",
       "      <th>4307842</th>\n",
       "      <td>./data/Exam_practice/AV_1_year/Book_reviews/VA...</td>\n",
       "      <td>#677\\tAnnotatorNotes T678\\tlemma = 'you'</td>\n",
       "    </tr>\n",
       "    <tr>\n",
       "      <th>4307843</th>\n",
       "      <td>./data/Exam_practice/AV_1_year/Book_reviews/VA...</td>\n",
       "      <td>T679\\tNOUN 3303 3310\\tpsyches</td>\n",
       "    </tr>\n",
       "    <tr>\n",
       "      <th>4307844</th>\n",
       "      <td>./data/Exam_practice/AV_1_year/Book_reviews/VA...</td>\n",
       "      <td>#678\\tAnnotatorNotes T679\\tlemma = 'psych'</td>\n",
       "    </tr>\n",
       "    <tr>\n",
       "      <th>4307845</th>\n",
       "      <td>./data/Exam_practice/AV_1_year/Book_reviews/VA...</td>\n",
       "      <td>T680\\tPUNCT 3310 3311\\t.</td>\n",
       "    </tr>\n",
       "    <tr>\n",
       "      <th>4307846</th>\n",
       "      <td>./data/Exam_practice/AV_1_year/Book_reviews/VA...</td>\n",
       "      <td>#679\\tAnnotatorNotes T680\\tlemma = '.'</td>\n",
       "    </tr>\n",
       "  </tbody>\n",
       "</table>\n",
       "<p>4307847 rows × 2 columns</p>\n",
       "</div>"
      ],
      "text/plain": [
       "                                                      path  \\\n",
       "0                   ./data/MAGOLEGO/2018/Student_36_MT.ann   \n",
       "1                   ./data/MAGOLEGO/2018/Student_36_MT.ann   \n",
       "2                   ./data/MAGOLEGO/2018/Student_36_MT.ann   \n",
       "3                   ./data/MAGOLEGO/2018/Student_36_MT.ann   \n",
       "4                   ./data/MAGOLEGO/2018/Student_36_MT.ann   \n",
       "5                   ./data/MAGOLEGO/2018/Student_36_MT.ann   \n",
       "6                   ./data/MAGOLEGO/2018/Student_36_MT.ann   \n",
       "7                   ./data/MAGOLEGO/2018/Student_36_MT.ann   \n",
       "8                   ./data/MAGOLEGO/2018/Student_36_MT.ann   \n",
       "9                   ./data/MAGOLEGO/2018/Student_36_MT.ann   \n",
       "10                  ./data/MAGOLEGO/2018/Student_36_MT.ann   \n",
       "11                  ./data/MAGOLEGO/2018/Student_36_MT.ann   \n",
       "12                  ./data/MAGOLEGO/2018/Student_36_MT.ann   \n",
       "13                  ./data/MAGOLEGO/2018/Student_36_MT.ann   \n",
       "14                  ./data/MAGOLEGO/2018/Student_36_MT.ann   \n",
       "15                      ./data/exam/exam2017_3/DOv_7_1.ann   \n",
       "16                      ./data/exam/exam2017_3/DOv_7_1.ann   \n",
       "17                      ./data/exam/exam2017_3/DOv_7_1.ann   \n",
       "18                      ./data/exam/exam2017_3/DOv_7_1.ann   \n",
       "19                      ./data/exam/exam2017_3/DOv_7_1.ann   \n",
       "20                      ./data/exam/exam2017_3/DOv_7_1.ann   \n",
       "21                      ./data/exam/exam2017_3/DOv_7_1.ann   \n",
       "22                      ./data/exam/exam2017_3/DOv_7_1.ann   \n",
       "23                      ./data/exam/exam2017_3/DOv_7_1.ann   \n",
       "24                      ./data/exam/exam2017_3/DOv_7_1.ann   \n",
       "25                      ./data/exam/exam2017_3/DOv_7_1.ann   \n",
       "26                      ./data/exam/exam2017_3/DOv_7_1.ann   \n",
       "27                      ./data/exam/exam2017_3/DOv_7_1.ann   \n",
       "28                      ./data/exam/exam2017_3/DOv_7_1.ann   \n",
       "29                      ./data/exam/exam2017_3/DOv_7_1.ann   \n",
       "...                                                    ...   \n",
       "4307817  ./data/Exam_practice/AV_1_year/Book_reviews/VA...   \n",
       "4307818  ./data/Exam_practice/AV_1_year/Book_reviews/VA...   \n",
       "4307819  ./data/Exam_practice/AV_1_year/Book_reviews/VA...   \n",
       "4307820  ./data/Exam_practice/AV_1_year/Book_reviews/VA...   \n",
       "4307821  ./data/Exam_practice/AV_1_year/Book_reviews/VA...   \n",
       "4307822  ./data/Exam_practice/AV_1_year/Book_reviews/VA...   \n",
       "4307823  ./data/Exam_practice/AV_1_year/Book_reviews/VA...   \n",
       "4307824  ./data/Exam_practice/AV_1_year/Book_reviews/VA...   \n",
       "4307825  ./data/Exam_practice/AV_1_year/Book_reviews/VA...   \n",
       "4307826  ./data/Exam_practice/AV_1_year/Book_reviews/VA...   \n",
       "4307827  ./data/Exam_practice/AV_1_year/Book_reviews/VA...   \n",
       "4307828  ./data/Exam_practice/AV_1_year/Book_reviews/VA...   \n",
       "4307829  ./data/Exam_practice/AV_1_year/Book_reviews/VA...   \n",
       "4307830  ./data/Exam_practice/AV_1_year/Book_reviews/VA...   \n",
       "4307831  ./data/Exam_practice/AV_1_year/Book_reviews/VA...   \n",
       "4307832  ./data/Exam_practice/AV_1_year/Book_reviews/VA...   \n",
       "4307833  ./data/Exam_practice/AV_1_year/Book_reviews/VA...   \n",
       "4307834  ./data/Exam_practice/AV_1_year/Book_reviews/VA...   \n",
       "4307835  ./data/Exam_practice/AV_1_year/Book_reviews/VA...   \n",
       "4307836  ./data/Exam_practice/AV_1_year/Book_reviews/VA...   \n",
       "4307837  ./data/Exam_practice/AV_1_year/Book_reviews/VA...   \n",
       "4307838  ./data/Exam_practice/AV_1_year/Book_reviews/VA...   \n",
       "4307839  ./data/Exam_practice/AV_1_year/Book_reviews/VA...   \n",
       "4307840  ./data/Exam_practice/AV_1_year/Book_reviews/VA...   \n",
       "4307841  ./data/Exam_practice/AV_1_year/Book_reviews/VA...   \n",
       "4307842  ./data/Exam_practice/AV_1_year/Book_reviews/VA...   \n",
       "4307843  ./data/Exam_practice/AV_1_year/Book_reviews/VA...   \n",
       "4307844  ./data/Exam_practice/AV_1_year/Book_reviews/VA...   \n",
       "4307845  ./data/Exam_practice/AV_1_year/Book_reviews/VA...   \n",
       "4307846  ./data/Exam_practice/AV_1_year/Book_reviews/VA...   \n",
       "\n",
       "                                                      line  \n",
       "0         People now fully enjoy the benefits this age ...  \n",
       "1         What people often fail to notice, however, is...  \n",
       "2         Perhaps it is now the right time to conceive ...  \n",
       "3         The debate on the topic is quite heated and m...  \n",
       "4         The critics claim that huge market shares all...  \n",
       "5         Secondly, the critics are often concerned wit...  \n",
       "6         Finally, many of the speakers, for example, J...  \n",
       "7         Ultimately, speakers from this side call for ...  \n",
       "8         The other side of the debate stands against t...  \n",
       "9         There are several lines of reasoning the spea...  \n",
       "10        Huge tech companies of today are also often c...  \n",
       "11        Moreover, a small number of big companies is ...  \n",
       "12        Finally, the defenders of the tech giants sug...  \n",
       "13        The debate keeps raging on, as it clearly doe...  \n",
       "14        Personally, I agree with the latter. In my op...  \n",
       "15                            T1\\tPrepositions 60 64\\tfrom  \n",
       "16                               #1\\tAnnotatorNotes T1\\tof  \n",
       "17                        T2\\tRedundant_comp 79 85\\tgroups  \n",
       "18                                           A1\\tDelete T2  \n",
       "19                              T3\\tNoun_number 75 78\\tage  \n",
       "20                             #2\\tAnnotatorNotes T3\\tages  \n",
       "21                  R1\\tDependent_change Arg1:T2 Arg2:T3\\t  \n",
       "22                  R2\\tDependent_change Arg1:T3 Arg2:T1\\t  \n",
       "23                            T4\\tSpelling 177 183\\tnetwor  \n",
       "24                          #3\\tAnnotatorNotes T4\\tnetwork  \n",
       "25                            T5\\tQuantifiers 243 246\\tany  \n",
       "26                              #4\\tAnnotatorNotes T5\\tall  \n",
       "27                           T6\\tPrepositions 184 187\\tfor  \n",
       "28                               #5\\tAnnotatorNotes T6\\tin  \n",
       "29             T7\\tAbsence_explanation 192 202\\tthe groups  \n",
       "...                                                    ...  \n",
       "4307817                          T666\\tNOUN 3224 3227\\tera  \n",
       "4307818           #665\\tAnnotatorNotes T666\\tlemma = 'era'  \n",
       "4307819                        T667\\tSCONJ 3228 3232\\twhen  \n",
       "4307820          #666\\tAnnotatorNotes T667\\tlemma = 'when'  \n",
       "4307821                          T668\\tPRON 3233 3236\\tyou  \n",
       "4307822           #667\\tAnnotatorNotes T668\\tlemma = 'you'  \n",
       "4307823                     T669\\tNOUN 3237 3245\\tquestion  \n",
       "4307824      #668\\tAnnotatorNotes T669\\tlemma = 'question'  \n",
       "4307825                   T670\\tNOUN 3246 3256\\teverything  \n",
       "4307826    #669\\tAnnotatorNotes T670\\tlemma = 'everything'  \n",
       "4307827                         T671\\tCCONJ 3257 3260\\tand  \n",
       "4307828           #670\\tAnnotatorNotes T671\\tlemma = 'and'  \n",
       "4307829                   T672\\tNOUN 3261 3271\\texperience  \n",
       "4307830    #671\\tAnnotatorNotes T672\\tlemma = 'experience'  \n",
       "4307831                             T673\\tDET 3272 3273\\ta  \n",
       "4307832             #672\\tAnnotatorNotes T673\\tlemma = 'a'  \n",
       "4307833                          T674\\tNOUN 3274 3277\\tlot  \n",
       "4307834           #673\\tAnnotatorNotes T674\\tlemma = 'lot'  \n",
       "4307835                            T675\\tADP 3278 3280\\tof  \n",
       "4307836            #674\\tAnnotatorNotes T675\\tlemma = 'of'  \n",
       "4307837                    T676\\tNOUN 3281 3290\\tconflicts  \n",
       "4307838      #675\\tAnnotatorNotes T676\\tlemma = 'conflict'  \n",
       "4307839                        T677\\tADP 3291 3297\\tinside  \n",
       "4307840        #676\\tAnnotatorNotes T677\\tlemma = 'inside'  \n",
       "4307841                          T678\\tDET 3298 3302\\tyour  \n",
       "4307842           #677\\tAnnotatorNotes T678\\tlemma = 'you'  \n",
       "4307843                      T679\\tNOUN 3303 3310\\tpsyches  \n",
       "4307844         #678\\tAnnotatorNotes T679\\tlemma = 'psych'  \n",
       "4307845                           T680\\tPUNCT 3310 3311\\t.  \n",
       "4307846             #679\\tAnnotatorNotes T680\\tlemma = '.'  \n",
       "\n",
       "[4307847 rows x 2 columns]"
      ]
     },
     "execution_count": 6,
     "metadata": {
      "tags": []
     },
     "output_type": "execute_result"
    }
   ],
   "source": [
    "all_entries"
   ]
  },
  {
   "cell_type": "markdown",
   "metadata": {
    "colab_type": "text",
    "id": "XjjwaJ3wD9XA"
   },
   "source": [
    "Back to work. Now let's figure out it there are any entries which don't follow the regular pattern."
   ]
  },
  {
   "cell_type": "code",
   "execution_count": 7,
   "metadata": {
    "colab": {
     "base_uri": "https://localhost:8080/",
     "height": 52
    },
    "colab_type": "code",
    "executionInfo": {
     "elapsed": 6604,
     "status": "ok",
     "timestamp": 1556383399351,
     "user": {
      "displayName": "Ivan Torubarov",
      "photoUrl": "",
      "userId": "07481003931234110333"
     },
     "user_tz": -180
    },
    "id": "Dj7mj2Z21R3T",
    "outputId": "7d909ff4-61b3-4f24-e90f-1d365b779098"
   },
   "outputs": [
    {
     "name": "stdout",
     "output_type": "stream",
     "text": [
      "CPU times: user 5.47 s, sys: 162 ms, total: 5.63 s\n",
      "Wall time: 5.69 s\n"
     ]
    }
   ],
   "source": [
    "%%time\n",
    "\n",
    "atypical_entries = pd.DataFrame({\n",
    "    'path': [],\n",
    "    'line': []\n",
    "})\n",
    "\n",
    "for root, dirs, files in os.walk('.'):\n",
    "  for file in os.listdir(root):\n",
    "    if file.endswith(\".ann\"):\n",
    "      path = root+os.sep+file\n",
    "      with open(path, 'r', encoding='utf-8') as annfile:\n",
    "        lines = annfile.read().split('\\n')\n",
    "        for line in lines:\n",
    "          if line != \"\":\n",
    "            if not re.search(r'^.[0-9]+\\t', line):\n",
    "              atypical_entries.loc[len(atypical_entries)] = [path, line]"
   ]
  },
  {
   "cell_type": "code",
   "execution_count": 8,
   "metadata": {
    "colab": {
     "base_uri": "https://localhost:8080/",
     "height": 1882
    },
    "colab_type": "code",
    "executionInfo": {
     "elapsed": 1608,
     "status": "ok",
     "timestamp": 1556383403443,
     "user": {
      "displayName": "Ivan Torubarov",
      "photoUrl": "",
      "userId": "07481003931234110333"
     },
     "user_tz": -180
    },
    "id": "q-rej7Tm-6mn",
    "outputId": "747eab87-13aa-40b3-80c6-0e778c20223c"
   },
   "outputs": [
    {
     "data": {
      "text/html": [
       "<div>\n",
       "<style scoped>\n",
       "    .dataframe tbody tr th:only-of-type {\n",
       "        vertical-align: middle;\n",
       "    }\n",
       "\n",
       "    .dataframe tbody tr th {\n",
       "        vertical-align: top;\n",
       "    }\n",
       "\n",
       "    .dataframe thead th {\n",
       "        text-align: right;\n",
       "    }\n",
       "</style>\n",
       "<table border=\"1\" class=\"dataframe\">\n",
       "  <thead>\n",
       "    <tr style=\"text-align: right;\">\n",
       "      <th></th>\n",
       "      <th>path</th>\n",
       "      <th>line</th>\n",
       "    </tr>\n",
       "  </thead>\n",
       "  <tbody>\n",
       "    <tr>\n",
       "      <th>0</th>\n",
       "      <td>./data/MAGOLEGO/2018/Student_36_MT.ann</td>\n",
       "      <td>People now fully enjoy the benefits this age ...</td>\n",
       "    </tr>\n",
       "    <tr>\n",
       "      <th>1</th>\n",
       "      <td>./data/MAGOLEGO/2018/Student_36_MT.ann</td>\n",
       "      <td>What people often fail to notice, however, is...</td>\n",
       "    </tr>\n",
       "    <tr>\n",
       "      <th>2</th>\n",
       "      <td>./data/MAGOLEGO/2018/Student_36_MT.ann</td>\n",
       "      <td>Perhaps it is now the right time to conceive ...</td>\n",
       "    </tr>\n",
       "    <tr>\n",
       "      <th>3</th>\n",
       "      <td>./data/MAGOLEGO/2018/Student_36_MT.ann</td>\n",
       "      <td>The debate on the topic is quite heated and m...</td>\n",
       "    </tr>\n",
       "    <tr>\n",
       "      <th>4</th>\n",
       "      <td>./data/MAGOLEGO/2018/Student_36_MT.ann</td>\n",
       "      <td>The critics claim that huge market shares all...</td>\n",
       "    </tr>\n",
       "    <tr>\n",
       "      <th>5</th>\n",
       "      <td>./data/MAGOLEGO/2018/Student_36_MT.ann</td>\n",
       "      <td>Secondly, the critics are often concerned wit...</td>\n",
       "    </tr>\n",
       "    <tr>\n",
       "      <th>6</th>\n",
       "      <td>./data/MAGOLEGO/2018/Student_36_MT.ann</td>\n",
       "      <td>Finally, many of the speakers, for example, J...</td>\n",
       "    </tr>\n",
       "    <tr>\n",
       "      <th>7</th>\n",
       "      <td>./data/MAGOLEGO/2018/Student_36_MT.ann</td>\n",
       "      <td>Ultimately, speakers from this side call for ...</td>\n",
       "    </tr>\n",
       "    <tr>\n",
       "      <th>8</th>\n",
       "      <td>./data/MAGOLEGO/2018/Student_36_MT.ann</td>\n",
       "      <td>The other side of the debate stands against t...</td>\n",
       "    </tr>\n",
       "    <tr>\n",
       "      <th>9</th>\n",
       "      <td>./data/MAGOLEGO/2018/Student_36_MT.ann</td>\n",
       "      <td>There are several lines of reasoning the spea...</td>\n",
       "    </tr>\n",
       "    <tr>\n",
       "      <th>10</th>\n",
       "      <td>./data/MAGOLEGO/2018/Student_36_MT.ann</td>\n",
       "      <td>Huge tech companies of today are also often c...</td>\n",
       "    </tr>\n",
       "    <tr>\n",
       "      <th>11</th>\n",
       "      <td>./data/MAGOLEGO/2018/Student_36_MT.ann</td>\n",
       "      <td>Moreover, a small number of big companies is ...</td>\n",
       "    </tr>\n",
       "    <tr>\n",
       "      <th>12</th>\n",
       "      <td>./data/MAGOLEGO/2018/Student_36_MT.ann</td>\n",
       "      <td>Finally, the defenders of the tech giants sug...</td>\n",
       "    </tr>\n",
       "    <tr>\n",
       "      <th>13</th>\n",
       "      <td>./data/MAGOLEGO/2018/Student_36_MT.ann</td>\n",
       "      <td>The debate keeps raging on, as it clearly doe...</td>\n",
       "    </tr>\n",
       "    <tr>\n",
       "      <th>14</th>\n",
       "      <td>./data/MAGOLEGO/2018/Student_36_MT.ann</td>\n",
       "      <td>Personally, I agree with the latter. In my op...</td>\n",
       "    </tr>\n",
       "    <tr>\n",
       "      <th>15</th>\n",
       "      <td>./data/exam/exam2017_5_1/EGe_7_2.ann</td>\n",
       "      <td>(</td>\n",
       "    </tr>\n",
       "    <tr>\n",
       "      <th>16</th>\n",
       "      <td>./data/exam/exam2017_5_1/EGe_98_1.ann</td>\n",
       "      <td>In details, in 2014 year print market got abou...</td>\n",
       "    </tr>\n",
       "    <tr>\n",
       "      <th>17</th>\n",
       "      <td>./data/exam/exam2017_5_1/EGe_117_1.ann</td>\n",
       "      <td>It can be clearly seen from the graph that you...</td>\n",
       "    </tr>\n",
       "    <tr>\n",
       "      <th>18</th>\n",
       "      <td>./data/exam/exam2017/OBy_28_2.ann</td>\n",
       "      <td>Nowadays all of us has modern gedjets, mobile ...</td>\n",
       "    </tr>\n",
       "    <tr>\n",
       "      <th>19</th>\n",
       "      <td>./data/exam/exam2017/OBy_28_2.ann</td>\n",
       "      <td>It is clearly seen that people should pay atte...</td>\n",
       "    </tr>\n",
       "    <tr>\n",
       "      <th>20</th>\n",
       "      <td>./data/exam/exam2017/EGe_135_2.ann</td>\n",
       "      <td>Personally I agree with this view, beacause th...</td>\n",
       "    </tr>\n",
       "    <tr>\n",
       "      <th>21</th>\n",
       "      <td>./data/exam/exam2017/EGe_135_2.ann</td>\n",
       "      <td>On the other hand there are people who can't i...</td>\n",
       "    </tr>\n",
       "    <tr>\n",
       "      <th>22</th>\n",
       "      <td>./data/exam/exam2017/EGe_135_2.ann</td>\n",
       "      <td>It seems to me, the only competitions that the...</td>\n",
       "    </tr>\n",
       "    <tr>\n",
       "      <th>23</th>\n",
       "      <td>./data/exam/exam2017/OBy_136_2.ann</td>\n",
       "      <td>From one hand it is better for economics insid...</td>\n",
       "    </tr>\n",
       "    <tr>\n",
       "      <th>24</th>\n",
       "      <td>./data/exam/exam2017/OBy_136_2.ann</td>\n",
       "      <td>But from another hand some countries experts i...</td>\n",
       "    </tr>\n",
       "    <tr>\n",
       "      <th>25</th>\n",
       "      <td>./data/exam/exam2017/OBy_136_2.ann</td>\n",
       "      <td>Furthermore it might help with economic inside...</td>\n",
       "    </tr>\n",
       "    <tr>\n",
       "      <th>26</th>\n",
       "      <td>./data/exam/exam2017_5_2/EGe_172_2.ann</td>\n",
       "      <td>But of course governments should support</td>\n",
       "    </tr>\n",
       "    <tr>\n",
       "      <th>27</th>\n",
       "      <td>./data/exam/exam2015/KT_10_1.ann</td>\n",
       "      <td>Generaly speaking, it is seen that both compar...</td>\n",
       "    </tr>\n",
       "    <tr>\n",
       "      <th>28</th>\n",
       "      <td>./data/exam/exam2015/KT_10_1.ann</td>\n",
       "      <td>To sum up, it must be said that household Inte...</td>\n",
       "    </tr>\n",
       "    <tr>\n",
       "      <th>29</th>\n",
       "      <td>./data/exam/exam2016/MTsy_48_1.ann</td>\n",
       "      <td>As we can see the huge amount of children both...</td>\n",
       "    </tr>\n",
       "    <tr>\n",
       "      <th>...</th>\n",
       "      <td>...</td>\n",
       "      <td>...</td>\n",
       "    </tr>\n",
       "    <tr>\n",
       "      <th>131</th>\n",
       "      <td>./data/old IELTS/IELTS2015/EZa_96_2.ann</td>\n",
       "      <td>In\\t</td>\n",
       "    </tr>\n",
       "    <tr>\n",
       "      <th>132</th>\n",
       "      <td>./data/old IELTS/IELTS2015/EZa_96_2.ann</td>\n",
       "      <td>In\\t</td>\n",
       "    </tr>\n",
       "    <tr>\n",
       "      <th>133</th>\n",
       "      <td>./data/old IELTS/IELTS2015/EZa_96_2.ann</td>\n",
       "      <td>In\\t</td>\n",
       "    </tr>\n",
       "    <tr>\n",
       "      <th>134</th>\n",
       "      <td>./data/old IELTS/IELTS2015/EZa_96_2.ann</td>\n",
       "      <td>In\\t</td>\n",
       "    </tr>\n",
       "    <tr>\n",
       "      <th>135</th>\n",
       "      <td>./data/old IELTS/IELTS2015/EZa_96_2.ann</td>\n",
       "      <td>In\\t</td>\n",
       "    </tr>\n",
       "    <tr>\n",
       "      <th>136</th>\n",
       "      <td>./data/old IELTS/IELTS2015/EZa_96_2.ann</td>\n",
       "      <td>In\\t</td>\n",
       "    </tr>\n",
       "    <tr>\n",
       "      <th>137</th>\n",
       "      <td>./data/old IELTS/IELTS2015/EZa_96_2.ann</td>\n",
       "      <td>In\\t</td>\n",
       "    </tr>\n",
       "    <tr>\n",
       "      <th>138</th>\n",
       "      <td>./data/old IELTS/IELTS2015/EZa_96_2.ann</td>\n",
       "      <td>In\\t</td>\n",
       "    </tr>\n",
       "    <tr>\n",
       "      <th>139</th>\n",
       "      <td>./data/old IELTS/IELTS2015/EZa_96_2.ann</td>\n",
       "      <td>In\\t</td>\n",
       "    </tr>\n",
       "    <tr>\n",
       "      <th>140</th>\n",
       "      <td>./data/old IELTS/IELTS2015/EZa_96_2.ann</td>\n",
       "      <td>In\\t</td>\n",
       "    </tr>\n",
       "    <tr>\n",
       "      <th>141</th>\n",
       "      <td>./data/old IELTS/IELTS2015/EZa_96_2.ann</td>\n",
       "      <td>In\\t</td>\n",
       "    </tr>\n",
       "    <tr>\n",
       "      <th>142</th>\n",
       "      <td>./data/old IELTS/IELTS2015/EZa_96_2.ann</td>\n",
       "      <td>In\\t</td>\n",
       "    </tr>\n",
       "    <tr>\n",
       "      <th>143</th>\n",
       "      <td>./data/old IELTS/IELTS2015/EZa_96_2.ann</td>\n",
       "      <td>In\\t</td>\n",
       "    </tr>\n",
       "    <tr>\n",
       "      <th>144</th>\n",
       "      <td>./data/old IELTS/IELTS2015/EZa_96_2.ann</td>\n",
       "      <td>In\\t</td>\n",
       "    </tr>\n",
       "    <tr>\n",
       "      <th>145</th>\n",
       "      <td>./data/old IELTS/IELTS2015/EZa_96_2.ann</td>\n",
       "      <td>In\\t</td>\n",
       "    </tr>\n",
       "    <tr>\n",
       "      <th>146</th>\n",
       "      <td>./data/old IELTS/IELTS2015/EZa_96_2.ann</td>\n",
       "      <td>In\\t</td>\n",
       "    </tr>\n",
       "    <tr>\n",
       "      <th>147</th>\n",
       "      <td>./data/old IELTS/IELTS2015/EZa_96_2.ann</td>\n",
       "      <td>In\\t</td>\n",
       "    </tr>\n",
       "    <tr>\n",
       "      <th>148</th>\n",
       "      <td>./data/old IELTS/IELTS2015/EZa_96_2.ann</td>\n",
       "      <td>In\\t</td>\n",
       "    </tr>\n",
       "    <tr>\n",
       "      <th>149</th>\n",
       "      <td>./data/old IELTS/IELTS2015/EZa_96_2.ann</td>\n",
       "      <td>In\\t</td>\n",
       "    </tr>\n",
       "    <tr>\n",
       "      <th>150</th>\n",
       "      <td>./data/old IELTS/IELTS2015/EZa_96_2.ann</td>\n",
       "      <td>To\\t</td>\n",
       "    </tr>\n",
       "    <tr>\n",
       "      <th>151</th>\n",
       "      <td>./data/old IELTS/IELTS2016/TSha_7_1.ann</td>\n",
       "      <td>The population of old people in Japan hit the ...</td>\n",
       "    </tr>\n",
       "    <tr>\n",
       "      <th>152</th>\n",
       "      <td>./data/old IELTS/IELTS2016/TSha_6_1.ann</td>\n",
       "      <td>At the beginning of the perio</td>\n",
       "    </tr>\n",
       "    <tr>\n",
       "      <th>153</th>\n",
       "      <td>./data/old IELTS/IELTS2016/TSha_13_2.ann</td>\n",
       "      <td>Firstly, the percentage of women in some facul...</td>\n",
       "    </tr>\n",
       "    <tr>\n",
       "      <th>154</th>\n",
       "      <td>./data/old IELTS/IELTS2016/MTsy_16_2.ann</td>\n",
       "      <td>*\\tRelated T16 T27</td>\n",
       "    </tr>\n",
       "    <tr>\n",
       "      <th>155</th>\n",
       "      <td>./data/old IELTS/IELTS2016/MTsy_16_2.ann</td>\n",
       "      <td>*\\tRelated T26 T42</td>\n",
       "    </tr>\n",
       "    <tr>\n",
       "      <th>156</th>\n",
       "      <td>./data/old IELTS/IELTS2016/TSha_8_2.ann</td>\n",
       "      <td>Firstly, if there is an unequality between gir...</td>\n",
       "    </tr>\n",
       "    <tr>\n",
       "      <th>157</th>\n",
       "      <td>./data/old IELTS/IELTS2016/TSha_8_2.ann</td>\n",
       "      <td>On the other hand, there is an opinion that eq...</td>\n",
       "    </tr>\n",
       "    <tr>\n",
       "      <th>158</th>\n",
       "      <td>./data/old IELTS/IELTS2016/best_works/3_2.ann</td>\n",
       "      <td>On the other hand, social media also became si...</td>\n",
       "    </tr>\n",
       "    <tr>\n",
       "      <th>159</th>\n",
       "      <td>./data/Academic_Writing/2_exercise/student27.ann</td>\n",
       "      <td>*\\tRelated T4 T3 T5</td>\n",
       "    </tr>\n",
       "    <tr>\n",
       "      <th>160</th>\n",
       "      <td>./data/Exam_practice/OV_2_year/essays_it/st_94...</td>\n",
       "      <td>anima</td>\n",
       "    </tr>\n",
       "  </tbody>\n",
       "</table>\n",
       "<p>161 rows × 2 columns</p>\n",
       "</div>"
      ],
      "text/plain": [
       "                                                  path  \\\n",
       "0               ./data/MAGOLEGO/2018/Student_36_MT.ann   \n",
       "1               ./data/MAGOLEGO/2018/Student_36_MT.ann   \n",
       "2               ./data/MAGOLEGO/2018/Student_36_MT.ann   \n",
       "3               ./data/MAGOLEGO/2018/Student_36_MT.ann   \n",
       "4               ./data/MAGOLEGO/2018/Student_36_MT.ann   \n",
       "5               ./data/MAGOLEGO/2018/Student_36_MT.ann   \n",
       "6               ./data/MAGOLEGO/2018/Student_36_MT.ann   \n",
       "7               ./data/MAGOLEGO/2018/Student_36_MT.ann   \n",
       "8               ./data/MAGOLEGO/2018/Student_36_MT.ann   \n",
       "9               ./data/MAGOLEGO/2018/Student_36_MT.ann   \n",
       "10              ./data/MAGOLEGO/2018/Student_36_MT.ann   \n",
       "11              ./data/MAGOLEGO/2018/Student_36_MT.ann   \n",
       "12              ./data/MAGOLEGO/2018/Student_36_MT.ann   \n",
       "13              ./data/MAGOLEGO/2018/Student_36_MT.ann   \n",
       "14              ./data/MAGOLEGO/2018/Student_36_MT.ann   \n",
       "15                ./data/exam/exam2017_5_1/EGe_7_2.ann   \n",
       "16               ./data/exam/exam2017_5_1/EGe_98_1.ann   \n",
       "17              ./data/exam/exam2017_5_1/EGe_117_1.ann   \n",
       "18                   ./data/exam/exam2017/OBy_28_2.ann   \n",
       "19                   ./data/exam/exam2017/OBy_28_2.ann   \n",
       "20                  ./data/exam/exam2017/EGe_135_2.ann   \n",
       "21                  ./data/exam/exam2017/EGe_135_2.ann   \n",
       "22                  ./data/exam/exam2017/EGe_135_2.ann   \n",
       "23                  ./data/exam/exam2017/OBy_136_2.ann   \n",
       "24                  ./data/exam/exam2017/OBy_136_2.ann   \n",
       "25                  ./data/exam/exam2017/OBy_136_2.ann   \n",
       "26              ./data/exam/exam2017_5_2/EGe_172_2.ann   \n",
       "27                    ./data/exam/exam2015/KT_10_1.ann   \n",
       "28                    ./data/exam/exam2015/KT_10_1.ann   \n",
       "29                  ./data/exam/exam2016/MTsy_48_1.ann   \n",
       "..                                                 ...   \n",
       "131            ./data/old IELTS/IELTS2015/EZa_96_2.ann   \n",
       "132            ./data/old IELTS/IELTS2015/EZa_96_2.ann   \n",
       "133            ./data/old IELTS/IELTS2015/EZa_96_2.ann   \n",
       "134            ./data/old IELTS/IELTS2015/EZa_96_2.ann   \n",
       "135            ./data/old IELTS/IELTS2015/EZa_96_2.ann   \n",
       "136            ./data/old IELTS/IELTS2015/EZa_96_2.ann   \n",
       "137            ./data/old IELTS/IELTS2015/EZa_96_2.ann   \n",
       "138            ./data/old IELTS/IELTS2015/EZa_96_2.ann   \n",
       "139            ./data/old IELTS/IELTS2015/EZa_96_2.ann   \n",
       "140            ./data/old IELTS/IELTS2015/EZa_96_2.ann   \n",
       "141            ./data/old IELTS/IELTS2015/EZa_96_2.ann   \n",
       "142            ./data/old IELTS/IELTS2015/EZa_96_2.ann   \n",
       "143            ./data/old IELTS/IELTS2015/EZa_96_2.ann   \n",
       "144            ./data/old IELTS/IELTS2015/EZa_96_2.ann   \n",
       "145            ./data/old IELTS/IELTS2015/EZa_96_2.ann   \n",
       "146            ./data/old IELTS/IELTS2015/EZa_96_2.ann   \n",
       "147            ./data/old IELTS/IELTS2015/EZa_96_2.ann   \n",
       "148            ./data/old IELTS/IELTS2015/EZa_96_2.ann   \n",
       "149            ./data/old IELTS/IELTS2015/EZa_96_2.ann   \n",
       "150            ./data/old IELTS/IELTS2015/EZa_96_2.ann   \n",
       "151            ./data/old IELTS/IELTS2016/TSha_7_1.ann   \n",
       "152            ./data/old IELTS/IELTS2016/TSha_6_1.ann   \n",
       "153           ./data/old IELTS/IELTS2016/TSha_13_2.ann   \n",
       "154           ./data/old IELTS/IELTS2016/MTsy_16_2.ann   \n",
       "155           ./data/old IELTS/IELTS2016/MTsy_16_2.ann   \n",
       "156            ./data/old IELTS/IELTS2016/TSha_8_2.ann   \n",
       "157            ./data/old IELTS/IELTS2016/TSha_8_2.ann   \n",
       "158      ./data/old IELTS/IELTS2016/best_works/3_2.ann   \n",
       "159   ./data/Academic_Writing/2_exercise/student27.ann   \n",
       "160  ./data/Exam_practice/OV_2_year/essays_it/st_94...   \n",
       "\n",
       "                                                  line  \n",
       "0     People now fully enjoy the benefits this age ...  \n",
       "1     What people often fail to notice, however, is...  \n",
       "2     Perhaps it is now the right time to conceive ...  \n",
       "3     The debate on the topic is quite heated and m...  \n",
       "4     The critics claim that huge market shares all...  \n",
       "5     Secondly, the critics are often concerned wit...  \n",
       "6     Finally, many of the speakers, for example, J...  \n",
       "7     Ultimately, speakers from this side call for ...  \n",
       "8     The other side of the debate stands against t...  \n",
       "9     There are several lines of reasoning the spea...  \n",
       "10    Huge tech companies of today are also often c...  \n",
       "11    Moreover, a small number of big companies is ...  \n",
       "12    Finally, the defenders of the tech giants sug...  \n",
       "13    The debate keeps raging on, as it clearly doe...  \n",
       "14    Personally, I agree with the latter. In my op...  \n",
       "15                                                   (  \n",
       "16   In details, in 2014 year print market got abou...  \n",
       "17   It can be clearly seen from the graph that you...  \n",
       "18   Nowadays all of us has modern gedjets, mobile ...  \n",
       "19   It is clearly seen that people should pay atte...  \n",
       "20   Personally I agree with this view, beacause th...  \n",
       "21   On the other hand there are people who can't i...  \n",
       "22   It seems to me, the only competitions that the...  \n",
       "23   From one hand it is better for economics insid...  \n",
       "24   But from another hand some countries experts i...  \n",
       "25   Furthermore it might help with economic inside...  \n",
       "26            But of course governments should support  \n",
       "27   Generaly speaking, it is seen that both compar...  \n",
       "28   To sum up, it must be said that household Inte...  \n",
       "29   As we can see the huge amount of children both...  \n",
       "..                                                 ...  \n",
       "131                                               In\\t  \n",
       "132                                               In\\t  \n",
       "133                                               In\\t  \n",
       "134                                               In\\t  \n",
       "135                                               In\\t  \n",
       "136                                               In\\t  \n",
       "137                                               In\\t  \n",
       "138                                               In\\t  \n",
       "139                                               In\\t  \n",
       "140                                               In\\t  \n",
       "141                                               In\\t  \n",
       "142                                               In\\t  \n",
       "143                                               In\\t  \n",
       "144                                               In\\t  \n",
       "145                                               In\\t  \n",
       "146                                               In\\t  \n",
       "147                                               In\\t  \n",
       "148                                               In\\t  \n",
       "149                                               In\\t  \n",
       "150                                               To\\t  \n",
       "151  The population of old people in Japan hit the ...  \n",
       "152                      At the beginning of the perio  \n",
       "153  Firstly, the percentage of women in some facul...  \n",
       "154                                 *\\tRelated T16 T27  \n",
       "155                                 *\\tRelated T26 T42  \n",
       "156  Firstly, if there is an unequality between gir...  \n",
       "157  On the other hand, there is an opinion that eq...  \n",
       "158  On the other hand, social media also became si...  \n",
       "159                                *\\tRelated T4 T3 T5  \n",
       "160                                              anima  \n",
       "\n",
       "[161 rows x 2 columns]"
      ]
     },
     "execution_count": 8,
     "metadata": {
      "tags": []
     },
     "output_type": "execute_result"
    }
   ],
   "source": [
    "atypical_entries"
   ]
  },
  {
   "cell_type": "markdown",
   "metadata": {
    "colab_type": "text",
    "id": "AhoRimbUFNQM"
   },
   "source": [
    "Let's just remove those from our general set so we don't have to worry about them afterwards. We'll also test for the time such an operation takes here."
   ]
  },
  {
   "cell_type": "code",
   "execution_count": 9,
   "metadata": {
    "colab": {
     "base_uri": "https://localhost:8080/",
     "height": 52
    },
    "colab_type": "code",
    "executionInfo": {
     "elapsed": 5465,
     "status": "ok",
     "timestamp": 1556383414547,
     "user": {
      "displayName": "Ivan Torubarov",
      "photoUrl": "",
      "userId": "07481003931234110333"
     },
     "user_tz": -180
    },
    "id": "SPfZ8qQfFcqg",
    "outputId": "cda8c19d-bed7-479b-986d-b38e689a24be"
   },
   "outputs": [
    {
     "name": "stdout",
     "output_type": "stream",
     "text": [
      "CPU times: user 4.54 s, sys: 273 ms, total: 4.82 s\n",
      "Wall time: 4.83 s\n"
     ]
    }
   ],
   "source": [
    "%%time\n",
    "\n",
    "all_entries = pd.concat([all_entries, atypical_entries]).drop_duplicates(keep=False)"
   ]
  },
  {
   "cell_type": "markdown",
   "metadata": {
    "colab_type": "text",
    "id": "P2r4eR6qFsVc"
   },
   "source": [
    "Let's check if ```all_entries``` size has changed:\n"
   ]
  },
  {
   "cell_type": "code",
   "execution_count": 10,
   "metadata": {
    "colab": {
     "base_uri": "https://localhost:8080/",
     "height": 1882
    },
    "colab_type": "code",
    "executionInfo": {
     "elapsed": 704,
     "status": "ok",
     "timestamp": 1556383457319,
     "user": {
      "displayName": "Ivan Torubarov",
      "photoUrl": "",
      "userId": "07481003931234110333"
     },
     "user_tz": -180
    },
    "id": "z5aWLuFdlOWX",
    "outputId": "c6264189-d66a-49b4-8d4c-2676b6f9b531"
   },
   "outputs": [
    {
     "data": {
      "text/html": [
       "<div>\n",
       "<style scoped>\n",
       "    .dataframe tbody tr th:only-of-type {\n",
       "        vertical-align: middle;\n",
       "    }\n",
       "\n",
       "    .dataframe tbody tr th {\n",
       "        vertical-align: top;\n",
       "    }\n",
       "\n",
       "    .dataframe thead th {\n",
       "        text-align: right;\n",
       "    }\n",
       "</style>\n",
       "<table border=\"1\" class=\"dataframe\">\n",
       "  <thead>\n",
       "    <tr style=\"text-align: right;\">\n",
       "      <th></th>\n",
       "      <th>path</th>\n",
       "      <th>line</th>\n",
       "    </tr>\n",
       "  </thead>\n",
       "  <tbody>\n",
       "    <tr>\n",
       "      <th>15</th>\n",
       "      <td>./data/exam/exam2017_3/DOv_7_1.ann</td>\n",
       "      <td>T1\\tPrepositions 60 64\\tfrom</td>\n",
       "    </tr>\n",
       "    <tr>\n",
       "      <th>16</th>\n",
       "      <td>./data/exam/exam2017_3/DOv_7_1.ann</td>\n",
       "      <td>#1\\tAnnotatorNotes T1\\tof</td>\n",
       "    </tr>\n",
       "    <tr>\n",
       "      <th>17</th>\n",
       "      <td>./data/exam/exam2017_3/DOv_7_1.ann</td>\n",
       "      <td>T2\\tRedundant_comp 79 85\\tgroups</td>\n",
       "    </tr>\n",
       "    <tr>\n",
       "      <th>18</th>\n",
       "      <td>./data/exam/exam2017_3/DOv_7_1.ann</td>\n",
       "      <td>A1\\tDelete T2</td>\n",
       "    </tr>\n",
       "    <tr>\n",
       "      <th>19</th>\n",
       "      <td>./data/exam/exam2017_3/DOv_7_1.ann</td>\n",
       "      <td>T3\\tNoun_number 75 78\\tage</td>\n",
       "    </tr>\n",
       "    <tr>\n",
       "      <th>20</th>\n",
       "      <td>./data/exam/exam2017_3/DOv_7_1.ann</td>\n",
       "      <td>#2\\tAnnotatorNotes T3\\tages</td>\n",
       "    </tr>\n",
       "    <tr>\n",
       "      <th>21</th>\n",
       "      <td>./data/exam/exam2017_3/DOv_7_1.ann</td>\n",
       "      <td>R1\\tDependent_change Arg1:T2 Arg2:T3\\t</td>\n",
       "    </tr>\n",
       "    <tr>\n",
       "      <th>22</th>\n",
       "      <td>./data/exam/exam2017_3/DOv_7_1.ann</td>\n",
       "      <td>R2\\tDependent_change Arg1:T3 Arg2:T1\\t</td>\n",
       "    </tr>\n",
       "    <tr>\n",
       "      <th>23</th>\n",
       "      <td>./data/exam/exam2017_3/DOv_7_1.ann</td>\n",
       "      <td>T4\\tSpelling 177 183\\tnetwor</td>\n",
       "    </tr>\n",
       "    <tr>\n",
       "      <th>24</th>\n",
       "      <td>./data/exam/exam2017_3/DOv_7_1.ann</td>\n",
       "      <td>#3\\tAnnotatorNotes T4\\tnetwork</td>\n",
       "    </tr>\n",
       "    <tr>\n",
       "      <th>25</th>\n",
       "      <td>./data/exam/exam2017_3/DOv_7_1.ann</td>\n",
       "      <td>T5\\tQuantifiers 243 246\\tany</td>\n",
       "    </tr>\n",
       "    <tr>\n",
       "      <th>26</th>\n",
       "      <td>./data/exam/exam2017_3/DOv_7_1.ann</td>\n",
       "      <td>#4\\tAnnotatorNotes T5\\tall</td>\n",
       "    </tr>\n",
       "    <tr>\n",
       "      <th>27</th>\n",
       "      <td>./data/exam/exam2017_3/DOv_7_1.ann</td>\n",
       "      <td>T6\\tPrepositions 184 187\\tfor</td>\n",
       "    </tr>\n",
       "    <tr>\n",
       "      <th>28</th>\n",
       "      <td>./data/exam/exam2017_3/DOv_7_1.ann</td>\n",
       "      <td>#5\\tAnnotatorNotes T6\\tin</td>\n",
       "    </tr>\n",
       "    <tr>\n",
       "      <th>29</th>\n",
       "      <td>./data/exam/exam2017_3/DOv_7_1.ann</td>\n",
       "      <td>T7\\tAbsence_explanation 192 202\\tthe groups</td>\n",
       "    </tr>\n",
       "    <tr>\n",
       "      <th>30</th>\n",
       "      <td>./data/exam/exam2017_3/DOv_7_1.ann</td>\n",
       "      <td>#6\\tAnnotatorNotes T7\\tthe age groups</td>\n",
       "    </tr>\n",
       "    <tr>\n",
       "      <th>31</th>\n",
       "      <td>./data/exam/exam2017_3/DOv_7_1.ann</td>\n",
       "      <td>T8\\tLinking_device 204 206\\tit</td>\n",
       "    </tr>\n",
       "    <tr>\n",
       "      <th>32</th>\n",
       "      <td>./data/exam/exam2017_3/DOv_7_1.ann</td>\n",
       "      <td>#7\\tAnnotatorNotes T8\\tsince</td>\n",
       "    </tr>\n",
       "    <tr>\n",
       "      <th>33</th>\n",
       "      <td>./data/exam/exam2017_3/DOv_7_1.ann</td>\n",
       "      <td>T9\\tInappropriate_register 277 282\\telder</td>\n",
       "    </tr>\n",
       "    <tr>\n",
       "      <th>34</th>\n",
       "      <td>./data/exam/exam2017_3/DOv_7_1.ann</td>\n",
       "      <td>#8\\tAnnotatorNotes T9\\tolder</td>\n",
       "    </tr>\n",
       "    <tr>\n",
       "      <th>35</th>\n",
       "      <td>./data/exam/exam2017_3/DOv_7_1.ann</td>\n",
       "      <td>T10\\tPunctuation 273 296\\tthe elder people become</td>\n",
       "    </tr>\n",
       "    <tr>\n",
       "      <th>36</th>\n",
       "      <td>./data/exam/exam2017_3/DOv_7_1.ann</td>\n",
       "      <td>#9\\tAnnotatorNotes T10\\tthe older people become,</td>\n",
       "    </tr>\n",
       "    <tr>\n",
       "      <th>37</th>\n",
       "      <td>./data/exam/exam2017_3/DOv_7_1.ann</td>\n",
       "      <td>T11\\tAgreement_errors 314 321\\tbecomes</td>\n",
       "    </tr>\n",
       "    <tr>\n",
       "      <th>38</th>\n",
       "      <td>./data/exam/exam2017_3/DOv_7_1.ann</td>\n",
       "      <td>#10\\tAnnotatorNotes T11\\tbecome</td>\n",
       "    </tr>\n",
       "    <tr>\n",
       "      <th>39</th>\n",
       "      <td>./data/exam/exam2017_3/DOv_7_1.ann</td>\n",
       "      <td>T12\\tStandard 314 353\\tbecomes for them facebo...</td>\n",
       "    </tr>\n",
       "    <tr>\n",
       "      <th>40</th>\n",
       "      <td>./data/exam/exam2017_3/DOv_7_1.ann</td>\n",
       "      <td>#11\\tAnnotatorNotes T12\\tFacebook and Instagra...</td>\n",
       "    </tr>\n",
       "    <tr>\n",
       "      <th>41</th>\n",
       "      <td>./data/exam/exam2017_3/DOv_7_1.ann</td>\n",
       "      <td>T13\\tlex_item_choice 290 296\\tbecome</td>\n",
       "    </tr>\n",
       "    <tr>\n",
       "      <th>42</th>\n",
       "      <td>./data/exam/exam2017_3/DOv_7_1.ann</td>\n",
       "      <td>#12\\tAnnotatorNotes T13\\tget</td>\n",
       "    </tr>\n",
       "    <tr>\n",
       "      <th>43</th>\n",
       "      <td>./data/exam/exam2017_3/DOv_7_1.ann</td>\n",
       "      <td>T14\\tPrepositions 322 325\\tfor</td>\n",
       "    </tr>\n",
       "    <tr>\n",
       "      <th>44</th>\n",
       "      <td>./data/exam/exam2017_3/DOv_7_1.ann</td>\n",
       "      <td>#13\\tAnnotatorNotes T14\\tamong</td>\n",
       "    </tr>\n",
       "    <tr>\n",
       "      <th>...</th>\n",
       "      <td>...</td>\n",
       "      <td>...</td>\n",
       "    </tr>\n",
       "    <tr>\n",
       "      <th>4307817</th>\n",
       "      <td>./data/Exam_practice/AV_1_year/Book_reviews/VA...</td>\n",
       "      <td>T666\\tNOUN 3224 3227\\tera</td>\n",
       "    </tr>\n",
       "    <tr>\n",
       "      <th>4307818</th>\n",
       "      <td>./data/Exam_practice/AV_1_year/Book_reviews/VA...</td>\n",
       "      <td>#665\\tAnnotatorNotes T666\\tlemma = 'era'</td>\n",
       "    </tr>\n",
       "    <tr>\n",
       "      <th>4307819</th>\n",
       "      <td>./data/Exam_practice/AV_1_year/Book_reviews/VA...</td>\n",
       "      <td>T667\\tSCONJ 3228 3232\\twhen</td>\n",
       "    </tr>\n",
       "    <tr>\n",
       "      <th>4307820</th>\n",
       "      <td>./data/Exam_practice/AV_1_year/Book_reviews/VA...</td>\n",
       "      <td>#666\\tAnnotatorNotes T667\\tlemma = 'when'</td>\n",
       "    </tr>\n",
       "    <tr>\n",
       "      <th>4307821</th>\n",
       "      <td>./data/Exam_practice/AV_1_year/Book_reviews/VA...</td>\n",
       "      <td>T668\\tPRON 3233 3236\\tyou</td>\n",
       "    </tr>\n",
       "    <tr>\n",
       "      <th>4307822</th>\n",
       "      <td>./data/Exam_practice/AV_1_year/Book_reviews/VA...</td>\n",
       "      <td>#667\\tAnnotatorNotes T668\\tlemma = 'you'</td>\n",
       "    </tr>\n",
       "    <tr>\n",
       "      <th>4307823</th>\n",
       "      <td>./data/Exam_practice/AV_1_year/Book_reviews/VA...</td>\n",
       "      <td>T669\\tNOUN 3237 3245\\tquestion</td>\n",
       "    </tr>\n",
       "    <tr>\n",
       "      <th>4307824</th>\n",
       "      <td>./data/Exam_practice/AV_1_year/Book_reviews/VA...</td>\n",
       "      <td>#668\\tAnnotatorNotes T669\\tlemma = 'question'</td>\n",
       "    </tr>\n",
       "    <tr>\n",
       "      <th>4307825</th>\n",
       "      <td>./data/Exam_practice/AV_1_year/Book_reviews/VA...</td>\n",
       "      <td>T670\\tNOUN 3246 3256\\teverything</td>\n",
       "    </tr>\n",
       "    <tr>\n",
       "      <th>4307826</th>\n",
       "      <td>./data/Exam_practice/AV_1_year/Book_reviews/VA...</td>\n",
       "      <td>#669\\tAnnotatorNotes T670\\tlemma = 'everything'</td>\n",
       "    </tr>\n",
       "    <tr>\n",
       "      <th>4307827</th>\n",
       "      <td>./data/Exam_practice/AV_1_year/Book_reviews/VA...</td>\n",
       "      <td>T671\\tCCONJ 3257 3260\\tand</td>\n",
       "    </tr>\n",
       "    <tr>\n",
       "      <th>4307828</th>\n",
       "      <td>./data/Exam_practice/AV_1_year/Book_reviews/VA...</td>\n",
       "      <td>#670\\tAnnotatorNotes T671\\tlemma = 'and'</td>\n",
       "    </tr>\n",
       "    <tr>\n",
       "      <th>4307829</th>\n",
       "      <td>./data/Exam_practice/AV_1_year/Book_reviews/VA...</td>\n",
       "      <td>T672\\tNOUN 3261 3271\\texperience</td>\n",
       "    </tr>\n",
       "    <tr>\n",
       "      <th>4307830</th>\n",
       "      <td>./data/Exam_practice/AV_1_year/Book_reviews/VA...</td>\n",
       "      <td>#671\\tAnnotatorNotes T672\\tlemma = 'experience'</td>\n",
       "    </tr>\n",
       "    <tr>\n",
       "      <th>4307831</th>\n",
       "      <td>./data/Exam_practice/AV_1_year/Book_reviews/VA...</td>\n",
       "      <td>T673\\tDET 3272 3273\\ta</td>\n",
       "    </tr>\n",
       "    <tr>\n",
       "      <th>4307832</th>\n",
       "      <td>./data/Exam_practice/AV_1_year/Book_reviews/VA...</td>\n",
       "      <td>#672\\tAnnotatorNotes T673\\tlemma = 'a'</td>\n",
       "    </tr>\n",
       "    <tr>\n",
       "      <th>4307833</th>\n",
       "      <td>./data/Exam_practice/AV_1_year/Book_reviews/VA...</td>\n",
       "      <td>T674\\tNOUN 3274 3277\\tlot</td>\n",
       "    </tr>\n",
       "    <tr>\n",
       "      <th>4307834</th>\n",
       "      <td>./data/Exam_practice/AV_1_year/Book_reviews/VA...</td>\n",
       "      <td>#673\\tAnnotatorNotes T674\\tlemma = 'lot'</td>\n",
       "    </tr>\n",
       "    <tr>\n",
       "      <th>4307835</th>\n",
       "      <td>./data/Exam_practice/AV_1_year/Book_reviews/VA...</td>\n",
       "      <td>T675\\tADP 3278 3280\\tof</td>\n",
       "    </tr>\n",
       "    <tr>\n",
       "      <th>4307836</th>\n",
       "      <td>./data/Exam_practice/AV_1_year/Book_reviews/VA...</td>\n",
       "      <td>#674\\tAnnotatorNotes T675\\tlemma = 'of'</td>\n",
       "    </tr>\n",
       "    <tr>\n",
       "      <th>4307837</th>\n",
       "      <td>./data/Exam_practice/AV_1_year/Book_reviews/VA...</td>\n",
       "      <td>T676\\tNOUN 3281 3290\\tconflicts</td>\n",
       "    </tr>\n",
       "    <tr>\n",
       "      <th>4307838</th>\n",
       "      <td>./data/Exam_practice/AV_1_year/Book_reviews/VA...</td>\n",
       "      <td>#675\\tAnnotatorNotes T676\\tlemma = 'conflict'</td>\n",
       "    </tr>\n",
       "    <tr>\n",
       "      <th>4307839</th>\n",
       "      <td>./data/Exam_practice/AV_1_year/Book_reviews/VA...</td>\n",
       "      <td>T677\\tADP 3291 3297\\tinside</td>\n",
       "    </tr>\n",
       "    <tr>\n",
       "      <th>4307840</th>\n",
       "      <td>./data/Exam_practice/AV_1_year/Book_reviews/VA...</td>\n",
       "      <td>#676\\tAnnotatorNotes T677\\tlemma = 'inside'</td>\n",
       "    </tr>\n",
       "    <tr>\n",
       "      <th>4307841</th>\n",
       "      <td>./data/Exam_practice/AV_1_year/Book_reviews/VA...</td>\n",
       "      <td>T678\\tDET 3298 3302\\tyour</td>\n",
       "    </tr>\n",
       "    <tr>\n",
       "      <th>4307842</th>\n",
       "      <td>./data/Exam_practice/AV_1_year/Book_reviews/VA...</td>\n",
       "      <td>#677\\tAnnotatorNotes T678\\tlemma = 'you'</td>\n",
       "    </tr>\n",
       "    <tr>\n",
       "      <th>4307843</th>\n",
       "      <td>./data/Exam_practice/AV_1_year/Book_reviews/VA...</td>\n",
       "      <td>T679\\tNOUN 3303 3310\\tpsyches</td>\n",
       "    </tr>\n",
       "    <tr>\n",
       "      <th>4307844</th>\n",
       "      <td>./data/Exam_practice/AV_1_year/Book_reviews/VA...</td>\n",
       "      <td>#678\\tAnnotatorNotes T679\\tlemma = 'psych'</td>\n",
       "    </tr>\n",
       "    <tr>\n",
       "      <th>4307845</th>\n",
       "      <td>./data/Exam_practice/AV_1_year/Book_reviews/VA...</td>\n",
       "      <td>T680\\tPUNCT 3310 3311\\t.</td>\n",
       "    </tr>\n",
       "    <tr>\n",
       "      <th>4307846</th>\n",
       "      <td>./data/Exam_practice/AV_1_year/Book_reviews/VA...</td>\n",
       "      <td>#679\\tAnnotatorNotes T680\\tlemma = '.'</td>\n",
       "    </tr>\n",
       "  </tbody>\n",
       "</table>\n",
       "<p>4307686 rows × 2 columns</p>\n",
       "</div>"
      ],
      "text/plain": [
       "                                                      path  \\\n",
       "15                      ./data/exam/exam2017_3/DOv_7_1.ann   \n",
       "16                      ./data/exam/exam2017_3/DOv_7_1.ann   \n",
       "17                      ./data/exam/exam2017_3/DOv_7_1.ann   \n",
       "18                      ./data/exam/exam2017_3/DOv_7_1.ann   \n",
       "19                      ./data/exam/exam2017_3/DOv_7_1.ann   \n",
       "20                      ./data/exam/exam2017_3/DOv_7_1.ann   \n",
       "21                      ./data/exam/exam2017_3/DOv_7_1.ann   \n",
       "22                      ./data/exam/exam2017_3/DOv_7_1.ann   \n",
       "23                      ./data/exam/exam2017_3/DOv_7_1.ann   \n",
       "24                      ./data/exam/exam2017_3/DOv_7_1.ann   \n",
       "25                      ./data/exam/exam2017_3/DOv_7_1.ann   \n",
       "26                      ./data/exam/exam2017_3/DOv_7_1.ann   \n",
       "27                      ./data/exam/exam2017_3/DOv_7_1.ann   \n",
       "28                      ./data/exam/exam2017_3/DOv_7_1.ann   \n",
       "29                      ./data/exam/exam2017_3/DOv_7_1.ann   \n",
       "30                      ./data/exam/exam2017_3/DOv_7_1.ann   \n",
       "31                      ./data/exam/exam2017_3/DOv_7_1.ann   \n",
       "32                      ./data/exam/exam2017_3/DOv_7_1.ann   \n",
       "33                      ./data/exam/exam2017_3/DOv_7_1.ann   \n",
       "34                      ./data/exam/exam2017_3/DOv_7_1.ann   \n",
       "35                      ./data/exam/exam2017_3/DOv_7_1.ann   \n",
       "36                      ./data/exam/exam2017_3/DOv_7_1.ann   \n",
       "37                      ./data/exam/exam2017_3/DOv_7_1.ann   \n",
       "38                      ./data/exam/exam2017_3/DOv_7_1.ann   \n",
       "39                      ./data/exam/exam2017_3/DOv_7_1.ann   \n",
       "40                      ./data/exam/exam2017_3/DOv_7_1.ann   \n",
       "41                      ./data/exam/exam2017_3/DOv_7_1.ann   \n",
       "42                      ./data/exam/exam2017_3/DOv_7_1.ann   \n",
       "43                      ./data/exam/exam2017_3/DOv_7_1.ann   \n",
       "44                      ./data/exam/exam2017_3/DOv_7_1.ann   \n",
       "...                                                    ...   \n",
       "4307817  ./data/Exam_practice/AV_1_year/Book_reviews/VA...   \n",
       "4307818  ./data/Exam_practice/AV_1_year/Book_reviews/VA...   \n",
       "4307819  ./data/Exam_practice/AV_1_year/Book_reviews/VA...   \n",
       "4307820  ./data/Exam_practice/AV_1_year/Book_reviews/VA...   \n",
       "4307821  ./data/Exam_practice/AV_1_year/Book_reviews/VA...   \n",
       "4307822  ./data/Exam_practice/AV_1_year/Book_reviews/VA...   \n",
       "4307823  ./data/Exam_practice/AV_1_year/Book_reviews/VA...   \n",
       "4307824  ./data/Exam_practice/AV_1_year/Book_reviews/VA...   \n",
       "4307825  ./data/Exam_practice/AV_1_year/Book_reviews/VA...   \n",
       "4307826  ./data/Exam_practice/AV_1_year/Book_reviews/VA...   \n",
       "4307827  ./data/Exam_practice/AV_1_year/Book_reviews/VA...   \n",
       "4307828  ./data/Exam_practice/AV_1_year/Book_reviews/VA...   \n",
       "4307829  ./data/Exam_practice/AV_1_year/Book_reviews/VA...   \n",
       "4307830  ./data/Exam_practice/AV_1_year/Book_reviews/VA...   \n",
       "4307831  ./data/Exam_practice/AV_1_year/Book_reviews/VA...   \n",
       "4307832  ./data/Exam_practice/AV_1_year/Book_reviews/VA...   \n",
       "4307833  ./data/Exam_practice/AV_1_year/Book_reviews/VA...   \n",
       "4307834  ./data/Exam_practice/AV_1_year/Book_reviews/VA...   \n",
       "4307835  ./data/Exam_practice/AV_1_year/Book_reviews/VA...   \n",
       "4307836  ./data/Exam_practice/AV_1_year/Book_reviews/VA...   \n",
       "4307837  ./data/Exam_practice/AV_1_year/Book_reviews/VA...   \n",
       "4307838  ./data/Exam_practice/AV_1_year/Book_reviews/VA...   \n",
       "4307839  ./data/Exam_practice/AV_1_year/Book_reviews/VA...   \n",
       "4307840  ./data/Exam_practice/AV_1_year/Book_reviews/VA...   \n",
       "4307841  ./data/Exam_practice/AV_1_year/Book_reviews/VA...   \n",
       "4307842  ./data/Exam_practice/AV_1_year/Book_reviews/VA...   \n",
       "4307843  ./data/Exam_practice/AV_1_year/Book_reviews/VA...   \n",
       "4307844  ./data/Exam_practice/AV_1_year/Book_reviews/VA...   \n",
       "4307845  ./data/Exam_practice/AV_1_year/Book_reviews/VA...   \n",
       "4307846  ./data/Exam_practice/AV_1_year/Book_reviews/VA...   \n",
       "\n",
       "                                                      line  \n",
       "15                            T1\\tPrepositions 60 64\\tfrom  \n",
       "16                               #1\\tAnnotatorNotes T1\\tof  \n",
       "17                        T2\\tRedundant_comp 79 85\\tgroups  \n",
       "18                                           A1\\tDelete T2  \n",
       "19                              T3\\tNoun_number 75 78\\tage  \n",
       "20                             #2\\tAnnotatorNotes T3\\tages  \n",
       "21                  R1\\tDependent_change Arg1:T2 Arg2:T3\\t  \n",
       "22                  R2\\tDependent_change Arg1:T3 Arg2:T1\\t  \n",
       "23                            T4\\tSpelling 177 183\\tnetwor  \n",
       "24                          #3\\tAnnotatorNotes T4\\tnetwork  \n",
       "25                            T5\\tQuantifiers 243 246\\tany  \n",
       "26                              #4\\tAnnotatorNotes T5\\tall  \n",
       "27                           T6\\tPrepositions 184 187\\tfor  \n",
       "28                               #5\\tAnnotatorNotes T6\\tin  \n",
       "29             T7\\tAbsence_explanation 192 202\\tthe groups  \n",
       "30                   #6\\tAnnotatorNotes T7\\tthe age groups  \n",
       "31                          T8\\tLinking_device 204 206\\tit  \n",
       "32                            #7\\tAnnotatorNotes T8\\tsince  \n",
       "33               T9\\tInappropriate_register 277 282\\telder  \n",
       "34                            #8\\tAnnotatorNotes T9\\tolder  \n",
       "35       T10\\tPunctuation 273 296\\tthe elder people become  \n",
       "36        #9\\tAnnotatorNotes T10\\tthe older people become,  \n",
       "37                  T11\\tAgreement_errors 314 321\\tbecomes  \n",
       "38                         #10\\tAnnotatorNotes T11\\tbecome  \n",
       "39       T12\\tStandard 314 353\\tbecomes for them facebo...  \n",
       "40       #11\\tAnnotatorNotes T12\\tFacebook and Instagra...  \n",
       "41                    T13\\tlex_item_choice 290 296\\tbecome  \n",
       "42                            #12\\tAnnotatorNotes T13\\tget  \n",
       "43                          T14\\tPrepositions 322 325\\tfor  \n",
       "44                          #13\\tAnnotatorNotes T14\\tamong  \n",
       "...                                                    ...  \n",
       "4307817                          T666\\tNOUN 3224 3227\\tera  \n",
       "4307818           #665\\tAnnotatorNotes T666\\tlemma = 'era'  \n",
       "4307819                        T667\\tSCONJ 3228 3232\\twhen  \n",
       "4307820          #666\\tAnnotatorNotes T667\\tlemma = 'when'  \n",
       "4307821                          T668\\tPRON 3233 3236\\tyou  \n",
       "4307822           #667\\tAnnotatorNotes T668\\tlemma = 'you'  \n",
       "4307823                     T669\\tNOUN 3237 3245\\tquestion  \n",
       "4307824      #668\\tAnnotatorNotes T669\\tlemma = 'question'  \n",
       "4307825                   T670\\tNOUN 3246 3256\\teverything  \n",
       "4307826    #669\\tAnnotatorNotes T670\\tlemma = 'everything'  \n",
       "4307827                         T671\\tCCONJ 3257 3260\\tand  \n",
       "4307828           #670\\tAnnotatorNotes T671\\tlemma = 'and'  \n",
       "4307829                   T672\\tNOUN 3261 3271\\texperience  \n",
       "4307830    #671\\tAnnotatorNotes T672\\tlemma = 'experience'  \n",
       "4307831                             T673\\tDET 3272 3273\\ta  \n",
       "4307832             #672\\tAnnotatorNotes T673\\tlemma = 'a'  \n",
       "4307833                          T674\\tNOUN 3274 3277\\tlot  \n",
       "4307834           #673\\tAnnotatorNotes T674\\tlemma = 'lot'  \n",
       "4307835                            T675\\tADP 3278 3280\\tof  \n",
       "4307836            #674\\tAnnotatorNotes T675\\tlemma = 'of'  \n",
       "4307837                    T676\\tNOUN 3281 3290\\tconflicts  \n",
       "4307838      #675\\tAnnotatorNotes T676\\tlemma = 'conflict'  \n",
       "4307839                        T677\\tADP 3291 3297\\tinside  \n",
       "4307840        #676\\tAnnotatorNotes T677\\tlemma = 'inside'  \n",
       "4307841                          T678\\tDET 3298 3302\\tyour  \n",
       "4307842           #677\\tAnnotatorNotes T678\\tlemma = 'you'  \n",
       "4307843                      T679\\tNOUN 3303 3310\\tpsyches  \n",
       "4307844         #678\\tAnnotatorNotes T679\\tlemma = 'psych'  \n",
       "4307845                           T680\\tPUNCT 3310 3311\\t.  \n",
       "4307846             #679\\tAnnotatorNotes T680\\tlemma = '.'  \n",
       "\n",
       "[4307686 rows x 2 columns]"
      ]
     },
     "execution_count": 10,
     "metadata": {
      "tags": []
     },
     "output_type": "execute_result"
    }
   ],
   "source": [
    "all_entries"
   ]
  },
  {
   "cell_type": "markdown",
   "metadata": {
    "colab_type": "text",
    "id": "4nkfvs-Kt7h2"
   },
   "source": [
    "Let's look which string prefixes we have:"
   ]
  },
  {
   "cell_type": "code",
   "execution_count": 32,
   "metadata": {
    "colab": {
     "base_uri": "https://localhost:8080/",
     "height": 34
    },
    "colab_type": "code",
    "executionInfo": {
     "elapsed": 6734,
     "status": "ok",
     "timestamp": 1556385981939,
     "user": {
      "displayName": "Ivan Torubarov",
      "photoUrl": "",
      "userId": "07481003931234110333"
     },
     "user_tz": -180
    },
    "id": "KLVY08AXsl1y",
    "outputId": "a708e2d9-f50a-43a5-982c-39d8df32d305"
   },
   "outputs": [
    {
     "data": {
      "text/plain": [
       "['T', '#', 'A', 'R']"
      ]
     },
     "execution_count": 32,
     "metadata": {
      "tags": []
     },
     "output_type": "execute_result"
    }
   ],
   "source": [
    "linestarts = []\n",
    "\n",
    "for line in list(all_entries[\"line\"]):\n",
    "  val = re.search(r'^(.*?)[0-9]', line).group(1)\n",
    "  if val not in linestarts:\n",
    "    linestarts.append(val)\n",
    "\n",
    "linestarts"
   ]
  },
  {
   "cell_type": "markdown",
   "metadata": {
    "colab_type": "text",
    "id": "aFpzrTzeuE8X"
   },
   "source": [
    "What are the `R` tags?"
   ]
  },
  {
   "cell_type": "code",
   "execution_count": 29,
   "metadata": {
    "colab": {
     "base_uri": "https://localhost:8080/",
     "height": 343
    },
    "colab_type": "code",
    "executionInfo": {
     "elapsed": 4430,
     "status": "ok",
     "timestamp": 1556385719104,
     "user": {
      "displayName": "Ivan Torubarov",
      "photoUrl": "",
      "userId": "07481003931234110333"
     },
     "user_tz": -180
    },
    "id": "2-ghQV80uDj4",
    "outputId": "adffcce6-c39c-48ac-fb0a-9d249adf89ff"
   },
   "outputs": [
    {
     "data": {
      "text/html": [
       "<div>\n",
       "<style scoped>\n",
       "    .dataframe tbody tr th:only-of-type {\n",
       "        vertical-align: middle;\n",
       "    }\n",
       "\n",
       "    .dataframe tbody tr th {\n",
       "        vertical-align: top;\n",
       "    }\n",
       "\n",
       "    .dataframe thead th {\n",
       "        text-align: right;\n",
       "    }\n",
       "</style>\n",
       "<table border=\"1\" class=\"dataframe\">\n",
       "  <thead>\n",
       "    <tr style=\"text-align: right;\">\n",
       "      <th></th>\n",
       "      <th>path</th>\n",
       "      <th>line</th>\n",
       "    </tr>\n",
       "  </thead>\n",
       "  <tbody>\n",
       "    <tr>\n",
       "      <th>21</th>\n",
       "      <td>./data/exam/exam2017_3/DOv_7_1.ann</td>\n",
       "      <td>R1\\tDependent_change Arg1:T2 Arg2:T3\\t</td>\n",
       "    </tr>\n",
       "    <tr>\n",
       "      <th>22</th>\n",
       "      <td>./data/exam/exam2017_3/DOv_7_1.ann</td>\n",
       "      <td>R2\\tDependent_change Arg1:T3 Arg2:T1\\t</td>\n",
       "    </tr>\n",
       "    <tr>\n",
       "      <th>1335</th>\n",
       "      <td>./data/exam/exam2017_3/AGo_1_2.ann</td>\n",
       "      <td>R1\\tDependent_change Arg1:T16 Arg2:T17\\t</td>\n",
       "    </tr>\n",
       "    <tr>\n",
       "      <th>1434</th>\n",
       "      <td>./data/exam/exam2017_3/AGo_1_2.ann</td>\n",
       "      <td>R2\\tDependent_change Arg1:T65 Arg2:T66\\t</td>\n",
       "    </tr>\n",
       "    <tr>\n",
       "      <th>7233</th>\n",
       "      <td>./data/exam/best_works/9_2.ann</td>\n",
       "      <td>R1\\tDependent_change Arg1:T6 Arg2:T7\\t</td>\n",
       "    </tr>\n",
       "    <tr>\n",
       "      <th>8505</th>\n",
       "      <td>./data/exam/best_works/33_2.ann</td>\n",
       "      <td>R1\\tParallel_construction Arg1:T12 Arg2:T13\\t</td>\n",
       "    </tr>\n",
       "    <tr>\n",
       "      <th>8508</th>\n",
       "      <td>./data/exam/best_works/33_2.ann</td>\n",
       "      <td>R2\\tParallel_construction Arg1:T12 Arg2:T14\\t</td>\n",
       "    </tr>\n",
       "    <tr>\n",
       "      <th>9811</th>\n",
       "      <td>./data/exam/best_works/17_2.ann</td>\n",
       "      <td>R1\\tDependent_change Arg1:T21 Arg2:T22\\t</td>\n",
       "    </tr>\n",
       "    <tr>\n",
       "      <th>15375</th>\n",
       "      <td>./data/exam/best_works/8_2.ann</td>\n",
       "      <td>R1\\tDependent_change Arg1:T23 Arg2:T24\\t</td>\n",
       "    </tr>\n",
       "    <tr>\n",
       "      <th>16011</th>\n",
       "      <td>./data/exam/best_works/19_2.ann</td>\n",
       "      <td>R1\\tDependent_change Arg1:T20 Arg2:T21\\t</td>\n",
       "    </tr>\n",
       "  </tbody>\n",
       "</table>\n",
       "</div>"
      ],
      "text/plain": [
       "                                     path  \\\n",
       "21     ./data/exam/exam2017_3/DOv_7_1.ann   \n",
       "22     ./data/exam/exam2017_3/DOv_7_1.ann   \n",
       "1335   ./data/exam/exam2017_3/AGo_1_2.ann   \n",
       "1434   ./data/exam/exam2017_3/AGo_1_2.ann   \n",
       "7233       ./data/exam/best_works/9_2.ann   \n",
       "8505      ./data/exam/best_works/33_2.ann   \n",
       "8508      ./data/exam/best_works/33_2.ann   \n",
       "9811      ./data/exam/best_works/17_2.ann   \n",
       "15375      ./data/exam/best_works/8_2.ann   \n",
       "16011     ./data/exam/best_works/19_2.ann   \n",
       "\n",
       "                                                line  \n",
       "21            R1\\tDependent_change Arg1:T2 Arg2:T3\\t  \n",
       "22            R2\\tDependent_change Arg1:T3 Arg2:T1\\t  \n",
       "1335        R1\\tDependent_change Arg1:T16 Arg2:T17\\t  \n",
       "1434        R2\\tDependent_change Arg1:T65 Arg2:T66\\t  \n",
       "7233          R1\\tDependent_change Arg1:T6 Arg2:T7\\t  \n",
       "8505   R1\\tParallel_construction Arg1:T12 Arg2:T13\\t  \n",
       "8508   R2\\tParallel_construction Arg1:T12 Arg2:T14\\t  \n",
       "9811        R1\\tDependent_change Arg1:T21 Arg2:T22\\t  \n",
       "15375       R1\\tDependent_change Arg1:T23 Arg2:T24\\t  \n",
       "16011       R1\\tDependent_change Arg1:T20 Arg2:T21\\t  "
      ]
     },
     "execution_count": 29,
     "metadata": {
      "tags": []
     },
     "output_type": "execute_result"
    }
   ],
   "source": [
    "all_entries.loc[all_entries.line.str.contains('^R[0-9]'), :][:10]"
   ]
  },
  {
   "cell_type": "markdown",
   "metadata": {
    "colab_type": "text",
    "id": "RS1EHYgT0cne"
   },
   "source": [
    "So, what type of `R` tags causes do we have?"
   ]
  },
  {
   "cell_type": "code",
   "execution_count": 38,
   "metadata": {
    "colab": {
     "base_uri": "https://localhost:8080/",
     "height": 34
    },
    "colab_type": "code",
    "executionInfo": {
     "elapsed": 7009,
     "status": "ok",
     "timestamp": 1556386197886,
     "user": {
      "displayName": "Ivan Torubarov",
      "photoUrl": "",
      "userId": "07481003931234110333"
     },
     "user_tz": -180
    },
    "id": "yvxuBOAj0nRt",
    "outputId": "ce605bc3-ef70-48cd-a8c7-3942d3f9d9e4"
   },
   "outputs": [
    {
     "data": {
      "text/plain": [
       "['Dependent_change', 'Parallel_construction', 'Discourse']"
      ]
     },
     "execution_count": 38,
     "metadata": {
      "tags": []
     },
     "output_type": "execute_result"
    }
   ],
   "source": [
    "r_types = []\n",
    "\n",
    "for line in list(all_entries[\"line\"]):\n",
    "  query = re.search(r'^R[0-9]+\\t(.*?) ', line)\n",
    "  if query:\n",
    "    val = query.group(1)\n",
    "  if val not in r_types:\n",
    "    r_types.append(val)\n",
    "\n",
    "r_types"
   ]
  },
  {
   "cell_type": "markdown",
   "metadata": {
    "colab_type": "text",
    "id": "Iy8DMxlwzRbM"
   },
   "source": [
    "What about the `A` non-delete ones?"
   ]
  },
  {
   "cell_type": "code",
   "execution_count": 39,
   "metadata": {
    "colab": {
     "base_uri": "https://localhost:8080/",
     "height": 122
    },
    "colab_type": "code",
    "executionInfo": {
     "elapsed": 7022,
     "status": "ok",
     "timestamp": 1556386279217,
     "user": {
      "displayName": "Ivan Torubarov",
      "photoUrl": "",
      "userId": "07481003931234110333"
     },
     "user_tz": -180
    },
    "id": "aHarXvMjzWai",
    "outputId": "40d64389-d294-433a-c699-2962377145da"
   },
   "outputs": [
    {
     "data": {
      "text/plain": [
       "['Dependent_change',\n",
       " 'Delete',\n",
       " 'Cause',\n",
       " 'Addition',\n",
       " 'Weight-language',\n",
       " 'Weight-understanding']"
      ]
     },
     "execution_count": 39,
     "metadata": {
      "tags": []
     },
     "output_type": "execute_result"
    }
   ],
   "source": [
    "a_types = []\n",
    "\n",
    "for line in list(all_entries[\"line\"]):\n",
    "  query = re.search(r'^A[0-9]+\\t(.*?) ', line)\n",
    "  if query:\n",
    "    val = query.group(1)\n",
    "  if val not in a_types:\n",
    "    a_types.append(val)\n",
    "\n",
    "a_types"
   ]
  },
  {
   "cell_type": "code",
   "execution_count": 45,
   "metadata": {
    "colab": {
     "base_uri": "https://localhost:8080/",
     "height": 343
    },
    "colab_type": "code",
    "executionInfo": {
     "elapsed": 4472,
     "status": "ok",
     "timestamp": 1556390348447,
     "user": {
      "displayName": "Ivan Torubarov",
      "photoUrl": "",
      "userId": "07481003931234110333"
     },
     "user_tz": -180
    },
    "id": "P9tk-yE48n4s",
    "outputId": "b5138d9b-355a-49b3-b4bd-b05a01fa1e33"
   },
   "outputs": [
    {
     "data": {
      "text/html": [
       "<div>\n",
       "<style scoped>\n",
       "    .dataframe tbody tr th:only-of-type {\n",
       "        vertical-align: middle;\n",
       "    }\n",
       "\n",
       "    .dataframe tbody tr th {\n",
       "        vertical-align: top;\n",
       "    }\n",
       "\n",
       "    .dataframe thead th {\n",
       "        text-align: right;\n",
       "    }\n",
       "</style>\n",
       "<table border=\"1\" class=\"dataframe\">\n",
       "  <thead>\n",
       "    <tr style=\"text-align: right;\">\n",
       "      <th></th>\n",
       "      <th>path</th>\n",
       "      <th>line</th>\n",
       "    </tr>\n",
       "  </thead>\n",
       "  <tbody>\n",
       "    <tr>\n",
       "      <th>164508</th>\n",
       "      <td>./data/exam/exam2017_5_1/EGe_15_2.ann</td>\n",
       "      <td>A1\\tAddition T11</td>\n",
       "    </tr>\n",
       "    <tr>\n",
       "      <th>395030</th>\n",
       "      <td>./data/exam/exam2017/EGe_136_2.ann</td>\n",
       "      <td>A7\\tAddition T6</td>\n",
       "    </tr>\n",
       "    <tr>\n",
       "      <th>570633</th>\n",
       "      <td>./data/exam/exam2017_5_2/EGe_160_1.ann</td>\n",
       "      <td>A3\\tAddition T21</td>\n",
       "    </tr>\n",
       "    <tr>\n",
       "      <th>581335</th>\n",
       "      <td>./data/exam/exam2017_5_2/EGe_127_1.ann</td>\n",
       "      <td>A4\\tAddition T24</td>\n",
       "    </tr>\n",
       "    <tr>\n",
       "      <th>581336</th>\n",
       "      <td>./data/exam/exam2017_5_2/EGe_127_1.ann</td>\n",
       "      <td>A5\\tAddition T31</td>\n",
       "    </tr>\n",
       "    <tr>\n",
       "      <th>581337</th>\n",
       "      <td>./data/exam/exam2017_5_2/EGe_127_1.ann</td>\n",
       "      <td>A7\\tAddition T40</td>\n",
       "    </tr>\n",
       "    <tr>\n",
       "      <th>583735</th>\n",
       "      <td>./data/exam/exam2017_5_2/EGe_145_1.ann</td>\n",
       "      <td>A4\\tAddition T7</td>\n",
       "    </tr>\n",
       "    <tr>\n",
       "      <th>607978</th>\n",
       "      <td>./data/exam/exam2017_5_2/EGe_147_2.ann</td>\n",
       "      <td>A4\\tAddition T1</td>\n",
       "    </tr>\n",
       "    <tr>\n",
       "      <th>666123</th>\n",
       "      <td>./data/exam/exam2015/KT_1_1.ann</td>\n",
       "      <td>A1\\tAddition T194</td>\n",
       "    </tr>\n",
       "    <tr>\n",
       "      <th>691451</th>\n",
       "      <td>./data/exam/exam2016/MTsy_9_1.ann</td>\n",
       "      <td>A5\\tAddition T27</td>\n",
       "    </tr>\n",
       "  </tbody>\n",
       "</table>\n",
       "</div>"
      ],
      "text/plain": [
       "                                          path               line\n",
       "164508   ./data/exam/exam2017_5_1/EGe_15_2.ann   A1\\tAddition T11\n",
       "395030      ./data/exam/exam2017/EGe_136_2.ann    A7\\tAddition T6\n",
       "570633  ./data/exam/exam2017_5_2/EGe_160_1.ann   A3\\tAddition T21\n",
       "581335  ./data/exam/exam2017_5_2/EGe_127_1.ann   A4\\tAddition T24\n",
       "581336  ./data/exam/exam2017_5_2/EGe_127_1.ann   A5\\tAddition T31\n",
       "581337  ./data/exam/exam2017_5_2/EGe_127_1.ann   A7\\tAddition T40\n",
       "583735  ./data/exam/exam2017_5_2/EGe_145_1.ann    A4\\tAddition T7\n",
       "607978  ./data/exam/exam2017_5_2/EGe_147_2.ann    A4\\tAddition T1\n",
       "666123         ./data/exam/exam2015/KT_1_1.ann  A1\\tAddition T194\n",
       "691451       ./data/exam/exam2016/MTsy_9_1.ann   A5\\tAddition T27"
      ]
     },
     "execution_count": 45,
     "metadata": {
      "tags": []
     },
     "output_type": "execute_result"
    }
   ],
   "source": [
    "all_entries.loc[all_entries.line.str.contains('^A[0-9]+\\tAddition'), :][:10]"
   ]
  },
  {
   "cell_type": "markdown",
   "metadata": {
    "colab_type": "text",
    "id": "OPI8fhRpKOfc"
   },
   "source": [
    "What about `#`?"
   ]
  },
  {
   "cell_type": "code",
   "execution_count": 56,
   "metadata": {
    "colab": {
     "base_uri": "https://localhost:8080/",
     "height": 34
    },
    "colab_type": "code",
    "executionInfo": {
     "elapsed": 7802,
     "status": "ok",
     "timestamp": 1556391591189,
     "user": {
      "displayName": "Ivan Torubarov",
      "photoUrl": "",
      "userId": "07481003931234110333"
     },
     "user_tz": -180
    },
    "id": "7MOIEL_VKRnA",
    "outputId": "2246db38-adb6-4cf2-bf36-d25a1370d01e"
   },
   "outputs": [
    {
     "data": {
      "text/plain": [
       "['AnnotatorNotes']"
      ]
     },
     "execution_count": 56,
     "metadata": {
      "tags": []
     },
     "output_type": "execute_result"
    }
   ],
   "source": [
    "DASH_types = []\n",
    "\n",
    "for line in list(all_entries[\"line\"]):\n",
    "  query = re.search(r'^\\#[0-9]+\\t(.*?) ', line)\n",
    "  if query:\n",
    "    val = query.group(1)\n",
    "  if val not in DASH_types:\n",
    "    DASH_types.append(val)\n",
    "\n",
    "DASH_types"
   ]
  },
  {
   "cell_type": "markdown",
   "metadata": {
    "colab_type": "text",
    "id": "FIDZ8ieGGQ8b"
   },
   "source": [
    "Based on these observations, I decided to further work with the `Delete` entries from all non-`A` tags and further narrowed my field of error tags to the following ones:"
   ]
  },
  {
   "cell_type": "code",
   "execution_count": 48,
   "metadata": {
    "colab": {
     "base_uri": "https://localhost:8080/",
     "height": 1830
    },
    "colab_type": "code",
    "executionInfo": {
     "elapsed": 840,
     "status": "ok",
     "timestamp": 1556390804153,
     "user": {
      "displayName": "Ivan Torubarov",
      "photoUrl": "",
      "userId": "07481003931234110333"
     },
     "user_tz": -180
    },
    "id": "PVBPCPLAHZxJ",
    "outputId": "2cb4df71-8069-4b2e-c09d-b9c5e7636a7a"
   },
   "outputs": [
    {
     "data": {
      "text/plain": [
       "['Punctuation',\n",
       " 'Spelling',\n",
       " 'Capitalisation',\n",
       " 'Grammar',\n",
       " 'Determiners',\n",
       " 'Articles',\n",
       " 'Quantifiers',\n",
       " 'Verbs',\n",
       " 'Tense',\n",
       " 'Tense_choice',\n",
       " 'Tense_form',\n",
       " 'Voice',\n",
       " 'Modals',\n",
       " 'Verb_pattern',\n",
       " 'Intransitive',\n",
       " 'Transitive',\n",
       " 'Reflexive_verb',\n",
       " 'Presentation',\n",
       " 'Ambitransitive',\n",
       " 'Two_in_a_row',\n",
       " 'Verb_Inf',\n",
       " 'Verb_Gerund',\n",
       " 'Verb_Inf_Gerund',\n",
       " 'Verb_Bare_Inf',\n",
       " 'Verb_object_bare',\n",
       " 'Restoration_alter',\n",
       " 'Verb_part',\n",
       " 'Get_part',\n",
       " 'Complex_obj',\n",
       " 'Verbal_idiom',\n",
       " 'Prepositional_verb',\n",
       " 'Dative',\n",
       " 'Followed_by_a_clause',\n",
       " 'that_clause',\n",
       " 'if_whether_clause',\n",
       " 'that_subj_clause',\n",
       " 'it_conj_clause',\n",
       " 'Participial_constr',\n",
       " 'Infinitive_constr',\n",
       " 'Gerund_phrase',\n",
       " 'Nouns',\n",
       " 'Countable_uncountable',\n",
       " 'Prepositional_noun',\n",
       " 'Possessive',\n",
       " 'Noun_attribute',\n",
       " 'Noun_inf',\n",
       " 'Noun_number',\n",
       " 'Prepositions',\n",
       " 'Conjunctions',\n",
       " 'Adjectives',\n",
       " 'Comparative_adj',\n",
       " 'Superlative_adj',\n",
       " 'Prepositional_adjective',\n",
       " 'Adj_as_collective',\n",
       " 'Adverbs',\n",
       " 'Comparative_adv',\n",
       " 'Superlative_adv',\n",
       " 'Prepositional_adv',\n",
       " 'Numerals',\n",
       " 'Pronouns',\n",
       " 'Agreement_errors',\n",
       " 'Word_order',\n",
       " 'Standard',\n",
       " 'Emphatic',\n",
       " 'Cleft',\n",
       " 'Interrogative',\n",
       " 'Abs_comp_clause',\n",
       " 'Exclamation',\n",
       " 'Title_structure',\n",
       " 'Note_structure',\n",
       " 'Conditionals',\n",
       " 'Attributes',\n",
       " 'Relative_clause',\n",
       " 'Defining',\n",
       " 'Non_defining',\n",
       " 'Coordinate',\n",
       " 'Attr_participial',\n",
       " 'Lack_par_constr',\n",
       " 'Negation',\n",
       " 'Comparative_constr',\n",
       " 'Numerical',\n",
       " 'Confusion_of_structures',\n",
       " 'Vocabulary',\n",
       " 'Word_choice',\n",
       " 'lex_item_choice',\n",
       " 'Often_confused',\n",
       " 'lex_part_choice',\n",
       " 'Absence_comp_colloc',\n",
       " 'Redundant',\n",
       " 'Derivation',\n",
       " 'Formational_affixes',\n",
       " 'Suffix',\n",
       " 'Prefix',\n",
       " 'Category_confusion',\n",
       " 'Compound_word',\n",
       " 'Discourse',\n",
       " 'Ref_device',\n",
       " 'Coherence',\n",
       " 'Linking_device',\n",
       " 'Inappropriate_register',\n",
       " 'Absence_comp_sent',\n",
       " 'Redundant_comp',\n",
       " 'Absence_explanation']"
      ]
     },
     "execution_count": 48,
     "metadata": {
      "tags": []
     },
     "output_type": "execute_result"
    }
   ],
   "source": [
    "Allowed_types = [\"Punctuation\", \"Spelling\", \"Capitalisation\", \"Grammar\", \"Determiners\", \"Articles\", \"Quantifiers\", \"Verbs\", \"Tense\", \"Tense_choice\", \"Tense_form\", \"Voice\", \"Modals\", \"Verb_pattern\", \"Intransitive\", \"Transitive\", \"Reflexive_verb\", \"Presentation\", \"Ambitransitive\", \"Two_in_a_row\", \"Verb_Inf\", \"Verb_Gerund\", \"Verb_Inf_Gerund\", \"Verb_Bare_Inf\", \"Verb_object_bare\", \"Restoration_alter\", \"Verb_part\", \"Get_part\", \"Complex_obj\", \"Verbal_idiom\", \"Prepositional_verb\", \"Dative\", \"Followed_by_a_clause\", \"that_clause\", \"if_whether_clause\", \"that_subj_clause\", \"it_conj_clause\", \"Participial_constr\", \"Infinitive_constr\", \"Gerund_phrase\", \"Nouns\", \"Countable_uncountable\", \"Prepositional_noun\", \"Possessive\", \"Noun_attribute\", \"Noun_inf\", \"Noun_number\", \"Prepositions\", \"Conjunctions\", \"Adjectives\", \"Comparative_adj\", \"Superlative_adj\", \"Prepositional_adjective\", \"Adj_as_collective\", \"Adverbs\", \"Comparative_adv\", \"Superlative_adv\", \"Prepositional_adv\", \"Numerals\", \"Pronouns\", \"Agreement_errors\", \"Word_order\", \"Standard\", \"Emphatic\", \"Cleft\", \"Interrogative\", \"Abs_comp_clause\", \"Exclamation\", \"Title_structure\", \"Note_structure\", \"Conditionals\", \"Attributes\", \"Relative_clause\", \"Defining\", \"Non_defining\", \"Coordinate\", \"Attr_participial\", \"Lack_par_constr\", \"Negation\", \"Comparative_constr\", \"Numerical\", \"Confusion_of_structures\", \"Vocabulary\", \"Word_choice\", \"lex_item_choice\", \"Often_confused\", \"lex_part_choice\", \"Absence_comp_colloc\", \"Redundant\", \"Derivation\", \"Formational_affixes\", \"Suffix\", \"Prefix\", \"Category_confusion\", \"Compound_word\", \"Discourse\", \"Ref_device\", \"Coherence\", \"Linking_device\", \"Inappropriate_register\", \"Absence_comp_sent\", \"Redundant_comp\", \"Absence_explanation\"]\n",
    "\n",
    "Allowed_types"
   ]
  },
  {
   "cell_type": "markdown",
   "metadata": {
    "colab_type": "text",
    "id": "ANoqIg8gIM0p"
   },
   "source": [
    "# Further processing"
   ]
  },
  {
   "cell_type": "markdown",
   "metadata": {
    "colab_type": "text",
    "id": "8FxLXgPsIS_y"
   },
   "source": [
    "Let's separate all `A Delete`, `#` and `T`-type tags from the rest:"
   ]
  },
  {
   "cell_type": "code",
   "execution_count": 51,
   "metadata": {
    "colab": {
     "base_uri": "https://localhost:8080/",
     "height": 195
    },
    "colab_type": "code",
    "executionInfo": {
     "elapsed": 4104,
     "status": "ok",
     "timestamp": 1556391098361,
     "user": {
      "displayName": "Ivan Torubarov",
      "photoUrl": "",
      "userId": "07481003931234110333"
     },
     "user_tz": -180
    },
    "id": "a5VBP6zSIRgv",
    "outputId": "961392e7-8b4c-4801-c830-d195480c13f9"
   },
   "outputs": [
    {
     "data": {
      "text/html": [
       "<div>\n",
       "<style scoped>\n",
       "    .dataframe tbody tr th:only-of-type {\n",
       "        vertical-align: middle;\n",
       "    }\n",
       "\n",
       "    .dataframe tbody tr th {\n",
       "        vertical-align: top;\n",
       "    }\n",
       "\n",
       "    .dataframe thead th {\n",
       "        text-align: right;\n",
       "    }\n",
       "</style>\n",
       "<table border=\"1\" class=\"dataframe\">\n",
       "  <thead>\n",
       "    <tr style=\"text-align: right;\">\n",
       "      <th></th>\n",
       "      <th>path</th>\n",
       "      <th>line</th>\n",
       "    </tr>\n",
       "  </thead>\n",
       "  <tbody>\n",
       "    <tr>\n",
       "      <th>18</th>\n",
       "      <td>./data/exam/exam2017_3/DOv_7_1.ann</td>\n",
       "      <td>A1\\tDelete T2</td>\n",
       "    </tr>\n",
       "    <tr>\n",
       "      <th>206</th>\n",
       "      <td>./data/exam/exam2017_3/DOv_4_1.ann</td>\n",
       "      <td>A1\\tDelete T9</td>\n",
       "    </tr>\n",
       "    <tr>\n",
       "      <th>222</th>\n",
       "      <td>./data/exam/exam2017_3/DOv_4_1.ann</td>\n",
       "      <td>A2\\tDelete T17</td>\n",
       "    </tr>\n",
       "    <tr>\n",
       "      <th>1210</th>\n",
       "      <td>./data/exam/exam2017_3/DOv_9_1.ann</td>\n",
       "      <td>A1\\tDelete T5</td>\n",
       "    </tr>\n",
       "    <tr>\n",
       "      <th>1216</th>\n",
       "      <td>./data/exam/exam2017_3/DOv_9_1.ann</td>\n",
       "      <td>A2\\tDelete T8</td>\n",
       "    </tr>\n",
       "  </tbody>\n",
       "</table>\n",
       "</div>"
      ],
      "text/plain": [
       "                                    path            line\n",
       "18    ./data/exam/exam2017_3/DOv_7_1.ann   A1\\tDelete T2\n",
       "206   ./data/exam/exam2017_3/DOv_4_1.ann   A1\\tDelete T9\n",
       "222   ./data/exam/exam2017_3/DOv_4_1.ann  A2\\tDelete T17\n",
       "1210  ./data/exam/exam2017_3/DOv_9_1.ann   A1\\tDelete T5\n",
       "1216  ./data/exam/exam2017_3/DOv_9_1.ann   A2\\tDelete T8"
      ]
     },
     "execution_count": 51,
     "metadata": {
      "tags": []
     },
     "output_type": "execute_result"
    }
   ],
   "source": [
    "ADelete_entries = all_entries.loc[all_entries.line.str.contains('^A[0-9]+\\tDelete'), :]\n",
    "\n",
    "ADelete_entries.head()"
   ]
  },
  {
   "cell_type": "code",
   "execution_count": 53,
   "metadata": {
    "colab": {
     "base_uri": "https://localhost:8080/",
     "height": 195
    },
    "colab_type": "code",
    "executionInfo": {
     "elapsed": 4077,
     "status": "ok",
     "timestamp": 1556391212951,
     "user": {
      "displayName": "Ivan Torubarov",
      "photoUrl": "",
      "userId": "07481003931234110333"
     },
     "user_tz": -180
    },
    "id": "0hWbm28-JJeY",
    "outputId": "1d7efa6b-eb02-44c5-ffd5-c5516dd1ef2d"
   },
   "outputs": [
    {
     "data": {
      "text/html": [
       "<div>\n",
       "<style scoped>\n",
       "    .dataframe tbody tr th:only-of-type {\n",
       "        vertical-align: middle;\n",
       "    }\n",
       "\n",
       "    .dataframe tbody tr th {\n",
       "        vertical-align: top;\n",
       "    }\n",
       "\n",
       "    .dataframe thead th {\n",
       "        text-align: right;\n",
       "    }\n",
       "</style>\n",
       "<table border=\"1\" class=\"dataframe\">\n",
       "  <thead>\n",
       "    <tr style=\"text-align: right;\">\n",
       "      <th></th>\n",
       "      <th>path</th>\n",
       "      <th>line</th>\n",
       "    </tr>\n",
       "  </thead>\n",
       "  <tbody>\n",
       "    <tr>\n",
       "      <th>16</th>\n",
       "      <td>./data/exam/exam2017_3/DOv_7_1.ann</td>\n",
       "      <td>#1\\tAnnotatorNotes T1\\tof</td>\n",
       "    </tr>\n",
       "    <tr>\n",
       "      <th>20</th>\n",
       "      <td>./data/exam/exam2017_3/DOv_7_1.ann</td>\n",
       "      <td>#2\\tAnnotatorNotes T3\\tages</td>\n",
       "    </tr>\n",
       "    <tr>\n",
       "      <th>24</th>\n",
       "      <td>./data/exam/exam2017_3/DOv_7_1.ann</td>\n",
       "      <td>#3\\tAnnotatorNotes T4\\tnetwork</td>\n",
       "    </tr>\n",
       "    <tr>\n",
       "      <th>26</th>\n",
       "      <td>./data/exam/exam2017_3/DOv_7_1.ann</td>\n",
       "      <td>#4\\tAnnotatorNotes T5\\tall</td>\n",
       "    </tr>\n",
       "    <tr>\n",
       "      <th>28</th>\n",
       "      <td>./data/exam/exam2017_3/DOv_7_1.ann</td>\n",
       "      <td>#5\\tAnnotatorNotes T6\\tin</td>\n",
       "    </tr>\n",
       "  </tbody>\n",
       "</table>\n",
       "</div>"
      ],
      "text/plain": [
       "                                  path                            line\n",
       "16  ./data/exam/exam2017_3/DOv_7_1.ann       #1\\tAnnotatorNotes T1\\tof\n",
       "20  ./data/exam/exam2017_3/DOv_7_1.ann     #2\\tAnnotatorNotes T3\\tages\n",
       "24  ./data/exam/exam2017_3/DOv_7_1.ann  #3\\tAnnotatorNotes T4\\tnetwork\n",
       "26  ./data/exam/exam2017_3/DOv_7_1.ann      #4\\tAnnotatorNotes T5\\tall\n",
       "28  ./data/exam/exam2017_3/DOv_7_1.ann       #5\\tAnnotatorNotes T6\\tin"
      ]
     },
     "execution_count": 53,
     "metadata": {
      "tags": []
     },
     "output_type": "execute_result"
    }
   ],
   "source": [
    "DASH_entries = all_entries.loc[all_entries.line.str.contains('^\\#[0-9]'), :]\n",
    "\n",
    "DASH_entries.head()"
   ]
  },
  {
   "cell_type": "code",
   "execution_count": 130,
   "metadata": {
    "colab": {
     "base_uri": "https://localhost:8080/",
     "height": 195
    },
    "colab_type": "code",
    "executionInfo": {
     "elapsed": 4535,
     "status": "ok",
     "timestamp": 1556399530259,
     "user": {
      "displayName": "Ivan Torubarov",
      "photoUrl": "",
      "userId": "07481003931234110333"
     },
     "user_tz": -180
    },
    "id": "udTJe7vOI5Fm",
    "outputId": "7bf713e7-0074-47c5-f569-c2133346f640"
   },
   "outputs": [
    {
     "data": {
      "text/html": [
       "<div>\n",
       "<style scoped>\n",
       "    .dataframe tbody tr th:only-of-type {\n",
       "        vertical-align: middle;\n",
       "    }\n",
       "\n",
       "    .dataframe tbody tr th {\n",
       "        vertical-align: top;\n",
       "    }\n",
       "\n",
       "    .dataframe thead th {\n",
       "        text-align: right;\n",
       "    }\n",
       "</style>\n",
       "<table border=\"1\" class=\"dataframe\">\n",
       "  <thead>\n",
       "    <tr style=\"text-align: right;\">\n",
       "      <th></th>\n",
       "      <th>path</th>\n",
       "      <th>line</th>\n",
       "    </tr>\n",
       "  </thead>\n",
       "  <tbody>\n",
       "    <tr>\n",
       "      <th>15</th>\n",
       "      <td>./data/exam/exam2017_3/DOv_7_1.ann</td>\n",
       "      <td>T1\\tPrepositions 60 64\\tfrom</td>\n",
       "    </tr>\n",
       "    <tr>\n",
       "      <th>17</th>\n",
       "      <td>./data/exam/exam2017_3/DOv_7_1.ann</td>\n",
       "      <td>T2\\tRedundant_comp 79 85\\tgroups</td>\n",
       "    </tr>\n",
       "    <tr>\n",
       "      <th>19</th>\n",
       "      <td>./data/exam/exam2017_3/DOv_7_1.ann</td>\n",
       "      <td>T3\\tNoun_number 75 78\\tage</td>\n",
       "    </tr>\n",
       "    <tr>\n",
       "      <th>23</th>\n",
       "      <td>./data/exam/exam2017_3/DOv_7_1.ann</td>\n",
       "      <td>T4\\tSpelling 177 183\\tnetwor</td>\n",
       "    </tr>\n",
       "    <tr>\n",
       "      <th>25</th>\n",
       "      <td>./data/exam/exam2017_3/DOv_7_1.ann</td>\n",
       "      <td>T5\\tQuantifiers 243 246\\tany</td>\n",
       "    </tr>\n",
       "  </tbody>\n",
       "</table>\n",
       "</div>"
      ],
      "text/plain": [
       "                                  path                              line\n",
       "15  ./data/exam/exam2017_3/DOv_7_1.ann      T1\\tPrepositions 60 64\\tfrom\n",
       "17  ./data/exam/exam2017_3/DOv_7_1.ann  T2\\tRedundant_comp 79 85\\tgroups\n",
       "19  ./data/exam/exam2017_3/DOv_7_1.ann        T3\\tNoun_number 75 78\\tage\n",
       "23  ./data/exam/exam2017_3/DOv_7_1.ann      T4\\tSpelling 177 183\\tnetwor\n",
       "25  ./data/exam/exam2017_3/DOv_7_1.ann      T5\\tQuantifiers 243 246\\tany"
      ]
     },
     "execution_count": 130,
     "metadata": {
      "tags": []
     },
     "output_type": "execute_result"
    }
   ],
   "source": [
    "T_entries = all_entries.loc[all_entries.line.str.contains('^T[0-9]'), :]\n",
    "\n",
    "T_entries.head()"
   ]
  },
  {
   "cell_type": "markdown",
   "metadata": {
    "colab_type": "text",
    "id": "57U-C0K4JVff"
   },
   "source": [
    "`A`-entries should follow the pattern `A[any number]\\tDelete␣T[any number]`. Let's check if we have any outliers!"
   ]
  },
  {
   "cell_type": "code",
   "execution_count": 62,
   "metadata": {
    "colab": {
     "base_uri": "https://localhost:8080/",
     "height": 47
    },
    "colab_type": "code",
    "executionInfo": {
     "elapsed": 780,
     "status": "ok",
     "timestamp": 1556392031072,
     "user": {
      "displayName": "Ivan Torubarov",
      "photoUrl": "",
      "userId": "07481003931234110333"
     },
     "user_tz": -180
    },
    "id": "Sh07pGOLLjRw",
    "outputId": "16808433-d888-45de-996b-cb4e809587ff"
   },
   "outputs": [
    {
     "data": {
      "text/html": [
       "<div>\n",
       "<style scoped>\n",
       "    .dataframe tbody tr th:only-of-type {\n",
       "        vertical-align: middle;\n",
       "    }\n",
       "\n",
       "    .dataframe tbody tr th {\n",
       "        vertical-align: top;\n",
       "    }\n",
       "\n",
       "    .dataframe thead th {\n",
       "        text-align: right;\n",
       "    }\n",
       "</style>\n",
       "<table border=\"1\" class=\"dataframe\">\n",
       "  <thead>\n",
       "    <tr style=\"text-align: right;\">\n",
       "      <th></th>\n",
       "      <th>path</th>\n",
       "      <th>line</th>\n",
       "    </tr>\n",
       "  </thead>\n",
       "  <tbody>\n",
       "  </tbody>\n",
       "</table>\n",
       "</div>"
      ],
      "text/plain": [
       "Empty DataFrame\n",
       "Columns: [path, line]\n",
       "Index: []"
      ]
     },
     "execution_count": 62,
     "metadata": {
      "tags": []
     },
     "output_type": "execute_result"
    }
   ],
   "source": [
    "ADelete_invalid = ADelete_entries.loc[~ADelete_entries.line.str.contains('^A[0-9]+\\tDelete T[0-9]+$'), :]\n",
    "\n",
    "ADelete_invalid"
   ]
  },
  {
   "cell_type": "markdown",
   "metadata": {
    "colab_type": "text",
    "id": "yWag5vUfMkDz"
   },
   "source": [
    "No invalid entries here. Moving to `#`, which should be `#[any number]\\tAnnotatorNotes␣T[any number]\\t[any text]`"
   ]
  },
  {
   "cell_type": "code",
   "execution_count": 0,
   "metadata": {
    "colab": {},
    "colab_type": "code",
    "collapsed": true,
    "id": "jYVJEvVvMtCx"
   },
   "outputs": [],
   "source": [
    "DASH_invalid = DASH_entries.loc[~DASH_entries.line.str.contains('^#[0-9]+\\tAnnotatorNotes T[0-9]+\\t.*$'), :]\n",
    "\n",
    "DASH_invalid"
   ]
  },
  {
   "cell_type": "markdown",
   "metadata": {
    "colab_type": "text",
    "id": "ewDNtQXyNUy4"
   },
   "source": [
    "So there seem to be two cases: empty `AnnotatorNotes`, which we will assume to be en empty correction, and other stuff. Let's focus on the latter for now."
   ]
  },
  {
   "cell_type": "code",
   "execution_count": 0,
   "metadata": {
    "colab": {},
    "colab_type": "code",
    "collapsed": true,
    "id": "oKyKR8nWNk3w"
   },
   "outputs": [],
   "source": [
    "DASH_invalid_nonempty = DASH_entries.loc[~DASH_entries.line.str.contains('^#[0-9]+\\tAnnotatorNotes T[0-9]+.*$'), :]\n",
    "\n",
    "DASH_invalid_nonempty"
   ]
  },
  {
   "cell_type": "markdown",
   "metadata": {
    "colab_type": "text",
    "id": "boCh_eUZNwsz"
   },
   "source": [
    "We'll drop this ocurrence and add a trailing tabulation to the other irregular lines to unify our notation:"
   ]
  },
  {
   "cell_type": "code",
   "execution_count": 0,
   "metadata": {
    "colab": {},
    "colab_type": "code",
    "collapsed": true,
    "id": "YeIMimQFOKWB"
   },
   "outputs": [],
   "source": [
    "DASH_entries = pd.concat([DASH_entries, DASH_invalid_nonempty]).drop_duplicates(keep=False)"
   ]
  },
  {
   "cell_type": "code",
   "execution_count": 0,
   "metadata": {
    "colab": {},
    "colab_type": "code",
    "collapsed": true,
    "id": "yabsNdLXOXG5"
   },
   "outputs": [],
   "source": [
    "condition = ~DASH_entries.line.str.contains('^#[0-9]+\\tAnnotatorNotes T[0-9]+\\t.*$')\n",
    "\n",
    "DASH_entries.loc[condition, 'line'] = DASH_entries.loc[condition, 'line']+'\\t'\n",
    "\n",
    "# DASH_entries.loc[condition, 'line'].apply(appendix) = DASH_entries.loc[condition, 'line'].apply(appendix)"
   ]
  },
  {
   "cell_type": "code",
   "execution_count": 100,
   "metadata": {
    "colab": {
     "base_uri": "https://localhost:8080/",
     "height": 47
    },
    "colab_type": "code",
    "executionInfo": {
     "elapsed": 2723,
     "status": "ok",
     "timestamp": 1556394601239,
     "user": {
      "displayName": "Ivan Torubarov",
      "photoUrl": "",
      "userId": "07481003931234110333"
     },
     "user_tz": -180
    },
    "id": "Y5ml1jUMPpAh",
    "outputId": "b27e3d13-cecb-421f-d9c4-69f1ecd28d2a"
   },
   "outputs": [
    {
     "data": {
      "text/html": [
       "<div>\n",
       "<style scoped>\n",
       "    .dataframe tbody tr th:only-of-type {\n",
       "        vertical-align: middle;\n",
       "    }\n",
       "\n",
       "    .dataframe tbody tr th {\n",
       "        vertical-align: top;\n",
       "    }\n",
       "\n",
       "    .dataframe thead th {\n",
       "        text-align: right;\n",
       "    }\n",
       "</style>\n",
       "<table border=\"1\" class=\"dataframe\">\n",
       "  <thead>\n",
       "    <tr style=\"text-align: right;\">\n",
       "      <th></th>\n",
       "      <th>path</th>\n",
       "      <th>line</th>\n",
       "    </tr>\n",
       "  </thead>\n",
       "  <tbody>\n",
       "  </tbody>\n",
       "</table>\n",
       "</div>"
      ],
      "text/plain": [
       "Empty DataFrame\n",
       "Columns: [path, line]\n",
       "Index: []"
      ]
     },
     "execution_count": 100,
     "metadata": {
      "tags": []
     },
     "output_type": "execute_result"
    }
   ],
   "source": [
    "DASH_new_invalid = DASH_entries.loc[~DASH_entries.line.str.contains('^#[0-9]+\\tAnnotatorNotes T[0-9]+\\t.*$'), :]\n",
    "\n",
    "DASH_new_invalid"
   ]
  },
  {
   "cell_type": "markdown",
   "metadata": {
    "colab_type": "text",
    "id": "BPTM0eTkMsNx"
   },
   "source": [
    "So, this narrows us down to `T`. These should be `T[any number]\\t[error type]␣[any number]␣[any number]\\t[any text]`. Let's test!"
   ]
  },
  {
   "cell_type": "code",
   "execution_count": 0,
   "metadata": {
    "colab": {},
    "colab_type": "code",
    "collapsed": true,
    "id": "aaNuoVJ_WkDL"
   },
   "outputs": [],
   "source": [
    "T_invalid = T_entries.loc[~T_entries.line.str.contains('^T[0-9]+\\t[\\w_]+ [0-9]+ [0-9]+\\t.*?$'), :]\n",
    "\n",
    "T_invalid"
   ]
  },
  {
   "cell_type": "markdown",
   "metadata": {
    "colab_type": "text",
    "id": "YDXv3EJHjRwN"
   },
   "source": [
    "Right off the bat we can see that we have some double-staked entries here. Our best take is to divide these entries and treat them as independent tokens. Let's separate and process them:"
   ]
  },
  {
   "cell_type": "code",
   "execution_count": 0,
   "metadata": {
    "colab": {},
    "colab_type": "code",
    "collapsed": true,
    "id": "xeobjp1pjsH3"
   },
   "outputs": [],
   "source": [
    "T_double = T_entries.loc[T_entries.line.str.contains('^T[0-9]+\\t[\\w_]+ [0-9]+ [0-9]+;[0-9]+ [0-9]+\\t.*?$'), :]\n",
    "\n",
    "T_double"
   ]
  },
  {
   "cell_type": "code",
   "execution_count": 0,
   "metadata": {
    "colab": {},
    "colab_type": "code",
    "collapsed": true,
    "id": "-61HyYLKiPit"
   },
   "outputs": [],
   "source": [
    "DEZip = zip(list(T_double.path), list(T_double.line))\n",
    "double_entries = []\n",
    "for e in DEZip:\n",
    "  double_entries.append([e[0], e[1]])\n",
    "double_entries"
   ]
  },
  {
   "cell_type": "code",
   "execution_count": 0,
   "metadata": {
    "colab": {},
    "colab_type": "code",
    "collapsed": true,
    "id": "KO9AIyUEkINu"
   },
   "outputs": [],
   "source": [
    "dedoubled_entries = []\n",
    "for entry in double_entries:\n",
    "  e = entry[1]\n",
    "  head = re.search(r'^(T[0-9]+\\t[\\w_]+ )[0-9]+ [0-9]+;[0-9]+ [0-9]+\\t.*?$', e).group(1)\n",
    "  range1 = re.search(r'^T[0-9]+\\t[\\w_]+ ([0-9]+ [0-9]+);[0-9]+ [0-9]+\\t.*?$', e).group(1)\n",
    "  range2 = re.search(r'^T[0-9]+\\t[\\w_]+ [0-9]+ [0-9]+;([0-9]+ [0-9]+)\\t.*?$', e).group(1)\n",
    "  string = re.search(r'^T[0-9]+\\t[\\w_]+ [0-9]+ [0-9]+;[0-9]+ [0-9]+\\t(.*?)$', e).group(1)\n",
    "  len1 = int(range1.split(\" \")[1])-int(range1.split(\" \")[0])\n",
    "  str1 = string[:len1]\n",
    "  str2 = string[len1+1:]\n",
    "  dedoubled_entries.append([entry[0], head+range1+'\\t'+str1])\n",
    "  dedoubled_entries.append([entry[0], head+range2+'\\t'+str2])\n",
    "\n",
    "dedoubled_entries"
   ]
  },
  {
   "cell_type": "code",
   "execution_count": 0,
   "metadata": {
    "colab": {},
    "colab_type": "code",
    "collapsed": true,
    "id": "r9T8kEjDmqiB"
   },
   "outputs": [],
   "source": [
    "dedoubled = pd.DataFrame({\n",
    "  'path': [],\n",
    "  'line': []\n",
    "})\n",
    "\n",
    "for line in dedoubled_entries:\n",
    "  dedoubled.loc[len(dedoubled)] = line\n",
    "\n",
    "dedoubled"
   ]
  },
  {
   "cell_type": "code",
   "execution_count": 0,
   "metadata": {
    "colab": {},
    "colab_type": "code",
    "collapsed": true,
    "id": "fpfBCpH-nBFE"
   },
   "outputs": [],
   "source": [
    "T_entries = pd.concat([T_entries, T_double]).drop_duplicates(keep=False)\n",
    "T_entries = pd.concat([T_entries, dedoubled])\n",
    "\n",
    "T_entries"
   ]
  },
  {
   "cell_type": "markdown",
   "metadata": {
    "colab_type": "text",
    "id": "Cj_xp5lunegu"
   },
   "source": [
    "Now let's get rid of all the tokens we will not be including in our analysis:"
   ]
  },
  {
   "cell_type": "code",
   "execution_count": 0,
   "metadata": {
    "colab": {},
    "colab_type": "code",
    "collapsed": true,
    "id": "tIhlxR9Yn7tB"
   },
   "outputs": [],
   "source": [
    "T_invalid = T_entries.loc[~T_entries.line.str.contains('^T[0-9]+\\t('+'|'.join(Allowed_types)+') [0-9]+ [0-9]+'), :]\n",
    "\n",
    "T_invalid"
   ]
  },
  {
   "cell_type": "markdown",
   "metadata": {
    "colab_type": "text",
    "id": "eH5qIKnoomjd"
   },
   "source": [
    "These are mostly parts of speech and suggestions. To hell with them:"
   ]
  },
  {
   "cell_type": "code",
   "execution_count": 0,
   "metadata": {
    "colab": {},
    "colab_type": "code",
    "collapsed": true,
    "id": "YjvU2XwzouYC"
   },
   "outputs": [],
   "source": [
    "T_entries = pd.concat([T_entries, T_invalid]).drop_duplicates(keep=False)\n",
    "\n",
    "T_entries"
   ]
  },
  {
   "cell_type": "markdown",
   "metadata": {
    "colab_type": "text",
    "id": "UPc4MLqko4cs"
   },
   "source": [
    "Finally let's deal with the entries without suggestions. Like above, let's just find them and add a trailing tabulation:"
   ]
  },
  {
   "cell_type": "code",
   "execution_count": 0,
   "metadata": {
    "colab": {},
    "colab_type": "code",
    "collapsed": true,
    "id": "0WodFPakphjV"
   },
   "outputs": [],
   "source": [
    "T_nontabbed = T_entries.loc[~T_entries.line.str.contains('^T[0-9]+\\t('+'|'.join(Allowed_types)+') [0-9]+ [0-9]+\\t.*?$'), :]\n",
    "\n",
    "T_nontabbed"
   ]
  },
  {
   "cell_type": "code",
   "execution_count": 0,
   "metadata": {
    "colab": {},
    "colab_type": "code",
    "collapsed": true,
    "id": "hACCqdNIp66i"
   },
   "outputs": [],
   "source": [
    "condition = ~T_entries.line.str.contains('^T[0-9]+\\t('+'|'.join(Allowed_types)+') [0-9]+ [0-9]+\\t.*?$')\n",
    "\n",
    "T_entries.loc[condition, 'line'] = T_entries.loc[condition, 'line']+'\\t'"
   ]
  },
  {
   "cell_type": "code",
   "execution_count": 141,
   "metadata": {
    "colab": {
     "base_uri": "https://localhost:8080/",
     "height": 112
    },
    "colab_type": "code",
    "executionInfo": {
     "elapsed": 801,
     "status": "ok",
     "timestamp": 1556399830193,
     "user": {
      "displayName": "Ivan Torubarov",
      "photoUrl": "",
      "userId": "07481003931234110333"
     },
     "user_tz": -180
    },
    "id": "fEfeT7S3qCcB",
    "outputId": "8c818138-cb35-4f42-c5b6-9d6afda6bf02"
   },
   "outputs": [
    {
     "name": "stderr",
     "output_type": "stream",
     "text": [
      "/usr/local/lib/python3.6/dist-packages/ipykernel_launcher.py:1: UserWarning: This pattern has match groups. To actually get the groups, use str.extract.\n",
      "  \"\"\"Entry point for launching an IPython kernel.\n"
     ]
    },
    {
     "data": {
      "text/html": [
       "<div>\n",
       "<style scoped>\n",
       "    .dataframe tbody tr th:only-of-type {\n",
       "        vertical-align: middle;\n",
       "    }\n",
       "\n",
       "    .dataframe tbody tr th {\n",
       "        vertical-align: top;\n",
       "    }\n",
       "\n",
       "    .dataframe thead th {\n",
       "        text-align: right;\n",
       "    }\n",
       "</style>\n",
       "<table border=\"1\" class=\"dataframe\">\n",
       "  <thead>\n",
       "    <tr style=\"text-align: right;\">\n",
       "      <th></th>\n",
       "      <th>path</th>\n",
       "      <th>line</th>\n",
       "    </tr>\n",
       "  </thead>\n",
       "  <tbody>\n",
       "    <tr>\n",
       "      <th>460810</th>\n",
       "      <td>./data/exam/exam2017/NMya_26_1.ann</td>\n",
       "      <td>T4\\tSpelling 421 431;49 59;561 571\\tpersentage...</td>\n",
       "    </tr>\n",
       "  </tbody>\n",
       "</table>\n",
       "</div>"
      ],
      "text/plain": [
       "                                      path  \\\n",
       "460810  ./data/exam/exam2017/NMya_26_1.ann   \n",
       "\n",
       "                                                     line  \n",
       "460810  T4\\tSpelling 421 431;49 59;561 571\\tpersentage...  "
      ]
     },
     "execution_count": 141,
     "metadata": {
      "tags": []
     },
     "output_type": "execute_result"
    }
   ],
   "source": [
    "T_new_invalid = T_entries.loc[~T_entries.line.str.contains('^T[0-9]+\\t('+'|'.join(Allowed_types)+') [0-9]+ [0-9]+\\t.*?$'), :]\n",
    "\n",
    "T_new_invalid"
   ]
  },
  {
   "cell_type": "markdown",
   "metadata": {
    "colab_type": "text",
    "id": "6i9DMP_tqNg1"
   },
   "source": [
    "We've still got one monster left, as it seems. Let's drop it"
   ]
  },
  {
   "cell_type": "code",
   "execution_count": 0,
   "metadata": {
    "colab": {},
    "colab_type": "code",
    "collapsed": true,
    "id": "SLA-35t7qUuM"
   },
   "outputs": [],
   "source": [
    "T_entries = pd.concat([T_entries, T_new_invalid]).drop_duplicates(keep=False)"
   ]
  },
  {
   "cell_type": "markdown",
   "metadata": {
    "colab_type": "text",
    "id": "9T1R82vsrgWk"
   },
   "source": [
    "Let's reset indices of all resulting dataframes here:"
   ]
  },
  {
   "cell_type": "code",
   "execution_count": 0,
   "metadata": {
    "colab": {},
    "colab_type": "code",
    "collapsed": true,
    "id": "KkD9jX9qrf7O"
   },
   "outputs": [],
   "source": [
    "ADelete_entries = ADelete_entries.reset_index(drop=True)\n",
    "DASH_entries = DASH_entries.reset_index(drop=True)\n",
    "T_entries = T_entries.reset_index(drop=True)"
   ]
  },
  {
   "cell_type": "markdown",
   "metadata": {
    "colab_type": "text",
    "id": "G5wVxxclrGPy"
   },
   "source": [
    "## Uploading the results"
   ]
  },
  {
   "cell_type": "markdown",
   "metadata": {
    "colab_type": "text",
    "id": "sWvWoj8DCgt1"
   },
   "source": [
    "Wow. That was epic and took a looong time. We'd better save it into a json file to accelerate future load-ups."
   ]
  },
  {
   "cell_type": "code",
   "execution_count": 167,
   "metadata": {
    "colab": {
     "base_uri": "https://localhost:8080/",
     "height": 52
    },
    "colab_type": "code",
    "executionInfo": {
     "elapsed": 3935,
     "status": "ok",
     "timestamp": 1556400851086,
     "user": {
      "displayName": "Ivan Torubarov",
      "photoUrl": "",
      "userId": "07481003931234110333"
     },
     "user_tz": -180
    },
    "id": "XSarzvO5DhNV",
    "outputId": "82dfa939-dbd9-4423-9d24-72255968a005"
   },
   "outputs": [
    {
     "name": "stdout",
     "output_type": "stream",
     "text": [
      "CPU times: user 1.27 s, sys: 691 ms, total: 1.96 s\n",
      "Wall time: 2.04 s\n"
     ]
    }
   ],
   "source": [
    "%%time\n",
    "\n",
    "jsonname = \"DASH_entries.json\" #@param {type:\"string\"}\n",
    "with open(jsonname, 'w', encoding=\"utf-8\") as outie:\n",
    "    exec(\"outie.write(\"+jsonname[:-5]+\".to_json())\")"
   ]
  },
  {
   "cell_type": "markdown",
   "metadata": {
    "colab_type": "text",
    "id": "eryvINGWEFBY"
   },
   "source": [
    "Whew, great! Let's upload this to Google Drive right now. "
   ]
  },
  {
   "cell_type": "code",
   "execution_count": 163,
   "metadata": {
    "colab": {
     "base_uri": "https://localhost:8080/",
     "height": 52
    },
    "colab_type": "code",
    "executionInfo": {
     "elapsed": 71991,
     "status": "ok",
     "timestamp": 1556400814694,
     "user": {
      "displayName": "Ivan Torubarov",
      "photoUrl": "",
      "userId": "07481003931234110333"
     },
     "user_tz": -180
    },
    "id": "AJh_36xcDDB2",
    "outputId": "1e2dacf2-18e8-419d-95ec-cb00ccf0b3af"
   },
   "outputs": [
    {
     "name": "stdout",
     "output_type": "stream",
     "text": [
      "\u001b[?25l\r",
      "\u001b[K    1% |▎                               | 10kB 16.1MB/s eta 0:00:01\r",
      "\u001b[K    2% |▋                               | 20kB 1.9MB/s eta 0:00:01\r",
      "\u001b[K    3% |█                               | 30kB 2.7MB/s eta 0:00:01\r",
      "\u001b[K    4% |█▎                              | 40kB 1.8MB/s eta 0:00:01\r",
      "\u001b[K    5% |█▋                              | 51kB 2.2MB/s eta 0:00:01\r",
      "\u001b[K    6% |██                              | 61kB 2.6MB/s eta 0:00:01\r",
      "\u001b[K    7% |██▎                             | 71kB 3.0MB/s eta 0:00:01\r",
      "\u001b[K    8% |██▋                             | 81kB 3.4MB/s eta 0:00:01\r",
      "\u001b[K    9% |███                             | 92kB 3.8MB/s eta 0:00:01\r",
      "\u001b[K    10% |███▎                            | 102kB 2.9MB/s eta 0:00:01\r",
      "\u001b[K    11% |███▋                            | 112kB 2.9MB/s eta 0:00:01\r",
      "\u001b[K    12% |████                            | 122kB 4.1MB/s eta 0:00:01\r",
      "\u001b[K    13% |████▎                           | 133kB 4.1MB/s eta 0:00:01\r",
      "\u001b[K    14% |████▋                           | 143kB 7.7MB/s eta 0:00:01\r",
      "\u001b[K    15% |█████                           | 153kB 7.8MB/s eta 0:00:01\r",
      "\u001b[K    16% |█████▎                          | 163kB 7.8MB/s eta 0:00:01\r",
      "\u001b[K    17% |█████▋                          | 174kB 7.8MB/s eta 0:00:01\r",
      "\u001b[K    18% |██████                          | 184kB 7.9MB/s eta 0:00:01\r",
      "\u001b[K    19% |██████▎                         | 194kB 8.0MB/s eta 0:00:01\r",
      "\u001b[K    20% |██████▋                         | 204kB 41.7MB/s eta 0:00:01\r",
      "\u001b[K    21% |███████                         | 215kB 8.7MB/s eta 0:00:01\r",
      "\u001b[K    22% |███████▎                        | 225kB 8.7MB/s eta 0:00:01\r",
      "\u001b[K    23% |███████▋                        | 235kB 8.8MB/s eta 0:00:01\r",
      "\u001b[K    24% |████████                        | 245kB 8.8MB/s eta 0:00:01\r",
      "\u001b[K    25% |████████▎                       | 256kB 8.8MB/s eta 0:00:01\r",
      "\u001b[K    26% |████████▋                       | 266kB 8.6MB/s eta 0:00:01\r",
      "\u001b[K    27% |█████████                       | 276kB 8.7MB/s eta 0:00:01\r",
      "\u001b[K    29% |█████████▎                      | 286kB 8.7MB/s eta 0:00:01\r",
      "\u001b[K    30% |█████████▋                      | 296kB 8.7MB/s eta 0:00:01\r",
      "\u001b[K    31% |██████████                      | 307kB 8.9MB/s eta 0:00:01\r",
      "\u001b[K    32% |██████████▎                     | 317kB 51.1MB/s eta 0:00:01\r",
      "\u001b[K    33% |██████████▋                     | 327kB 52.5MB/s eta 0:00:01\r",
      "\u001b[K    34% |███████████                     | 337kB 54.4MB/s eta 0:00:01\r",
      "\u001b[K    35% |███████████▎                    | 348kB 47.9MB/s eta 0:00:01\r",
      "\u001b[K    36% |███████████▋                    | 358kB 47.9MB/s eta 0:00:01\r",
      "\u001b[K    37% |████████████                    | 368kB 54.8MB/s eta 0:00:01\r",
      "\u001b[K    38% |████████████▎                   | 378kB 55.3MB/s eta 0:00:01\r",
      "\u001b[K    39% |████████████▋                   | 389kB 55.2MB/s eta 0:00:01\r",
      "\u001b[K    40% |█████████████                   | 399kB 9.9MB/s eta 0:00:01\r",
      "\u001b[K    41% |█████████████▎                  | 409kB 9.9MB/s eta 0:00:01\r",
      "\u001b[K    42% |█████████████▋                  | 419kB 9.8MB/s eta 0:00:01\r",
      "\u001b[K    43% |██████████████                  | 430kB 9.8MB/s eta 0:00:01\r",
      "\u001b[K    44% |██████████████▎                 | 440kB 9.8MB/s eta 0:00:01\r",
      "\u001b[K    45% |██████████████▋                 | 450kB 9.9MB/s eta 0:00:01\r",
      "\u001b[K    46% |███████████████                 | 460kB 9.8MB/s eta 0:00:01\r",
      "\u001b[K    47% |███████████████▎                | 471kB 9.8MB/s eta 0:00:01\r",
      "\u001b[K    48% |███████████████▋                | 481kB 9.8MB/s eta 0:00:01\r",
      "\u001b[K    49% |████████████████                | 491kB 9.8MB/s eta 0:00:01\r",
      "\u001b[K    50% |████████████████▎               | 501kB 52.0MB/s eta 0:00:01\r",
      "\u001b[K    51% |████████████████▋               | 512kB 48.9MB/s eta 0:00:01\r",
      "\u001b[K    52% |█████████████████               | 522kB 50.1MB/s eta 0:00:01\r",
      "\u001b[K    53% |█████████████████▎              | 532kB 51.6MB/s eta 0:00:01\r",
      "\u001b[K    54% |█████████████████▋              | 542kB 9.1MB/s eta 0:00:01\r",
      "\u001b[K    55% |██████████████████              | 552kB 9.2MB/s eta 0:00:01\r",
      "\u001b[K    57% |██████████████████▎             | 563kB 9.2MB/s eta 0:00:01\r",
      "\u001b[K    58% |██████████████████▋             | 573kB 9.1MB/s eta 0:00:01\r",
      "\u001b[K    59% |███████████████████             | 583kB 9.1MB/s eta 0:00:01\r",
      "\u001b[K    60% |███████████████████▎            | 593kB 9.1MB/s eta 0:00:01\r",
      "\u001b[K    61% |███████████████████▋            | 604kB 9.1MB/s eta 0:00:01\r",
      "\u001b[K    62% |████████████████████            | 614kB 9.3MB/s eta 0:00:01\r",
      "\u001b[K    63% |████████████████████▎           | 624kB 9.2MB/s eta 0:00:01\r",
      "\u001b[K    64% |████████████████████▋           | 634kB 9.2MB/s eta 0:00:01\r",
      "\u001b[K    65% |█████████████████████           | 645kB 55.8MB/s eta 0:00:01\r",
      "\u001b[K    66% |█████████████████████▎          | 655kB 58.4MB/s eta 0:00:01\r",
      "\u001b[K    67% |█████████████████████▋          | 665kB 43.5MB/s eta 0:00:01\r",
      "\u001b[K    68% |██████████████████████          | 675kB 43.6MB/s eta 0:00:01\r",
      "\u001b[K    69% |██████████████████████▎         | 686kB 42.7MB/s eta 0:00:01\r",
      "\u001b[K    70% |██████████████████████▋         | 696kB 41.7MB/s eta 0:00:01\r",
      "\u001b[K    71% |███████████████████████         | 706kB 40.2MB/s eta 0:00:01\r",
      "\u001b[K    72% |███████████████████████▎        | 716kB 40.0MB/s eta 0:00:01\r",
      "\u001b[K    73% |███████████████████████▋        | 727kB 39.3MB/s eta 0:00:01\r",
      "\u001b[K    74% |████████████████████████        | 737kB 38.3MB/s eta 0:00:01\r",
      "\u001b[K    75% |████████████████████████▎       | 747kB 38.0MB/s eta 0:00:01\r",
      "\u001b[K    76% |████████████████████████▋       | 757kB 36.7MB/s eta 0:00:01\r",
      "\u001b[K    77% |████████████████████████▉       | 768kB 45.7MB/s eta 0:00:01\r",
      "\u001b[K    78% |█████████████████████████▏      | 778kB 45.2MB/s eta 0:00:01\r",
      "\u001b[K    79% |█████████████████████████▌      | 788kB 44.3MB/s eta 0:00:01\r",
      "\u001b[K    80% |█████████████████████████▉      | 798kB 43.6MB/s eta 0:00:01\r",
      "\u001b[K    81% |██████████████████████████▏     | 808kB 43.4MB/s eta 0:00:01\r",
      "\u001b[K    82% |██████████████████████████▌     | 819kB 42.0MB/s eta 0:00:01\r",
      "\u001b[K    83% |██████████████████████████▉     | 829kB 42.0MB/s eta 0:00:01\r",
      "\u001b[K    85% |███████████████████████████▏    | 839kB 41.9MB/s eta 0:00:01\r",
      "\u001b[K    86% |███████████████████████████▌    | 849kB 42.0MB/s eta 0:00:01\r",
      "\u001b[K    87% |███████████████████████████▉    | 860kB 37.5MB/s eta 0:00:01\r",
      "\u001b[K    88% |████████████████████████████▏   | 870kB 37.0MB/s eta 0:00:01\r",
      "\u001b[K    89% |████████████████████████████▌   | 880kB 38.3MB/s eta 0:00:01\r",
      "\u001b[K    90% |████████████████████████████▉   | 890kB 39.7MB/s eta 0:00:01\r",
      "\u001b[K    91% |█████████████████████████████▏  | 901kB 40.8MB/s eta 0:00:01\r",
      "\u001b[K    92% |█████████████████████████████▌  | 911kB 42.3MB/s eta 0:00:01\r",
      "\u001b[K    93% |█████████████████████████████▉  | 921kB 44.1MB/s eta 0:00:01\r",
      "\u001b[K    94% |██████████████████████████████▏ | 931kB 45.1MB/s eta 0:00:01\r",
      "\u001b[K    95% |██████████████████████████████▌ | 942kB 47.2MB/s eta 0:00:01\r",
      "\u001b[K    96% |██████████████████████████████▉ | 952kB 48.4MB/s eta 0:00:01\r",
      "\u001b[K    97% |███████████████████████████████▏| 962kB 59.4MB/s eta 0:00:01\r",
      "\u001b[K    98% |███████████████████████████████▌| 972kB 63.1MB/s eta 0:00:01\r",
      "\u001b[K    99% |███████████████████████████████▉| 983kB 63.4MB/s eta 0:00:01\r",
      "\u001b[K    100% |████████████████████████████████| 993kB 19.8MB/s \n",
      "\u001b[?25h  Building wheel for PyDrive (setup.py) ... \u001b[?25ldone\n",
      "\u001b[?25h"
     ]
    }
   ],
   "source": [
    "# Install the PyDrive wrapper & import libraries.\n",
    "# This only needs to be done once in a notebook.\n",
    "!pip install -U -q PyDrive\n",
    "from pydrive.auth import GoogleAuth\n",
    "from pydrive.drive import GoogleDrive\n",
    "from google.colab import auth\n",
    "from oauth2client.client import GoogleCredentials\n",
    "\n",
    "# Authenticate and create the PyDrive client.\n",
    "# This only needs to be done once in a notebook.\n",
    "auth.authenticate_user()\n",
    "gauth = GoogleAuth()\n",
    "gauth.credentials = GoogleCredentials.get_application_default()\n",
    "drive = GoogleDrive(gauth)"
   ]
  },
  {
   "cell_type": "code",
   "execution_count": 168,
   "metadata": {
    "colab": {
     "base_uri": "https://localhost:8080/",
     "height": 34
    },
    "colab_type": "code",
    "executionInfo": {
     "elapsed": 5847,
     "status": "ok",
     "timestamp": 1556400859345,
     "user": {
      "displayName": "Ivan Torubarov",
      "photoUrl": "",
      "userId": "07481003931234110333"
     },
     "user_tz": -180
    },
    "id": "57ajXFuqDgYO",
    "outputId": "b15af483-a10c-4135-c67e-6593c89266f2"
   },
   "outputs": [
    {
     "name": "stdout",
     "output_type": "stream",
     "text": [
      "Uploaded file with ID 1txk_7dfZIgxy6wOOTSNk6v6N12-GTxRf\n"
     ]
    }
   ],
   "source": [
    "# Create & upload a file.\n",
    "uploaded = drive.CreateFile({'title': jsonname})\n",
    "uploaded.SetContentFile(jsonname)\n",
    "uploaded.Upload()\n",
    "print('Uploaded file with ID {}'.format(uploaded.get('id')))"
   ]
  }
 ],
 "metadata": {
  "colab": {
   "name": "REALEC Token preprocessing",
   "provenance": [],
   "version": "0.3.2"
  },
  "kernelspec": {
   "display_name": "Python 3",
   "language": "python",
   "name": "python3"
  },
  "language_info": {
   "codemirror_mode": {
    "name": "ipython",
    "version": 3
   },
   "file_extension": ".py",
   "mimetype": "text/x-python",
   "name": "python",
   "nbconvert_exporter": "python",
   "pygments_lexer": "ipython3",
   "version": "3.6.7"
  }
 },
 "nbformat": 4,
 "nbformat_minor": 1
}
