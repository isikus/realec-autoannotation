{
 "cells": [
  {
   "cell_type": "code",
   "execution_count": 0,
   "metadata": {
    "colab": {},
    "colab_type": "code",
    "collapsed": true,
    "id": "P4yP9HyiNpq_"
   },
   "outputs": [],
   "source": [
    "from sklearn.model_selection import train_test_split\n",
    "import numpy as np\n",
    "import pandas as pd\n",
    "import tensorflow as tf\n",
    "import tensorflow_hub as hub\n",
    "from datetime import datetime\n",
    "\n",
    "from tensorflow import keras\n",
    "import os\n",
    "import re"
   ]
  },
  {
   "cell_type": "code",
   "execution_count": 42,
   "metadata": {
    "colab": {
     "base_uri": "https://localhost:8080/",
     "height": 34
    },
    "colab_type": "code",
    "executionInfo": {
     "elapsed": 24444,
     "status": "ok",
     "timestamp": 1556554544097,
     "user": {
      "displayName": "Ivan Torubarov",
      "photoUrl": "",
      "userId": "07481003931234110333"
     },
     "user_tz": -180
    },
    "id": "E6el7QltNsFR",
    "outputId": "5c4e5dff-25f1-4c2f-9605-7e1571f5120d"
   },
   "outputs": [
    {
     "name": "stdout",
     "output_type": "stream",
     "text": [
      "Mounted at /content/gdrive\n"
     ]
    }
   ],
   "source": [
    "from google.colab import drive\n",
    "drive.mount('/content/gdrive', force_remount=True)"
   ]
  },
  {
   "cell_type": "code",
   "execution_count": 0,
   "metadata": {
    "colab": {},
    "colab_type": "code",
    "collapsed": true,
    "id": "4-jcbh3GNuAn"
   },
   "outputs": [],
   "source": [
    "import shutil\n",
    "\n",
    "drive_path = \"\"\n",
    "filenames = [\"ADelete_entries.json\", \"DASH_entries.json\", \"T_entries.json\"]\n",
    "\n",
    "for filename in filenames:\n",
    "  shutil.copy2('/content/gdrive/My Drive/'+drive_path+filename,'.')"
   ]
  },
  {
   "cell_type": "code",
   "execution_count": 44,
   "metadata": {
    "colab": {
     "base_uri": "https://localhost:8080/",
     "height": 210
    },
    "colab_type": "code",
    "executionInfo": {
     "elapsed": 25583,
     "status": "ok",
     "timestamp": 1556554545277,
     "user": {
      "displayName": "Ivan Torubarov",
      "photoUrl": "",
      "userId": "07481003931234110333"
     },
     "user_tz": -180
    },
    "id": "kmenug7EPMmw",
    "outputId": "c63513dd-e560-4375-e63e-ea4432c0bb34"
   },
   "outputs": [
    {
     "data": {
      "text/plain": [
       "['.config',\n",
       " 'DASH_entries.json',\n",
       " 'T_entries.json',\n",
       " 'ADelete_entries.json',\n",
       " 'realec_110319_2315.tar.gz',\n",
       " 'All_Entries (1).json',\n",
       " 'data',\n",
       " 'All_Entries.json',\n",
       " 'gdrive',\n",
       " 'adc.json',\n",
       " 'sample_data']"
      ]
     },
     "execution_count": 44,
     "metadata": {
      "tags": []
     },
     "output_type": "execute_result"
    }
   ],
   "source": [
    "os.listdir(\".\")"
   ]
  },
  {
   "cell_type": "code",
   "execution_count": 0,
   "metadata": {
    "colab": {},
    "colab_type": "code",
    "collapsed": true,
    "id": "9OGP7VO9OCBH"
   },
   "outputs": [],
   "source": [
    "for jsonname in filenames:\n",
    "  exec(jsonname[:-5]+\" = pd.read_json(jsonname).reset_index(drop=True)\")"
   ]
  },
  {
   "cell_type": "code",
   "execution_count": 46,
   "metadata": {
    "colab": {
     "base_uri": "https://localhost:8080/",
     "height": 343
    },
    "colab_type": "code",
    "executionInfo": {
     "elapsed": 36867,
     "status": "ok",
     "timestamp": 1556554556611,
     "user": {
      "displayName": "Ivan Torubarov",
      "photoUrl": "",
      "userId": "07481003931234110333"
     },
     "user_tz": -180
    },
    "id": "8vO5peK_OuXH",
    "outputId": "72edffae-0522-4129-adde-af6ad4f03db5"
   },
   "outputs": [
    {
     "data": {
      "text/html": [
       "<div>\n",
       "<style scoped>\n",
       "    .dataframe tbody tr th:only-of-type {\n",
       "        vertical-align: middle;\n",
       "    }\n",
       "\n",
       "    .dataframe tbody tr th {\n",
       "        vertical-align: top;\n",
       "    }\n",
       "\n",
       "    .dataframe thead th {\n",
       "        text-align: right;\n",
       "    }\n",
       "</style>\n",
       "<table border=\"1\" class=\"dataframe\">\n",
       "  <thead>\n",
       "    <tr style=\"text-align: right;\">\n",
       "      <th></th>\n",
       "      <th>path</th>\n",
       "      <th>line</th>\n",
       "    </tr>\n",
       "  </thead>\n",
       "  <tbody>\n",
       "    <tr>\n",
       "      <th>0</th>\n",
       "      <td>./data/exam/exam2017_3/DOv_7_1.ann</td>\n",
       "      <td>T1\\tPrepositions 60 64\\tfrom</td>\n",
       "    </tr>\n",
       "    <tr>\n",
       "      <th>1</th>\n",
       "      <td>./data/exam/exam2017_3/DOv_7_1.ann</td>\n",
       "      <td>T2\\tRedundant_comp 79 85\\tgroups</td>\n",
       "    </tr>\n",
       "    <tr>\n",
       "      <th>2</th>\n",
       "      <td>./data/exam/exam2017_3/DOv_7_1.ann</td>\n",
       "      <td>T11\\tAgreement_errors 314 321\\tbecomes</td>\n",
       "    </tr>\n",
       "    <tr>\n",
       "      <th>3</th>\n",
       "      <td>./data/exam/exam2017_3/DOv_4_1.ann</td>\n",
       "      <td>T16\\tPossessive 777 786\\tLinked In</td>\n",
       "    </tr>\n",
       "    <tr>\n",
       "      <th>4</th>\n",
       "      <td>./data/exam/best_works/36_1.ann</td>\n",
       "      <td>T12\\tTense_choice 698 707\\tcomprises</td>\n",
       "    </tr>\n",
       "    <tr>\n",
       "      <th>5</th>\n",
       "      <td>./data/exam/exam2017/DOv_26_1.ann</td>\n",
       "      <td>T13\\tlex_item_choice 1016 1019\\tany</td>\n",
       "    </tr>\n",
       "    <tr>\n",
       "      <th>6</th>\n",
       "      <td>./data/old IELTS/IELTS2016/EEm_123_1.ann</td>\n",
       "      <td>T7\\tArticles 706 715\\tgoverment</td>\n",
       "    </tr>\n",
       "    <tr>\n",
       "      <th>7</th>\n",
       "      <td>./data/old IELTS/IELTS2016/EEm_123_1.ann</td>\n",
       "      <td>T8\\tPrepositions 814 816\\tin</td>\n",
       "    </tr>\n",
       "    <tr>\n",
       "      <th>8</th>\n",
       "      <td>./data/old IELTS/IELTS2016/EEm_123_1.ann</td>\n",
       "      <td>T9\\tSpelling 877 886\\tgoverment</td>\n",
       "    </tr>\n",
       "    <tr>\n",
       "      <th>9</th>\n",
       "      <td>./data/old IELTS/IELTS2016/EEm_123_1.ann</td>\n",
       "      <td>T10\\tSpelling 907 916\\tsuccesful</td>\n",
       "    </tr>\n",
       "  </tbody>\n",
       "</table>\n",
       "</div>"
      ],
      "text/plain": [
       "                                       path  \\\n",
       "0        ./data/exam/exam2017_3/DOv_7_1.ann   \n",
       "1        ./data/exam/exam2017_3/DOv_7_1.ann   \n",
       "2        ./data/exam/exam2017_3/DOv_7_1.ann   \n",
       "3        ./data/exam/exam2017_3/DOv_4_1.ann   \n",
       "4           ./data/exam/best_works/36_1.ann   \n",
       "5         ./data/exam/exam2017/DOv_26_1.ann   \n",
       "6  ./data/old IELTS/IELTS2016/EEm_123_1.ann   \n",
       "7  ./data/old IELTS/IELTS2016/EEm_123_1.ann   \n",
       "8  ./data/old IELTS/IELTS2016/EEm_123_1.ann   \n",
       "9  ./data/old IELTS/IELTS2016/EEm_123_1.ann   \n",
       "\n",
       "                                     line  \n",
       "0            T1\\tPrepositions 60 64\\tfrom  \n",
       "1        T2\\tRedundant_comp 79 85\\tgroups  \n",
       "2  T11\\tAgreement_errors 314 321\\tbecomes  \n",
       "3      T16\\tPossessive 777 786\\tLinked In  \n",
       "4    T12\\tTense_choice 698 707\\tcomprises  \n",
       "5     T13\\tlex_item_choice 1016 1019\\tany  \n",
       "6         T7\\tArticles 706 715\\tgoverment  \n",
       "7            T8\\tPrepositions 814 816\\tin  \n",
       "8         T9\\tSpelling 877 886\\tgoverment  \n",
       "9        T10\\tSpelling 907 916\\tsuccesful  "
      ]
     },
     "execution_count": 46,
     "metadata": {
      "tags": []
     },
     "output_type": "execute_result"
    }
   ],
   "source": [
    "T_entries[:10]"
   ]
  },
  {
   "cell_type": "code",
   "execution_count": 47,
   "metadata": {
    "colab": {
     "base_uri": "https://localhost:8080/",
     "height": 343
    },
    "colab_type": "code",
    "executionInfo": {
     "elapsed": 36841,
     "status": "ok",
     "timestamp": 1556554556612,
     "user": {
      "displayName": "Ivan Torubarov",
      "photoUrl": "",
      "userId": "07481003931234110333"
     },
     "user_tz": -180
    },
    "id": "1r36Bgf-SlGv",
    "outputId": "ff4a91a6-2aff-4467-f752-04070d32d8a4"
   },
   "outputs": [
    {
     "data": {
      "text/html": [
       "<div>\n",
       "<style scoped>\n",
       "    .dataframe tbody tr th:only-of-type {\n",
       "        vertical-align: middle;\n",
       "    }\n",
       "\n",
       "    .dataframe tbody tr th {\n",
       "        vertical-align: top;\n",
       "    }\n",
       "\n",
       "    .dataframe thead th {\n",
       "        text-align: right;\n",
       "    }\n",
       "</style>\n",
       "<table border=\"1\" class=\"dataframe\">\n",
       "  <thead>\n",
       "    <tr style=\"text-align: right;\">\n",
       "      <th></th>\n",
       "      <th>path</th>\n",
       "      <th>line</th>\n",
       "    </tr>\n",
       "  </thead>\n",
       "  <tbody>\n",
       "    <tr>\n",
       "      <th>0</th>\n",
       "      <td>./data/exam/exam2017_3/DOv_7_1.ann</td>\n",
       "      <td>#1\\tAnnotatorNotes T1\\tof</td>\n",
       "    </tr>\n",
       "    <tr>\n",
       "      <th>1</th>\n",
       "      <td>./data/exam/exam2017_3/DOv_7_1.ann</td>\n",
       "      <td>#2\\tAnnotatorNotes T3\\tages</td>\n",
       "    </tr>\n",
       "    <tr>\n",
       "      <th>2</th>\n",
       "      <td>./data/exam/exam2017_3/DOv_7_1.ann</td>\n",
       "      <td>#11\\tAnnotatorNotes T12\\tFacebook and Instagra...</td>\n",
       "    </tr>\n",
       "    <tr>\n",
       "      <th>3</th>\n",
       "      <td>./data/exam/exam2017_3/DOv_4_1.ann</td>\n",
       "      <td>#17\\tAnnotatorNotes T19\\ttarget audiences</td>\n",
       "    </tr>\n",
       "    <tr>\n",
       "      <th>4</th>\n",
       "      <td>./data/exam/best_works/10_2.ann</td>\n",
       "      <td>#16\\tAnnotatorNotes T16\\t, but</td>\n",
       "    </tr>\n",
       "    <tr>\n",
       "      <th>5</th>\n",
       "      <td>./data/exam/best_works/23_2.ann</td>\n",
       "      <td>#244\\tAnnotatorNotes T245\\tlemma = 'cause'</td>\n",
       "    </tr>\n",
       "    <tr>\n",
       "      <th>6</th>\n",
       "      <td>./data/exam/exam2017/DPe_62_2.ann</td>\n",
       "      <td>#229\\tAnnotatorNotes T229\\tlemma = 'it'</td>\n",
       "    </tr>\n",
       "    <tr>\n",
       "      <th>7</th>\n",
       "      <td>./data/exam/exam2014/2012-2014_2/esl_00450.ann</td>\n",
       "      <td>#334\\tAnnotatorNotes T341\\tlemma = 'Earth'</td>\n",
       "    </tr>\n",
       "    <tr>\n",
       "      <th>8</th>\n",
       "      <td>./data/exam/exam2014/2012-2014_2/esl_00450.ann</td>\n",
       "      <td>#335\\tAnnotatorNotes T342\\tlemma = 'and'</td>\n",
       "    </tr>\n",
       "    <tr>\n",
       "      <th>9</th>\n",
       "      <td>./data/exam/exam2014/2012-2014_2/esl_00450.ann</td>\n",
       "      <td>#336\\tAnnotatorNotes T343\\tlemma = 'start'</td>\n",
       "    </tr>\n",
       "  </tbody>\n",
       "</table>\n",
       "</div>"
      ],
      "text/plain": [
       "                                             path  \\\n",
       "0              ./data/exam/exam2017_3/DOv_7_1.ann   \n",
       "1              ./data/exam/exam2017_3/DOv_7_1.ann   \n",
       "2              ./data/exam/exam2017_3/DOv_7_1.ann   \n",
       "3              ./data/exam/exam2017_3/DOv_4_1.ann   \n",
       "4                 ./data/exam/best_works/10_2.ann   \n",
       "5                 ./data/exam/best_works/23_2.ann   \n",
       "6               ./data/exam/exam2017/DPe_62_2.ann   \n",
       "7  ./data/exam/exam2014/2012-2014_2/esl_00450.ann   \n",
       "8  ./data/exam/exam2014/2012-2014_2/esl_00450.ann   \n",
       "9  ./data/exam/exam2014/2012-2014_2/esl_00450.ann   \n",
       "\n",
       "                                                line  \n",
       "0                          #1\\tAnnotatorNotes T1\\tof  \n",
       "1                        #2\\tAnnotatorNotes T3\\tages  \n",
       "2  #11\\tAnnotatorNotes T12\\tFacebook and Instagra...  \n",
       "3          #17\\tAnnotatorNotes T19\\ttarget audiences  \n",
       "4                     #16\\tAnnotatorNotes T16\\t, but  \n",
       "5         #244\\tAnnotatorNotes T245\\tlemma = 'cause'  \n",
       "6            #229\\tAnnotatorNotes T229\\tlemma = 'it'  \n",
       "7         #334\\tAnnotatorNotes T341\\tlemma = 'Earth'  \n",
       "8           #335\\tAnnotatorNotes T342\\tlemma = 'and'  \n",
       "9         #336\\tAnnotatorNotes T343\\tlemma = 'start'  "
      ]
     },
     "execution_count": 47,
     "metadata": {
      "tags": []
     },
     "output_type": "execute_result"
    }
   ],
   "source": [
    "DASH_entries[:10]"
   ]
  },
  {
   "cell_type": "code",
   "execution_count": 48,
   "metadata": {
    "colab": {
     "base_uri": "https://localhost:8080/",
     "height": 343
    },
    "colab_type": "code",
    "executionInfo": {
     "elapsed": 36829,
     "status": "ok",
     "timestamp": 1556554556613,
     "user": {
      "displayName": "Ivan Torubarov",
      "photoUrl": "",
      "userId": "07481003931234110333"
     },
     "user_tz": -180
    },
    "id": "Se-pvMK-SkuO",
    "outputId": "4575c1a8-c905-4f04-9d13-e71a6f25a830"
   },
   "outputs": [
    {
     "data": {
      "text/html": [
       "<div>\n",
       "<style scoped>\n",
       "    .dataframe tbody tr th:only-of-type {\n",
       "        vertical-align: middle;\n",
       "    }\n",
       "\n",
       "    .dataframe tbody tr th {\n",
       "        vertical-align: top;\n",
       "    }\n",
       "\n",
       "    .dataframe thead th {\n",
       "        text-align: right;\n",
       "    }\n",
       "</style>\n",
       "<table border=\"1\" class=\"dataframe\">\n",
       "  <thead>\n",
       "    <tr style=\"text-align: right;\">\n",
       "      <th></th>\n",
       "      <th>path</th>\n",
       "      <th>line</th>\n",
       "    </tr>\n",
       "  </thead>\n",
       "  <tbody>\n",
       "    <tr>\n",
       "      <th>0</th>\n",
       "      <td>./data/exam/exam2017_3/DOv_7_1.ann</td>\n",
       "      <td>A1\\tDelete T2</td>\n",
       "    </tr>\n",
       "    <tr>\n",
       "      <th>1</th>\n",
       "      <td>./data/exam/exam2017_3/DOv_4_1.ann</td>\n",
       "      <td>A1\\tDelete T9</td>\n",
       "    </tr>\n",
       "    <tr>\n",
       "      <th>2</th>\n",
       "      <td>./data/exam/best_works/25_2.ann</td>\n",
       "      <td>A2\\tDelete T15</td>\n",
       "    </tr>\n",
       "    <tr>\n",
       "      <th>3</th>\n",
       "      <td>./data/exam/best_works/7_2.ann</td>\n",
       "      <td>A2\\tDelete T22</td>\n",
       "    </tr>\n",
       "    <tr>\n",
       "      <th>4</th>\n",
       "      <td>./data/exam/exam2017/ABl_25_2.ann</td>\n",
       "      <td>A2\\tDelete T25</td>\n",
       "    </tr>\n",
       "    <tr>\n",
       "      <th>5</th>\n",
       "      <td>./data/exam/exam2017/ABl_25_2.ann</td>\n",
       "      <td>A3\\tDelete T32</td>\n",
       "    </tr>\n",
       "    <tr>\n",
       "      <th>6</th>\n",
       "      <td>./data/exam/exam2017/ABl_25_2.ann</td>\n",
       "      <td>A4\\tDelete T42</td>\n",
       "    </tr>\n",
       "    <tr>\n",
       "      <th>7</th>\n",
       "      <td>./data/exam/exam2017/ABl_25_2.ann</td>\n",
       "      <td>A5\\tDelete T68</td>\n",
       "    </tr>\n",
       "    <tr>\n",
       "      <th>8</th>\n",
       "      <td>./data/exam/exam2017/ABl_25_2.ann</td>\n",
       "      <td>A6\\tDelete T84</td>\n",
       "    </tr>\n",
       "    <tr>\n",
       "      <th>9</th>\n",
       "      <td>./data/exam/exam2017/OBy_168_2.ann</td>\n",
       "      <td>A1\\tDelete T20</td>\n",
       "    </tr>\n",
       "  </tbody>\n",
       "</table>\n",
       "</div>"
      ],
      "text/plain": [
       "                                 path            line\n",
       "0  ./data/exam/exam2017_3/DOv_7_1.ann   A1\\tDelete T2\n",
       "1  ./data/exam/exam2017_3/DOv_4_1.ann   A1\\tDelete T9\n",
       "2     ./data/exam/best_works/25_2.ann  A2\\tDelete T15\n",
       "3      ./data/exam/best_works/7_2.ann  A2\\tDelete T22\n",
       "4   ./data/exam/exam2017/ABl_25_2.ann  A2\\tDelete T25\n",
       "5   ./data/exam/exam2017/ABl_25_2.ann  A3\\tDelete T32\n",
       "6   ./data/exam/exam2017/ABl_25_2.ann  A4\\tDelete T42\n",
       "7   ./data/exam/exam2017/ABl_25_2.ann  A5\\tDelete T68\n",
       "8   ./data/exam/exam2017/ABl_25_2.ann  A6\\tDelete T84\n",
       "9  ./data/exam/exam2017/OBy_168_2.ann  A1\\tDelete T20"
      ]
     },
     "execution_count": 48,
     "metadata": {
      "tags": []
     },
     "output_type": "execute_result"
    }
   ],
   "source": [
    "ADelete_entries[:10]"
   ]
  },
  {
   "cell_type": "markdown",
   "metadata": {
    "colab_type": "text",
    "id": "YeV4ECtzSGB2"
   },
   "source": [
    "Let's rearrange this all into one single database!"
   ]
  },
  {
   "cell_type": "code",
   "execution_count": 0,
   "metadata": {
    "colab": {},
    "colab_type": "code",
    "collapsed": true,
    "id": "GzmXu2emWCY9"
   },
   "outputs": [],
   "source": [
    "linesplit = list(T_entries.line.apply(lambda x: [x.split('\\t')[0]] + x.split('\\t')[1].split(' ') + [x.split('\\t')[2]] ))"
   ]
  },
  {
   "cell_type": "code",
   "execution_count": 0,
   "metadata": {
    "colab": {},
    "colab_type": "code",
    "collapsed": true,
    "id": "ywGbf3sqVsu2"
   },
   "outputs": [],
   "source": [
    "All_Entries = pd.DataFrame({\n",
    "  'path': list(T_entries.path),\n",
    "  'id': [x[0] for x in linesplit],\n",
    "  'type': [x[1] for x in linesplit],\n",
    "  'begin': [x[2] for x in linesplit],\n",
    "  'end': [x[3] for x in linesplit],\n",
    "  'substring': [x[4] for x in linesplit],\n",
    "  'correction': ['' for _ in linesplit],\n",
    "  'delete': [False for _ in linesplit]\n",
    "})"
   ]
  },
  {
   "cell_type": "code",
   "execution_count": 51,
   "metadata": {
    "colab": {
     "base_uri": "https://localhost:8080/",
     "height": 195
    },
    "colab_type": "code",
    "executionInfo": {
     "elapsed": 37720,
     "status": "ok",
     "timestamp": 1556554557590,
     "user": {
      "displayName": "Ivan Torubarov",
      "photoUrl": "",
      "userId": "07481003931234110333"
     },
     "user_tz": -180
    },
    "id": "6tvZcY28XmF0",
    "outputId": "e963b558-747e-41fa-e1a3-8de15c83acac"
   },
   "outputs": [
    {
     "data": {
      "text/html": [
       "<div>\n",
       "<style scoped>\n",
       "    .dataframe tbody tr th:only-of-type {\n",
       "        vertical-align: middle;\n",
       "    }\n",
       "\n",
       "    .dataframe tbody tr th {\n",
       "        vertical-align: top;\n",
       "    }\n",
       "\n",
       "    .dataframe thead th {\n",
       "        text-align: right;\n",
       "    }\n",
       "</style>\n",
       "<table border=\"1\" class=\"dataframe\">\n",
       "  <thead>\n",
       "    <tr style=\"text-align: right;\">\n",
       "      <th></th>\n",
       "      <th>path</th>\n",
       "      <th>id</th>\n",
       "      <th>type</th>\n",
       "      <th>begin</th>\n",
       "      <th>end</th>\n",
       "      <th>substring</th>\n",
       "      <th>correction</th>\n",
       "      <th>delete</th>\n",
       "    </tr>\n",
       "  </thead>\n",
       "  <tbody>\n",
       "    <tr>\n",
       "      <th>0</th>\n",
       "      <td>./data/exam/exam2017_3/DOv_7_1.ann</td>\n",
       "      <td>T1</td>\n",
       "      <td>Prepositions</td>\n",
       "      <td>60</td>\n",
       "      <td>64</td>\n",
       "      <td>from</td>\n",
       "      <td></td>\n",
       "      <td>False</td>\n",
       "    </tr>\n",
       "    <tr>\n",
       "      <th>1</th>\n",
       "      <td>./data/exam/exam2017_3/DOv_7_1.ann</td>\n",
       "      <td>T2</td>\n",
       "      <td>Redundant_comp</td>\n",
       "      <td>79</td>\n",
       "      <td>85</td>\n",
       "      <td>groups</td>\n",
       "      <td></td>\n",
       "      <td>False</td>\n",
       "    </tr>\n",
       "    <tr>\n",
       "      <th>2</th>\n",
       "      <td>./data/exam/exam2017_3/DOv_7_1.ann</td>\n",
       "      <td>T11</td>\n",
       "      <td>Agreement_errors</td>\n",
       "      <td>314</td>\n",
       "      <td>321</td>\n",
       "      <td>becomes</td>\n",
       "      <td></td>\n",
       "      <td>False</td>\n",
       "    </tr>\n",
       "    <tr>\n",
       "      <th>3</th>\n",
       "      <td>./data/exam/exam2017_3/DOv_4_1.ann</td>\n",
       "      <td>T16</td>\n",
       "      <td>Possessive</td>\n",
       "      <td>777</td>\n",
       "      <td>786</td>\n",
       "      <td>Linked In</td>\n",
       "      <td></td>\n",
       "      <td>False</td>\n",
       "    </tr>\n",
       "    <tr>\n",
       "      <th>4</th>\n",
       "      <td>./data/exam/best_works/36_1.ann</td>\n",
       "      <td>T12</td>\n",
       "      <td>Tense_choice</td>\n",
       "      <td>698</td>\n",
       "      <td>707</td>\n",
       "      <td>comprises</td>\n",
       "      <td></td>\n",
       "      <td>False</td>\n",
       "    </tr>\n",
       "  </tbody>\n",
       "</table>\n",
       "</div>"
      ],
      "text/plain": [
       "                                 path   id              type begin  end  \\\n",
       "0  ./data/exam/exam2017_3/DOv_7_1.ann   T1      Prepositions    60   64   \n",
       "1  ./data/exam/exam2017_3/DOv_7_1.ann   T2    Redundant_comp    79   85   \n",
       "2  ./data/exam/exam2017_3/DOv_7_1.ann  T11  Agreement_errors   314  321   \n",
       "3  ./data/exam/exam2017_3/DOv_4_1.ann  T16        Possessive   777  786   \n",
       "4     ./data/exam/best_works/36_1.ann  T12      Tense_choice   698  707   \n",
       "\n",
       "   substring correction  delete  \n",
       "0       from              False  \n",
       "1     groups              False  \n",
       "2    becomes              False  \n",
       "3  Linked In              False  \n",
       "4  comprises              False  "
      ]
     },
     "execution_count": 51,
     "metadata": {
      "tags": []
     },
     "output_type": "execute_result"
    }
   ],
   "source": [
    "All_Entries.head()"
   ]
  },
  {
   "cell_type": "code",
   "execution_count": 52,
   "metadata": {
    "colab": {
     "base_uri": "https://localhost:8080/",
     "height": 228
    },
    "colab_type": "code",
    "executionInfo": {
     "elapsed": 46272,
     "status": "ok",
     "timestamp": 1556554566158,
     "user": {
      "displayName": "Ivan Torubarov",
      "photoUrl": "",
      "userId": "07481003931234110333"
     },
     "user_tz": -180
    },
    "id": "ac3bW7LbXuua",
    "outputId": "4dc64dc1-4336-4e55-dacd-3f2226af4799"
   },
   "outputs": [
    {
     "data": {
      "text/plain": [
       "[['./data/exam/exam2017_3/DOv_7_1.ann', 'T1', 'of'],\n",
       " ['./data/exam/exam2017_3/DOv_7_1.ann', 'T3', 'ages'],\n",
       " ['./data/exam/exam2017_3/DOv_7_1.ann',\n",
       "  'T12',\n",
       "  'Facebook and Instagram become among them'],\n",
       " ['./data/exam/exam2017_3/DOv_4_1.ann', 'T19', 'target audiences'],\n",
       " ['./data/exam/best_works/10_2.ann', 'T16', ', but'],\n",
       " ['./data/exam/best_works/23_2.ann', 'T245', \"lemma = 'cause'\"],\n",
       " ['./data/exam/exam2017/DPe_62_2.ann', 'T229', \"lemma = 'it'\"],\n",
       " ['./data/exam/exam2014/2012-2014_2/esl_00450.ann', 'T341', \"lemma = 'Earth'\"],\n",
       " ['./data/exam/exam2014/2012-2014_2/esl_00450.ann', 'T342', \"lemma = 'and'\"],\n",
       " ['./data/exam/exam2014/2012-2014_2/esl_00450.ann', 'T343', \"lemma = 'start'\"]]"
      ]
     },
     "execution_count": 52,
     "metadata": {
      "tags": []
     },
     "output_type": "execute_result"
    }
   ],
   "source": [
    "DASHZip = zip(list(DASH_entries.path), list(DASH_entries.line))\n",
    "DASHList = []\n",
    "for e in DASHZip:\n",
    "  DASHList.append([e[0], e[1].split('\\t')[1].split(' ')[1], e[1].split('\\t')[2]])\n",
    "DASHList[:10]"
   ]
  },
  {
   "cell_type": "code",
   "execution_count": 0,
   "metadata": {
    "colab": {},
    "colab_type": "code",
    "collapsed": true,
    "id": "RtVWhjtAe_k5"
   },
   "outputs": [],
   "source": [
    "DASHDict = {e[0]+e[1]: e[2] for e in DASHList}"
   ]
  },
  {
   "cell_type": "code",
   "execution_count": 54,
   "metadata": {
    "colab": {
     "base_uri": "https://localhost:8080/",
     "height": 52
    },
    "colab_type": "code",
    "executionInfo": {
     "elapsed": 65405,
     "status": "ok",
     "timestamp": 1556554585315,
     "user": {
      "displayName": "Ivan Torubarov",
      "photoUrl": "",
      "userId": "07481003931234110333"
     },
     "user_tz": -180
    },
    "id": "y91KXAvkYIoy",
    "outputId": "319165a5-1ba3-495f-e40e-3623b24c2f70"
   },
   "outputs": [
    {
     "name": "stdout",
     "output_type": "stream",
     "text": [
      "CPU times: user 17.1 s, sys: 37.7 ms, total: 17.1 s\n",
      "Wall time: 17.1 s\n"
     ]
    }
   ],
   "source": [
    "%%time\n",
    "\n",
    "for i, row in All_Entries.iterrows():\n",
    "  key = row[0]+row[1]\n",
    "  Correction = \"\"\n",
    "  if key in DASHDict:\n",
    "    Correction = DASHDict[key]\n",
    "  All_Entries.at[i,'correction'] = Correction"
   ]
  },
  {
   "cell_type": "code",
   "execution_count": 55,
   "metadata": {
    "colab": {
     "base_uri": "https://localhost:8080/",
     "height": 195
    },
    "colab_type": "code",
    "executionInfo": {
     "elapsed": 65391,
     "status": "ok",
     "timestamp": 1556554585316,
     "user": {
      "displayName": "Ivan Torubarov",
      "photoUrl": "",
      "userId": "07481003931234110333"
     },
     "user_tz": -180
    },
    "id": "eJjM9nwZgi4X",
    "outputId": "e5b08c61-fec8-403a-9ce3-537dc87a9ba5"
   },
   "outputs": [
    {
     "data": {
      "text/html": [
       "<div>\n",
       "<style scoped>\n",
       "    .dataframe tbody tr th:only-of-type {\n",
       "        vertical-align: middle;\n",
       "    }\n",
       "\n",
       "    .dataframe tbody tr th {\n",
       "        vertical-align: top;\n",
       "    }\n",
       "\n",
       "    .dataframe thead th {\n",
       "        text-align: right;\n",
       "    }\n",
       "</style>\n",
       "<table border=\"1\" class=\"dataframe\">\n",
       "  <thead>\n",
       "    <tr style=\"text-align: right;\">\n",
       "      <th></th>\n",
       "      <th>path</th>\n",
       "      <th>id</th>\n",
       "      <th>type</th>\n",
       "      <th>begin</th>\n",
       "      <th>end</th>\n",
       "      <th>substring</th>\n",
       "      <th>correction</th>\n",
       "      <th>delete</th>\n",
       "    </tr>\n",
       "  </thead>\n",
       "  <tbody>\n",
       "    <tr>\n",
       "      <th>0</th>\n",
       "      <td>./data/exam/exam2017_3/DOv_7_1.ann</td>\n",
       "      <td>T1</td>\n",
       "      <td>Prepositions</td>\n",
       "      <td>60</td>\n",
       "      <td>64</td>\n",
       "      <td>from</td>\n",
       "      <td>of</td>\n",
       "      <td>False</td>\n",
       "    </tr>\n",
       "    <tr>\n",
       "      <th>1</th>\n",
       "      <td>./data/exam/exam2017_3/DOv_7_1.ann</td>\n",
       "      <td>T2</td>\n",
       "      <td>Redundant_comp</td>\n",
       "      <td>79</td>\n",
       "      <td>85</td>\n",
       "      <td>groups</td>\n",
       "      <td></td>\n",
       "      <td>False</td>\n",
       "    </tr>\n",
       "    <tr>\n",
       "      <th>2</th>\n",
       "      <td>./data/exam/exam2017_3/DOv_7_1.ann</td>\n",
       "      <td>T11</td>\n",
       "      <td>Agreement_errors</td>\n",
       "      <td>314</td>\n",
       "      <td>321</td>\n",
       "      <td>becomes</td>\n",
       "      <td>become</td>\n",
       "      <td>False</td>\n",
       "    </tr>\n",
       "    <tr>\n",
       "      <th>3</th>\n",
       "      <td>./data/exam/exam2017_3/DOv_4_1.ann</td>\n",
       "      <td>T16</td>\n",
       "      <td>Possessive</td>\n",
       "      <td>777</td>\n",
       "      <td>786</td>\n",
       "      <td>Linked In</td>\n",
       "      <td>LinkedIn's</td>\n",
       "      <td>False</td>\n",
       "    </tr>\n",
       "    <tr>\n",
       "      <th>4</th>\n",
       "      <td>./data/exam/best_works/36_1.ann</td>\n",
       "      <td>T12</td>\n",
       "      <td>Tense_choice</td>\n",
       "      <td>698</td>\n",
       "      <td>707</td>\n",
       "      <td>comprises</td>\n",
       "      <td>was</td>\n",
       "      <td>False</td>\n",
       "    </tr>\n",
       "  </tbody>\n",
       "</table>\n",
       "</div>"
      ],
      "text/plain": [
       "                                 path   id              type begin  end  \\\n",
       "0  ./data/exam/exam2017_3/DOv_7_1.ann   T1      Prepositions    60   64   \n",
       "1  ./data/exam/exam2017_3/DOv_7_1.ann   T2    Redundant_comp    79   85   \n",
       "2  ./data/exam/exam2017_3/DOv_7_1.ann  T11  Agreement_errors   314  321   \n",
       "3  ./data/exam/exam2017_3/DOv_4_1.ann  T16        Possessive   777  786   \n",
       "4     ./data/exam/best_works/36_1.ann  T12      Tense_choice   698  707   \n",
       "\n",
       "   substring  correction  delete  \n",
       "0       from          of   False  \n",
       "1     groups               False  \n",
       "2    becomes      become   False  \n",
       "3  Linked In  LinkedIn's   False  \n",
       "4  comprises         was   False  "
      ]
     },
     "execution_count": 55,
     "metadata": {
      "tags": []
     },
     "output_type": "execute_result"
    }
   ],
   "source": [
    "All_Entries.head()"
   ]
  },
  {
   "cell_type": "code",
   "execution_count": 0,
   "metadata": {
    "colab": {},
    "colab_type": "code",
    "collapsed": true,
    "id": "oHYVTUlpgqAA"
   },
   "outputs": [],
   "source": [
    "ADZip = zip(list(ADelete_entries.path), list(ADelete_entries.line))\n",
    "ADSet = set()\n",
    "for e in ADZip:\n",
    "  ADSet.add(e[0]+e[1].split('\\t')[1].split(' ')[1])"
   ]
  },
  {
   "cell_type": "code",
   "execution_count": 57,
   "metadata": {
    "colab": {
     "base_uri": "https://localhost:8080/",
     "height": 52
    },
    "colab_type": "code",
    "executionInfo": {
     "elapsed": 80787,
     "status": "ok",
     "timestamp": 1556554600756,
     "user": {
      "displayName": "Ivan Torubarov",
      "photoUrl": "",
      "userId": "07481003931234110333"
     },
     "user_tz": -180
    },
    "id": "yleNZzMBhUf9",
    "outputId": "0f8bcd4d-6ba7-4a73-f0c3-90968bdb9230"
   },
   "outputs": [
    {
     "name": "stdout",
     "output_type": "stream",
     "text": [
      "CPU times: user 15.1 s, sys: 1.9 ms, total: 15.1 s\n",
      "Wall time: 15.1 s\n"
     ]
    }
   ],
   "source": [
    "%%time\n",
    "\n",
    "for i, row in All_Entries.iterrows():\n",
    "  key = row[0]+row[1]\n",
    "  Delete = False\n",
    "  if key in ADSet:\n",
    "    All_Entries.at[i,'delete'] = True"
   ]
  },
  {
   "cell_type": "code",
   "execution_count": 58,
   "metadata": {
    "colab": {
     "base_uri": "https://localhost:8080/",
     "height": 195
    },
    "colab_type": "code",
    "executionInfo": {
     "elapsed": 80776,
     "status": "ok",
     "timestamp": 1556554600757,
     "user": {
      "displayName": "Ivan Torubarov",
      "photoUrl": "",
      "userId": "07481003931234110333"
     },
     "user_tz": -180
    },
    "id": "BdbU7-C7hmsG",
    "outputId": "8c56a29f-1f3e-437b-fe48-1f1813ce4a99"
   },
   "outputs": [
    {
     "data": {
      "text/html": [
       "<div>\n",
       "<style scoped>\n",
       "    .dataframe tbody tr th:only-of-type {\n",
       "        vertical-align: middle;\n",
       "    }\n",
       "\n",
       "    .dataframe tbody tr th {\n",
       "        vertical-align: top;\n",
       "    }\n",
       "\n",
       "    .dataframe thead th {\n",
       "        text-align: right;\n",
       "    }\n",
       "</style>\n",
       "<table border=\"1\" class=\"dataframe\">\n",
       "  <thead>\n",
       "    <tr style=\"text-align: right;\">\n",
       "      <th></th>\n",
       "      <th>path</th>\n",
       "      <th>id</th>\n",
       "      <th>type</th>\n",
       "      <th>begin</th>\n",
       "      <th>end</th>\n",
       "      <th>substring</th>\n",
       "      <th>correction</th>\n",
       "      <th>delete</th>\n",
       "    </tr>\n",
       "  </thead>\n",
       "  <tbody>\n",
       "    <tr>\n",
       "      <th>0</th>\n",
       "      <td>./data/exam/exam2017_3/DOv_7_1.ann</td>\n",
       "      <td>T1</td>\n",
       "      <td>Prepositions</td>\n",
       "      <td>60</td>\n",
       "      <td>64</td>\n",
       "      <td>from</td>\n",
       "      <td>of</td>\n",
       "      <td>False</td>\n",
       "    </tr>\n",
       "    <tr>\n",
       "      <th>1</th>\n",
       "      <td>./data/exam/exam2017_3/DOv_7_1.ann</td>\n",
       "      <td>T2</td>\n",
       "      <td>Redundant_comp</td>\n",
       "      <td>79</td>\n",
       "      <td>85</td>\n",
       "      <td>groups</td>\n",
       "      <td></td>\n",
       "      <td>True</td>\n",
       "    </tr>\n",
       "    <tr>\n",
       "      <th>2</th>\n",
       "      <td>./data/exam/exam2017_3/DOv_7_1.ann</td>\n",
       "      <td>T11</td>\n",
       "      <td>Agreement_errors</td>\n",
       "      <td>314</td>\n",
       "      <td>321</td>\n",
       "      <td>becomes</td>\n",
       "      <td>become</td>\n",
       "      <td>False</td>\n",
       "    </tr>\n",
       "    <tr>\n",
       "      <th>3</th>\n",
       "      <td>./data/exam/exam2017_3/DOv_4_1.ann</td>\n",
       "      <td>T16</td>\n",
       "      <td>Possessive</td>\n",
       "      <td>777</td>\n",
       "      <td>786</td>\n",
       "      <td>Linked In</td>\n",
       "      <td>LinkedIn's</td>\n",
       "      <td>False</td>\n",
       "    </tr>\n",
       "    <tr>\n",
       "      <th>4</th>\n",
       "      <td>./data/exam/best_works/36_1.ann</td>\n",
       "      <td>T12</td>\n",
       "      <td>Tense_choice</td>\n",
       "      <td>698</td>\n",
       "      <td>707</td>\n",
       "      <td>comprises</td>\n",
       "      <td>was</td>\n",
       "      <td>False</td>\n",
       "    </tr>\n",
       "  </tbody>\n",
       "</table>\n",
       "</div>"
      ],
      "text/plain": [
       "                                 path   id              type begin  end  \\\n",
       "0  ./data/exam/exam2017_3/DOv_7_1.ann   T1      Prepositions    60   64   \n",
       "1  ./data/exam/exam2017_3/DOv_7_1.ann   T2    Redundant_comp    79   85   \n",
       "2  ./data/exam/exam2017_3/DOv_7_1.ann  T11  Agreement_errors   314  321   \n",
       "3  ./data/exam/exam2017_3/DOv_4_1.ann  T16        Possessive   777  786   \n",
       "4     ./data/exam/best_works/36_1.ann  T12      Tense_choice   698  707   \n",
       "\n",
       "   substring  correction  delete  \n",
       "0       from          of   False  \n",
       "1     groups                True  \n",
       "2    becomes      become   False  \n",
       "3  Linked In  LinkedIn's   False  \n",
       "4  comprises         was   False  "
      ]
     },
     "execution_count": 58,
     "metadata": {
      "tags": []
     },
     "output_type": "execute_result"
    }
   ],
   "source": [
    "All_Entries.head()"
   ]
  },
  {
   "cell_type": "code",
   "execution_count": 59,
   "metadata": {
    "colab": {
     "base_uri": "https://localhost:8080/",
     "height": 1882
    },
    "colab_type": "code",
    "executionInfo": {
     "elapsed": 80771,
     "status": "ok",
     "timestamp": 1556554600758,
     "user": {
      "displayName": "Ivan Torubarov",
      "photoUrl": "",
      "userId": "07481003931234110333"
     },
     "user_tz": -180
    },
    "id": "hrk1oTsThylu",
    "outputId": "42541991-7c41-421a-e634-d2513eb399b8"
   },
   "outputs": [
    {
     "data": {
      "text/html": [
       "<div>\n",
       "<style scoped>\n",
       "    .dataframe tbody tr th:only-of-type {\n",
       "        vertical-align: middle;\n",
       "    }\n",
       "\n",
       "    .dataframe tbody tr th {\n",
       "        vertical-align: top;\n",
       "    }\n",
       "\n",
       "    .dataframe thead th {\n",
       "        text-align: right;\n",
       "    }\n",
       "</style>\n",
       "<table border=\"1\" class=\"dataframe\">\n",
       "  <thead>\n",
       "    <tr style=\"text-align: right;\">\n",
       "      <th></th>\n",
       "      <th>path</th>\n",
       "      <th>id</th>\n",
       "      <th>type</th>\n",
       "      <th>begin</th>\n",
       "      <th>end</th>\n",
       "      <th>substring</th>\n",
       "      <th>correction</th>\n",
       "      <th>delete</th>\n",
       "    </tr>\n",
       "  </thead>\n",
       "  <tbody>\n",
       "    <tr>\n",
       "      <th>6</th>\n",
       "      <td>./data/old IELTS/IELTS2016/EEm_123_1.ann</td>\n",
       "      <td>T7</td>\n",
       "      <td>Articles</td>\n",
       "      <td>706</td>\n",
       "      <td>715</td>\n",
       "      <td>goverment</td>\n",
       "      <td></td>\n",
       "      <td>False</td>\n",
       "    </tr>\n",
       "    <tr>\n",
       "      <th>8</th>\n",
       "      <td>./data/old IELTS/IELTS2016/EEm_123_1.ann</td>\n",
       "      <td>T9</td>\n",
       "      <td>Spelling</td>\n",
       "      <td>877</td>\n",
       "      <td>886</td>\n",
       "      <td>goverment</td>\n",
       "      <td></td>\n",
       "      <td>False</td>\n",
       "    </tr>\n",
       "    <tr>\n",
       "      <th>10</th>\n",
       "      <td>./data/old IELTS/IELTS2016/EEm_123_1.ann</td>\n",
       "      <td>T11</td>\n",
       "      <td>Articles</td>\n",
       "      <td>877</td>\n",
       "      <td>886</td>\n",
       "      <td>goverment</td>\n",
       "      <td></td>\n",
       "      <td>False</td>\n",
       "    </tr>\n",
       "    <tr>\n",
       "      <th>12</th>\n",
       "      <td>./data/old IELTS/IELTS2016/EEm_123_1.ann</td>\n",
       "      <td>T13</td>\n",
       "      <td>Numerals</td>\n",
       "      <td>533</td>\n",
       "      <td>541</td>\n",
       "      <td>millions</td>\n",
       "      <td></td>\n",
       "      <td>False</td>\n",
       "    </tr>\n",
       "    <tr>\n",
       "      <th>13</th>\n",
       "      <td>./data/old IELTS/IELTS2016/EEm_123_1.ann</td>\n",
       "      <td>T14</td>\n",
       "      <td>Numerals</td>\n",
       "      <td>550</td>\n",
       "      <td>558</td>\n",
       "      <td>millions</td>\n",
       "      <td></td>\n",
       "      <td>False</td>\n",
       "    </tr>\n",
       "    <tr>\n",
       "      <th>14</th>\n",
       "      <td>./data/old IELTS/IELTS2016/EEm_123_1.ann</td>\n",
       "      <td>T15</td>\n",
       "      <td>Numerals</td>\n",
       "      <td>580</td>\n",
       "      <td>588</td>\n",
       "      <td>millions</td>\n",
       "      <td></td>\n",
       "      <td>False</td>\n",
       "    </tr>\n",
       "    <tr>\n",
       "      <th>15</th>\n",
       "      <td>./data/old IELTS/IELTS2016/EEm_123_1.ann</td>\n",
       "      <td>T16</td>\n",
       "      <td>Numerals</td>\n",
       "      <td>596</td>\n",
       "      <td>604</td>\n",
       "      <td>millions</td>\n",
       "      <td></td>\n",
       "      <td>False</td>\n",
       "    </tr>\n",
       "    <tr>\n",
       "      <th>17</th>\n",
       "      <td>./data/old IELTS/IELTS2016/EEm_123_1.ann</td>\n",
       "      <td>T17</td>\n",
       "      <td>Numerals</td>\n",
       "      <td>630</td>\n",
       "      <td>638</td>\n",
       "      <td>millions</td>\n",
       "      <td></td>\n",
       "      <td>False</td>\n",
       "    </tr>\n",
       "    <tr>\n",
       "      <th>18</th>\n",
       "      <td>./data/old IELTS/IELTS2016/EEm_123_1.ann</td>\n",
       "      <td>T18</td>\n",
       "      <td>Numerals</td>\n",
       "      <td>647</td>\n",
       "      <td>655</td>\n",
       "      <td>millions</td>\n",
       "      <td></td>\n",
       "      <td>False</td>\n",
       "    </tr>\n",
       "    <tr>\n",
       "      <th>108</th>\n",
       "      <td>./data/old IELTS/IELTS2016/DZu_19_2.ann</td>\n",
       "      <td>T10</td>\n",
       "      <td>Inappropriate_register</td>\n",
       "      <td>864</td>\n",
       "      <td>879</td>\n",
       "      <td>I am 100% sure,</td>\n",
       "      <td></td>\n",
       "      <td>False</td>\n",
       "    </tr>\n",
       "    <tr>\n",
       "      <th>128</th>\n",
       "      <td>./data/old IELTS/IELTS2016/DZu_148_2.ann</td>\n",
       "      <td>T13</td>\n",
       "      <td>Absence_explanation</td>\n",
       "      <td>1162</td>\n",
       "      <td>1168</td>\n",
       "      <td>, it i</td>\n",
       "      <td></td>\n",
       "      <td>False</td>\n",
       "    </tr>\n",
       "    <tr>\n",
       "      <th>188</th>\n",
       "      <td>./data/old IELTS/IELTS2016/MTsy_15_2.ann</td>\n",
       "      <td>T9</td>\n",
       "      <td>lex_item_choice</td>\n",
       "      <td>421</td>\n",
       "      <td>425</td>\n",
       "      <td>duty</td>\n",
       "      <td></td>\n",
       "      <td>False</td>\n",
       "    </tr>\n",
       "    <tr>\n",
       "      <th>198</th>\n",
       "      <td>./data/old IELTS/IELTS2016/MTsy_15_2.ann</td>\n",
       "      <td>T18</td>\n",
       "      <td>Word_choice</td>\n",
       "      <td>737</td>\n",
       "      <td>754</td>\n",
       "      <td>destroy pollution</td>\n",
       "      <td></td>\n",
       "      <td>False</td>\n",
       "    </tr>\n",
       "    <tr>\n",
       "      <th>218</th>\n",
       "      <td>./data/old IELTS/IELTS2016/DZu_50_1.ann</td>\n",
       "      <td>T4</td>\n",
       "      <td>Punctuation</td>\n",
       "      <td>211</td>\n",
       "      <td>221</td>\n",
       "      <td>fact, that</td>\n",
       "      <td></td>\n",
       "      <td>False</td>\n",
       "    </tr>\n",
       "    <tr>\n",
       "      <th>315</th>\n",
       "      <td>./data/exam/exam2017/EGe_234_1.ann</td>\n",
       "      <td>T3</td>\n",
       "      <td>Agreement_errors</td>\n",
       "      <td>133</td>\n",
       "      <td>137</td>\n",
       "      <td>data</td>\n",
       "      <td></td>\n",
       "      <td>False</td>\n",
       "    </tr>\n",
       "    <tr>\n",
       "      <th>428</th>\n",
       "      <td>./data/old IELTS/IELTS2016/OR_31_1.ann</td>\n",
       "      <td>T14</td>\n",
       "      <td>Word_choice</td>\n",
       "      <td>167</td>\n",
       "      <td>173</td>\n",
       "      <td>letter</td>\n",
       "      <td></td>\n",
       "      <td>False</td>\n",
       "    </tr>\n",
       "    <tr>\n",
       "      <th>498</th>\n",
       "      <td>./data/old IELTS/IELTS2016/NMa_20_2.ann</td>\n",
       "      <td>T27</td>\n",
       "      <td>Coherence</td>\n",
       "      <td>432</td>\n",
       "      <td>434</td>\n",
       "      <td>it</td>\n",
       "      <td></td>\n",
       "      <td>False</td>\n",
       "    </tr>\n",
       "    <tr>\n",
       "      <th>508</th>\n",
       "      <td>./data/old IELTS/IELTS2016/NMa_20_2.ann</td>\n",
       "      <td>T38</td>\n",
       "      <td>Absence_comp_sent</td>\n",
       "      <td>817</td>\n",
       "      <td>861</td>\n",
       "      <td>While many people think that It is necessary</td>\n",
       "      <td></td>\n",
       "      <td>False</td>\n",
       "    </tr>\n",
       "    <tr>\n",
       "      <th>516</th>\n",
       "      <td>./data/old IELTS/IELTS2016/EEm_200_1.ann</td>\n",
       "      <td>T2</td>\n",
       "      <td>Tense_choice</td>\n",
       "      <td>369</td>\n",
       "      <td>380</td>\n",
       "      <td>have passed</td>\n",
       "      <td></td>\n",
       "      <td>False</td>\n",
       "    </tr>\n",
       "    <tr>\n",
       "      <th>518</th>\n",
       "      <td>./data/old IELTS/IELTS2016/EEm_200_1.ann</td>\n",
       "      <td>T4</td>\n",
       "      <td>Possessive</td>\n",
       "      <td>671</td>\n",
       "      <td>672</td>\n",
       "      <td>’</td>\n",
       "      <td></td>\n",
       "      <td>False</td>\n",
       "    </tr>\n",
       "    <tr>\n",
       "      <th>521</th>\n",
       "      <td>./data/old IELTS/IELTS2016/EEm_200_1.ann</td>\n",
       "      <td>T7</td>\n",
       "      <td>Redundant</td>\n",
       "      <td>80</td>\n",
       "      <td>86</td>\n",
       "      <td>attend</td>\n",
       "      <td></td>\n",
       "      <td>False</td>\n",
       "    </tr>\n",
       "    <tr>\n",
       "      <th>522</th>\n",
       "      <td>./data/old IELTS/IELTS2016/EEm_200_1.ann</td>\n",
       "      <td>T8</td>\n",
       "      <td>Spelling</td>\n",
       "      <td>133</td>\n",
       "      <td>140</td>\n",
       "      <td>devided</td>\n",
       "      <td></td>\n",
       "      <td>False</td>\n",
       "    </tr>\n",
       "    <tr>\n",
       "      <th>524</th>\n",
       "      <td>./data/old IELTS/IELTS2016/EEm_200_1.ann</td>\n",
       "      <td>T10</td>\n",
       "      <td>Spelling</td>\n",
       "      <td>563</td>\n",
       "      <td>570</td>\n",
       "      <td>childer</td>\n",
       "      <td></td>\n",
       "      <td>False</td>\n",
       "    </tr>\n",
       "    <tr>\n",
       "      <th>529</th>\n",
       "      <td>./data/old IELTS/IELTS2016/DZu_180_1.ann</td>\n",
       "      <td>T4</td>\n",
       "      <td>Absence_explanation</td>\n",
       "      <td>338</td>\n",
       "      <td>368</td>\n",
       "      <td>88,6 millions to 68,9 millions</td>\n",
       "      <td></td>\n",
       "      <td>False</td>\n",
       "    </tr>\n",
       "    <tr>\n",
       "      <th>598</th>\n",
       "      <td>./data/old IELTS/IELTS2016/OR_19_2.ann</td>\n",
       "      <td>T20</td>\n",
       "      <td>Spelling</td>\n",
       "      <td>1185</td>\n",
       "      <td>1189</td>\n",
       "      <td>dear</td>\n",
       "      <td></td>\n",
       "      <td>False</td>\n",
       "    </tr>\n",
       "    <tr>\n",
       "      <th>600</th>\n",
       "      <td>./data/old IELTS/IELTS2016/EEm_164_1.ann</td>\n",
       "      <td>T1</td>\n",
       "      <td>Articles</td>\n",
       "      <td>163</td>\n",
       "      <td>169</td>\n",
       "      <td>number</td>\n",
       "      <td></td>\n",
       "      <td>False</td>\n",
       "    </tr>\n",
       "    <tr>\n",
       "      <th>602</th>\n",
       "      <td>./data/old IELTS/IELTS2016/EEm_164_1.ann</td>\n",
       "      <td>T3</td>\n",
       "      <td>Noun_number</td>\n",
       "      <td>396</td>\n",
       "      <td>401</td>\n",
       "      <td>falls</td>\n",
       "      <td></td>\n",
       "      <td>False</td>\n",
       "    </tr>\n",
       "    <tr>\n",
       "      <th>730</th>\n",
       "      <td>./data/old IELTS/IELTS2016/EEm_187_1.ann</td>\n",
       "      <td>T1</td>\n",
       "      <td>Standard</td>\n",
       "      <td>284</td>\n",
       "      <td>326</td>\n",
       "      <td>The biggest difference shows us South Asia</td>\n",
       "      <td></td>\n",
       "      <td>False</td>\n",
       "    </tr>\n",
       "    <tr>\n",
       "      <th>734</th>\n",
       "      <td>./data/old IELTS/IELTS2016/EEm_187_1.ann</td>\n",
       "      <td>T5</td>\n",
       "      <td>Punctuation</td>\n",
       "      <td>918</td>\n",
       "      <td>954</td>\n",
       "      <td>Taking everything into consideration</td>\n",
       "      <td></td>\n",
       "      <td>False</td>\n",
       "    </tr>\n",
       "    <tr>\n",
       "      <th>738</th>\n",
       "      <td>./data/old IELTS/IELTS2016/EEm_187_1.ann</td>\n",
       "      <td>T8</td>\n",
       "      <td>Articles</td>\n",
       "      <td>1028</td>\n",
       "      <td>1035</td>\n",
       "      <td>dynamic</td>\n",
       "      <td></td>\n",
       "      <td>False</td>\n",
       "    </tr>\n",
       "    <tr>\n",
       "      <th>...</th>\n",
       "      <td>...</td>\n",
       "      <td>...</td>\n",
       "      <td>...</td>\n",
       "      <td>...</td>\n",
       "      <td>...</td>\n",
       "      <td>...</td>\n",
       "      <td>...</td>\n",
       "      <td>...</td>\n",
       "    </tr>\n",
       "    <tr>\n",
       "      <th>108651</th>\n",
       "      <td>./data/old IELTS/IELTS2016/EEm_106_2.ann</td>\n",
       "      <td>T45</td>\n",
       "      <td>Articles</td>\n",
       "      <td>1912</td>\n",
       "      <td>1923</td>\n",
       "      <td>information</td>\n",
       "      <td></td>\n",
       "      <td>False</td>\n",
       "    </tr>\n",
       "    <tr>\n",
       "      <th>108652</th>\n",
       "      <td>./data/old IELTS/IELTS2016/EEm_106_2.ann</td>\n",
       "      <td>T46</td>\n",
       "      <td>Agreement_errors</td>\n",
       "      <td>2013</td>\n",
       "      <td>2019</td>\n",
       "      <td>depend</td>\n",
       "      <td></td>\n",
       "      <td>False</td>\n",
       "    </tr>\n",
       "    <tr>\n",
       "      <th>108655</th>\n",
       "      <td>./data/old IELTS/IELTS2016/EEm_106_2.ann</td>\n",
       "      <td>T48</td>\n",
       "      <td>Articles</td>\n",
       "      <td>1989</td>\n",
       "      <td>1995</td>\n",
       "      <td>amount</td>\n",
       "      <td></td>\n",
       "      <td>False</td>\n",
       "    </tr>\n",
       "    <tr>\n",
       "      <th>108661</th>\n",
       "      <td>./data/old IELTS/IELTS2016/EEm_106_2.ann</td>\n",
       "      <td>T54</td>\n",
       "      <td>Countable_uncountable</td>\n",
       "      <td>1618</td>\n",
       "      <td>1628</td>\n",
       "      <td>knowledges</td>\n",
       "      <td></td>\n",
       "      <td>False</td>\n",
       "    </tr>\n",
       "    <tr>\n",
       "      <th>108725</th>\n",
       "      <td>./data/old IELTS/IELTS2016/MTsy_21_2.ann</td>\n",
       "      <td>T20</td>\n",
       "      <td>Linking_device</td>\n",
       "      <td>322</td>\n",
       "      <td>329</td>\n",
       "      <td>or also</td>\n",
       "      <td></td>\n",
       "      <td>False</td>\n",
       "    </tr>\n",
       "    <tr>\n",
       "      <th>108732</th>\n",
       "      <td>./data/old IELTS/IELTS2016/MTsy_21_2.ann</td>\n",
       "      <td>T26</td>\n",
       "      <td>Ref_device</td>\n",
       "      <td>555</td>\n",
       "      <td>560</td>\n",
       "      <td>other</td>\n",
       "      <td></td>\n",
       "      <td>False</td>\n",
       "    </tr>\n",
       "    <tr>\n",
       "      <th>108760</th>\n",
       "      <td>./data/old IELTS/IELTS2016/MTsy_21_2.ann</td>\n",
       "      <td>T50</td>\n",
       "      <td>Ref_device</td>\n",
       "      <td>1096</td>\n",
       "      <td>1100</td>\n",
       "      <td>them</td>\n",
       "      <td></td>\n",
       "      <td>False</td>\n",
       "    </tr>\n",
       "    <tr>\n",
       "      <th>108770</th>\n",
       "      <td>./data/old IELTS/IELTS2016/MTsy_21_2.ann</td>\n",
       "      <td>T59</td>\n",
       "      <td>lex_item_choice</td>\n",
       "      <td>1381</td>\n",
       "      <td>1421</td>\n",
       "      <td>technical damages of air of modern world</td>\n",
       "      <td></td>\n",
       "      <td>False</td>\n",
       "    </tr>\n",
       "    <tr>\n",
       "      <th>108840</th>\n",
       "      <td>./data/old IELTS/IELTS2016/EKu_90_1.ann</td>\n",
       "      <td>T15</td>\n",
       "      <td>Word_choice</td>\n",
       "      <td>1415</td>\n",
       "      <td>1424</td>\n",
       "      <td>over race</td>\n",
       "      <td></td>\n",
       "      <td>False</td>\n",
       "    </tr>\n",
       "    <tr>\n",
       "      <th>108859</th>\n",
       "      <td>./data/old IELTS/IELTS2016/JSl_105_2.ann</td>\n",
       "      <td>T3</td>\n",
       "      <td>Absence_comp_sent</td>\n",
       "      <td>106</td>\n",
       "      <td>130</td>\n",
       "      <td>the employ local workers</td>\n",
       "      <td></td>\n",
       "      <td>False</td>\n",
       "    </tr>\n",
       "    <tr>\n",
       "      <th>108912</th>\n",
       "      <td>./data/old IELTS/IELTS2016/NMa_21_1.ann</td>\n",
       "      <td>T3</td>\n",
       "      <td>Punctuation</td>\n",
       "      <td>488</td>\n",
       "      <td>489</td>\n",
       "      <td>)</td>\n",
       "      <td></td>\n",
       "      <td>False</td>\n",
       "    </tr>\n",
       "    <tr>\n",
       "      <th>109002</th>\n",
       "      <td>./data/old IELTS/IELTS2016/EKu_47_1.ann</td>\n",
       "      <td>T5</td>\n",
       "      <td>Word_choice</td>\n",
       "      <td>596</td>\n",
       "      <td>605</td>\n",
       "      <td>free-time</td>\n",
       "      <td></td>\n",
       "      <td>False</td>\n",
       "    </tr>\n",
       "    <tr>\n",
       "      <th>109096</th>\n",
       "      <td>./data/old IELTS/IELTS2016/EEm_177_1.ann</td>\n",
       "      <td>T3</td>\n",
       "      <td>Articles</td>\n",
       "      <td>454</td>\n",
       "      <td>472</td>\n",
       "      <td>the primary school</td>\n",
       "      <td></td>\n",
       "      <td>False</td>\n",
       "    </tr>\n",
       "    <tr>\n",
       "      <th>109098</th>\n",
       "      <td>./data/old IELTS/IELTS2016/EEm_177_1.ann</td>\n",
       "      <td>T4</td>\n",
       "      <td>Articles</td>\n",
       "      <td>613</td>\n",
       "      <td>621</td>\n",
       "      <td>relation</td>\n",
       "      <td></td>\n",
       "      <td>False</td>\n",
       "    </tr>\n",
       "    <tr>\n",
       "      <th>109101</th>\n",
       "      <td>./data/old IELTS/IELTS2016/EEm_177_1.ann</td>\n",
       "      <td>T7</td>\n",
       "      <td>Numerals</td>\n",
       "      <td>322</td>\n",
       "      <td>330</td>\n",
       "      <td>millions</td>\n",
       "      <td></td>\n",
       "      <td>False</td>\n",
       "    </tr>\n",
       "    <tr>\n",
       "      <th>109102</th>\n",
       "      <td>./data/old IELTS/IELTS2016/EEm_177_1.ann</td>\n",
       "      <td>T8</td>\n",
       "      <td>Numerals</td>\n",
       "      <td>345</td>\n",
       "      <td>353</td>\n",
       "      <td>millions</td>\n",
       "      <td></td>\n",
       "      <td>False</td>\n",
       "    </tr>\n",
       "    <tr>\n",
       "      <th>109103</th>\n",
       "      <td>./data/old IELTS/IELTS2016/EEm_177_1.ann</td>\n",
       "      <td>T9</td>\n",
       "      <td>Numerals</td>\n",
       "      <td>506</td>\n",
       "      <td>514</td>\n",
       "      <td>millions</td>\n",
       "      <td></td>\n",
       "      <td>False</td>\n",
       "    </tr>\n",
       "    <tr>\n",
       "      <th>109104</th>\n",
       "      <td>./data/old IELTS/IELTS2016/EEm_177_1.ann</td>\n",
       "      <td>T10</td>\n",
       "      <td>Numerals</td>\n",
       "      <td>583</td>\n",
       "      <td>591</td>\n",
       "      <td>millions</td>\n",
       "      <td></td>\n",
       "      <td>False</td>\n",
       "    </tr>\n",
       "    <tr>\n",
       "      <th>109146</th>\n",
       "      <td>./data/old IELTS/IELTS2016/EKu_163_1.ann</td>\n",
       "      <td>T7</td>\n",
       "      <td>Absence_explanation</td>\n",
       "      <td>318</td>\n",
       "      <td>327</td>\n",
       "      <td>much more</td>\n",
       "      <td></td>\n",
       "      <td>False</td>\n",
       "    </tr>\n",
       "    <tr>\n",
       "      <th>109189</th>\n",
       "      <td>./data/old IELTS/IELTS2016/JSl_3_1.ann</td>\n",
       "      <td>T25</td>\n",
       "      <td>Redundant_comp</td>\n",
       "      <td>729</td>\n",
       "      <td>737</td>\n",
       "      <td>, tfust,</td>\n",
       "      <td></td>\n",
       "      <td>False</td>\n",
       "    </tr>\n",
       "    <tr>\n",
       "      <th>109193</th>\n",
       "      <td>./data/old IELTS/IELTS2016/JSl_1_2.ann</td>\n",
       "      <td>T1</td>\n",
       "      <td>Punctuation</td>\n",
       "      <td>8</td>\n",
       "      <td>9</td>\n",
       "      <td>,</td>\n",
       "      <td></td>\n",
       "      <td>False</td>\n",
       "    </tr>\n",
       "    <tr>\n",
       "      <th>109260</th>\n",
       "      <td>./data/old IELTS/IELTS2016/MTsy_29_2.ann</td>\n",
       "      <td>T14</td>\n",
       "      <td>Abs_comp_clause</td>\n",
       "      <td>214</td>\n",
       "      <td>272</td>\n",
       "      <td>reducing the amount of air travel for business...</td>\n",
       "      <td></td>\n",
       "      <td>False</td>\n",
       "    </tr>\n",
       "    <tr>\n",
       "      <th>109270</th>\n",
       "      <td>./data/old IELTS/IELTS2016/MTsy_29_2.ann</td>\n",
       "      <td>T24</td>\n",
       "      <td>Coherence</td>\n",
       "      <td>698</td>\n",
       "      <td>750</td>\n",
       "      <td>which I am not for reducing the number of flig...</td>\n",
       "      <td></td>\n",
       "      <td>False</td>\n",
       "    </tr>\n",
       "    <tr>\n",
       "      <th>109276</th>\n",
       "      <td>./data/old IELTS/IELTS2016/MTsy_29_2.ann</td>\n",
       "      <td>T27</td>\n",
       "      <td>Discourse</td>\n",
       "      <td>895</td>\n",
       "      <td>922</td>\n",
       "      <td>to shift on long distances.</td>\n",
       "      <td></td>\n",
       "      <td>False</td>\n",
       "    </tr>\n",
       "    <tr>\n",
       "      <th>109321</th>\n",
       "      <td>./data/old IELTS/IELTS2016/MTsy_12_2.ann</td>\n",
       "      <td>T42</td>\n",
       "      <td>Ref_device</td>\n",
       "      <td>1335</td>\n",
       "      <td>1371</td>\n",
       "      <td>it should defenetly continue to work</td>\n",
       "      <td></td>\n",
       "      <td>False</td>\n",
       "    </tr>\n",
       "    <tr>\n",
       "      <th>109352</th>\n",
       "      <td>./data/exam/exam2017/DOv_26_1.ann</td>\n",
       "      <td>T8</td>\n",
       "      <td>Punctuation</td>\n",
       "      <td>313</td>\n",
       "      <td>314</td>\n",
       "      <td>,</td>\n",
       "      <td></td>\n",
       "      <td>False</td>\n",
       "    </tr>\n",
       "    <tr>\n",
       "      <th>109401</th>\n",
       "      <td>./data/old IELTS/IELTS2016/EEm_123_1.ann</td>\n",
       "      <td>T1</td>\n",
       "      <td>Voice</td>\n",
       "      <td>99</td>\n",
       "      <td>110</td>\n",
       "      <td>was changed</td>\n",
       "      <td></td>\n",
       "      <td>False</td>\n",
       "    </tr>\n",
       "    <tr>\n",
       "      <th>109402</th>\n",
       "      <td>./data/old IELTS/IELTS2016/EEm_123_1.ann</td>\n",
       "      <td>T2</td>\n",
       "      <td>Capitalisation</td>\n",
       "      <td>175</td>\n",
       "      <td>179</td>\n",
       "      <td>Rest</td>\n",
       "      <td></td>\n",
       "      <td>False</td>\n",
       "    </tr>\n",
       "    <tr>\n",
       "      <th>109403</th>\n",
       "      <td>./data/old IELTS/IELTS2016/EEm_123_1.ann</td>\n",
       "      <td>T3</td>\n",
       "      <td>Capitalisation</td>\n",
       "      <td>183</td>\n",
       "      <td>188</td>\n",
       "      <td>World</td>\n",
       "      <td></td>\n",
       "      <td>False</td>\n",
       "    </tr>\n",
       "    <tr>\n",
       "      <th>109406</th>\n",
       "      <td>./data/old IELTS/IELTS2016/EEm_123_1.ann</td>\n",
       "      <td>T6</td>\n",
       "      <td>Spelling</td>\n",
       "      <td>706</td>\n",
       "      <td>715</td>\n",
       "      <td>goverment</td>\n",
       "      <td></td>\n",
       "      <td>False</td>\n",
       "    </tr>\n",
       "  </tbody>\n",
       "</table>\n",
       "<p>4472 rows × 8 columns</p>\n",
       "</div>"
      ],
      "text/plain": [
       "                                            path   id                    type  \\\n",
       "6       ./data/old IELTS/IELTS2016/EEm_123_1.ann   T7                Articles   \n",
       "8       ./data/old IELTS/IELTS2016/EEm_123_1.ann   T9                Spelling   \n",
       "10      ./data/old IELTS/IELTS2016/EEm_123_1.ann  T11                Articles   \n",
       "12      ./data/old IELTS/IELTS2016/EEm_123_1.ann  T13                Numerals   \n",
       "13      ./data/old IELTS/IELTS2016/EEm_123_1.ann  T14                Numerals   \n",
       "14      ./data/old IELTS/IELTS2016/EEm_123_1.ann  T15                Numerals   \n",
       "15      ./data/old IELTS/IELTS2016/EEm_123_1.ann  T16                Numerals   \n",
       "17      ./data/old IELTS/IELTS2016/EEm_123_1.ann  T17                Numerals   \n",
       "18      ./data/old IELTS/IELTS2016/EEm_123_1.ann  T18                Numerals   \n",
       "108      ./data/old IELTS/IELTS2016/DZu_19_2.ann  T10  Inappropriate_register   \n",
       "128     ./data/old IELTS/IELTS2016/DZu_148_2.ann  T13     Absence_explanation   \n",
       "188     ./data/old IELTS/IELTS2016/MTsy_15_2.ann   T9         lex_item_choice   \n",
       "198     ./data/old IELTS/IELTS2016/MTsy_15_2.ann  T18             Word_choice   \n",
       "218      ./data/old IELTS/IELTS2016/DZu_50_1.ann   T4             Punctuation   \n",
       "315           ./data/exam/exam2017/EGe_234_1.ann   T3        Agreement_errors   \n",
       "428       ./data/old IELTS/IELTS2016/OR_31_1.ann  T14             Word_choice   \n",
       "498      ./data/old IELTS/IELTS2016/NMa_20_2.ann  T27               Coherence   \n",
       "508      ./data/old IELTS/IELTS2016/NMa_20_2.ann  T38       Absence_comp_sent   \n",
       "516     ./data/old IELTS/IELTS2016/EEm_200_1.ann   T2            Tense_choice   \n",
       "518     ./data/old IELTS/IELTS2016/EEm_200_1.ann   T4              Possessive   \n",
       "521     ./data/old IELTS/IELTS2016/EEm_200_1.ann   T7               Redundant   \n",
       "522     ./data/old IELTS/IELTS2016/EEm_200_1.ann   T8                Spelling   \n",
       "524     ./data/old IELTS/IELTS2016/EEm_200_1.ann  T10                Spelling   \n",
       "529     ./data/old IELTS/IELTS2016/DZu_180_1.ann   T4     Absence_explanation   \n",
       "598       ./data/old IELTS/IELTS2016/OR_19_2.ann  T20                Spelling   \n",
       "600     ./data/old IELTS/IELTS2016/EEm_164_1.ann   T1                Articles   \n",
       "602     ./data/old IELTS/IELTS2016/EEm_164_1.ann   T3             Noun_number   \n",
       "730     ./data/old IELTS/IELTS2016/EEm_187_1.ann   T1                Standard   \n",
       "734     ./data/old IELTS/IELTS2016/EEm_187_1.ann   T5             Punctuation   \n",
       "738     ./data/old IELTS/IELTS2016/EEm_187_1.ann   T8                Articles   \n",
       "...                                          ...  ...                     ...   \n",
       "108651  ./data/old IELTS/IELTS2016/EEm_106_2.ann  T45                Articles   \n",
       "108652  ./data/old IELTS/IELTS2016/EEm_106_2.ann  T46        Agreement_errors   \n",
       "108655  ./data/old IELTS/IELTS2016/EEm_106_2.ann  T48                Articles   \n",
       "108661  ./data/old IELTS/IELTS2016/EEm_106_2.ann  T54   Countable_uncountable   \n",
       "108725  ./data/old IELTS/IELTS2016/MTsy_21_2.ann  T20          Linking_device   \n",
       "108732  ./data/old IELTS/IELTS2016/MTsy_21_2.ann  T26              Ref_device   \n",
       "108760  ./data/old IELTS/IELTS2016/MTsy_21_2.ann  T50              Ref_device   \n",
       "108770  ./data/old IELTS/IELTS2016/MTsy_21_2.ann  T59         lex_item_choice   \n",
       "108840   ./data/old IELTS/IELTS2016/EKu_90_1.ann  T15             Word_choice   \n",
       "108859  ./data/old IELTS/IELTS2016/JSl_105_2.ann   T3       Absence_comp_sent   \n",
       "108912   ./data/old IELTS/IELTS2016/NMa_21_1.ann   T3             Punctuation   \n",
       "109002   ./data/old IELTS/IELTS2016/EKu_47_1.ann   T5             Word_choice   \n",
       "109096  ./data/old IELTS/IELTS2016/EEm_177_1.ann   T3                Articles   \n",
       "109098  ./data/old IELTS/IELTS2016/EEm_177_1.ann   T4                Articles   \n",
       "109101  ./data/old IELTS/IELTS2016/EEm_177_1.ann   T7                Numerals   \n",
       "109102  ./data/old IELTS/IELTS2016/EEm_177_1.ann   T8                Numerals   \n",
       "109103  ./data/old IELTS/IELTS2016/EEm_177_1.ann   T9                Numerals   \n",
       "109104  ./data/old IELTS/IELTS2016/EEm_177_1.ann  T10                Numerals   \n",
       "109146  ./data/old IELTS/IELTS2016/EKu_163_1.ann   T7     Absence_explanation   \n",
       "109189    ./data/old IELTS/IELTS2016/JSl_3_1.ann  T25          Redundant_comp   \n",
       "109193    ./data/old IELTS/IELTS2016/JSl_1_2.ann   T1             Punctuation   \n",
       "109260  ./data/old IELTS/IELTS2016/MTsy_29_2.ann  T14         Abs_comp_clause   \n",
       "109270  ./data/old IELTS/IELTS2016/MTsy_29_2.ann  T24               Coherence   \n",
       "109276  ./data/old IELTS/IELTS2016/MTsy_29_2.ann  T27               Discourse   \n",
       "109321  ./data/old IELTS/IELTS2016/MTsy_12_2.ann  T42              Ref_device   \n",
       "109352         ./data/exam/exam2017/DOv_26_1.ann   T8             Punctuation   \n",
       "109401  ./data/old IELTS/IELTS2016/EEm_123_1.ann   T1                   Voice   \n",
       "109402  ./data/old IELTS/IELTS2016/EEm_123_1.ann   T2          Capitalisation   \n",
       "109403  ./data/old IELTS/IELTS2016/EEm_123_1.ann   T3          Capitalisation   \n",
       "109406  ./data/old IELTS/IELTS2016/EEm_123_1.ann   T6                Spelling   \n",
       "\n",
       "       begin   end                                          substring  \\\n",
       "6        706   715                                          goverment   \n",
       "8        877   886                                          goverment   \n",
       "10       877   886                                          goverment   \n",
       "12       533   541                                           millions   \n",
       "13       550   558                                           millions   \n",
       "14       580   588                                           millions   \n",
       "15       596   604                                           millions   \n",
       "17       630   638                                           millions   \n",
       "18       647   655                                           millions   \n",
       "108      864   879                                    I am 100% sure,   \n",
       "128     1162  1168                                             , it i   \n",
       "188      421   425                                               duty   \n",
       "198      737   754                                  destroy pollution   \n",
       "218      211   221                                         fact, that   \n",
       "315      133   137                                               data   \n",
       "428      167   173                                             letter   \n",
       "498      432   434                                                 it   \n",
       "508      817   861       While many people think that It is necessary   \n",
       "516      369   380                                        have passed   \n",
       "518      671   672                                                  ’   \n",
       "521       80    86                                             attend   \n",
       "522      133   140                                            devided   \n",
       "524      563   570                                            childer   \n",
       "529      338   368                     88,6 millions to 68,9 millions   \n",
       "598     1185  1189                                               dear   \n",
       "600      163   169                                             number   \n",
       "602      396   401                                              falls   \n",
       "730      284   326         The biggest difference shows us South Asia   \n",
       "734      918   954               Taking everything into consideration   \n",
       "738     1028  1035                                            dynamic   \n",
       "...      ...   ...                                                ...   \n",
       "108651  1912  1923                                        information   \n",
       "108652  2013  2019                                             depend   \n",
       "108655  1989  1995                                             amount   \n",
       "108661  1618  1628                                         knowledges   \n",
       "108725   322   329                                            or also   \n",
       "108732   555   560                                              other   \n",
       "108760  1096  1100                                               them   \n",
       "108770  1381  1421           technical damages of air of modern world   \n",
       "108840  1415  1424                                          over race   \n",
       "108859   106   130                           the employ local workers   \n",
       "108912   488   489                                                  )   \n",
       "109002   596   605                                          free-time   \n",
       "109096   454   472                                 the primary school   \n",
       "109098   613   621                                           relation   \n",
       "109101   322   330                                           millions   \n",
       "109102   345   353                                           millions   \n",
       "109103   506   514                                           millions   \n",
       "109104   583   591                                           millions   \n",
       "109146   318   327                                          much more   \n",
       "109189   729   737                                           , tfust,   \n",
       "109193     8     9                                                  ,   \n",
       "109260   214   272  reducing the amount of air travel for business...   \n",
       "109270   698   750  which I am not for reducing the number of flig...   \n",
       "109276   895   922                        to shift on long distances.   \n",
       "109321  1335  1371               it should defenetly continue to work   \n",
       "109352   313   314                                                  ,   \n",
       "109401    99   110                                        was changed   \n",
       "109402   175   179                                               Rest   \n",
       "109403   183   188                                              World   \n",
       "109406   706   715                                          goverment   \n",
       "\n",
       "       correction  delete  \n",
       "6                   False  \n",
       "8                   False  \n",
       "10                  False  \n",
       "12                  False  \n",
       "13                  False  \n",
       "14                  False  \n",
       "15                  False  \n",
       "17                  False  \n",
       "18                  False  \n",
       "108                 False  \n",
       "128                 False  \n",
       "188                 False  \n",
       "198                 False  \n",
       "218                 False  \n",
       "315                 False  \n",
       "428                 False  \n",
       "498                 False  \n",
       "508                 False  \n",
       "516                 False  \n",
       "518                 False  \n",
       "521                 False  \n",
       "522                 False  \n",
       "524                 False  \n",
       "529                 False  \n",
       "598                 False  \n",
       "600                 False  \n",
       "602                 False  \n",
       "730                 False  \n",
       "734                 False  \n",
       "738                 False  \n",
       "...           ...     ...  \n",
       "108651              False  \n",
       "108652              False  \n",
       "108655              False  \n",
       "108661              False  \n",
       "108725              False  \n",
       "108732              False  \n",
       "108760              False  \n",
       "108770              False  \n",
       "108840              False  \n",
       "108859              False  \n",
       "108912              False  \n",
       "109002              False  \n",
       "109096              False  \n",
       "109098              False  \n",
       "109101              False  \n",
       "109102              False  \n",
       "109103              False  \n",
       "109104              False  \n",
       "109146              False  \n",
       "109189              False  \n",
       "109193              False  \n",
       "109260              False  \n",
       "109270              False  \n",
       "109276              False  \n",
       "109321              False  \n",
       "109352              False  \n",
       "109401              False  \n",
       "109402              False  \n",
       "109403              False  \n",
       "109406              False  \n",
       "\n",
       "[4472 rows x 8 columns]"
      ]
     },
     "execution_count": 59,
     "metadata": {
      "tags": []
     },
     "output_type": "execute_result"
    }
   ],
   "source": [
    "All_Entries.loc[(All_Entries[\"correction\"] == \"\") & (All_Entries[\"delete\"] == False)]"
   ]
  },
  {
   "cell_type": "markdown",
   "metadata": {
    "colab_type": "text",
    "id": "il-TrW7yqJwr"
   },
   "source": [
    "# Adding contexts"
   ]
  },
  {
   "cell_type": "markdown",
   "metadata": {
    "colab_type": "text",
    "id": "GpIBmVsDqM64"
   },
   "source": [
    "Let's get our data here"
   ]
  },
  {
   "cell_type": "code",
   "execution_count": 60,
   "metadata": {
    "colab": {
     "base_uri": "https://localhost:8080/",
     "height": 34
    },
    "colab_type": "code",
    "executionInfo": {
     "elapsed": 80741,
     "status": "ok",
     "timestamp": 1556554600759,
     "user": {
      "displayName": "Ivan Torubarov",
      "photoUrl": "",
      "userId": "07481003931234110333"
     },
     "user_tz": -180
    },
    "id": "IShMFLB9lUz5",
    "outputId": "95c332c6-58e8-4aa4-f3fd-0556fc4cffbf"
   },
   "outputs": [
    {
     "data": {
      "text/plain": [
       "'./realec_110319_2315.tar.gz'"
      ]
     },
     "execution_count": 60,
     "metadata": {
      "tags": []
     },
     "output_type": "execute_result"
    }
   ],
   "source": [
    "import shutil\n",
    "\n",
    "drive_path = \"Clean REALEC dumps/\" #@param {type:\"string\"}\n",
    "filename = \"realec_110319_2315.tar.gz\" #@param {type:\"string\"}\n",
    "\n",
    "\n",
    "shutil.copy2('/content/gdrive/My Drive/'+drive_path+filename,'.')"
   ]
  },
  {
   "cell_type": "code",
   "execution_count": 0,
   "metadata": {
    "colab": {},
    "colab_type": "code",
    "collapsed": true,
    "id": "Ut242uEbmBCJ"
   },
   "outputs": [],
   "source": [
    "import tarfile\n",
    "\n",
    "tar = tarfile.open(filename)\n",
    "tar.extractall()"
   ]
  },
  {
   "cell_type": "markdown",
   "metadata": {
    "colab_type": "text",
    "id": "Rq10LXKPqb6i"
   },
   "source": [
    "Time to create another monster: a structure to contain all the texts we're interested in"
   ]
  },
  {
   "cell_type": "code",
   "execution_count": 62,
   "metadata": {
    "colab": {
     "base_uri": "https://localhost:8080/",
     "height": 52
    },
    "colab_type": "code",
    "executionInfo": {
     "elapsed": 98549,
     "status": "ok",
     "timestamp": 1556554618634,
     "user": {
      "displayName": "Ivan Torubarov",
      "photoUrl": "",
      "userId": "07481003931234110333"
     },
     "user_tz": -180
    },
    "id": "4uwyBq5tqxo4",
    "outputId": "669c7661-4ce1-4b9f-e04b-f0b2cde92556"
   },
   "outputs": [
    {
     "name": "stdout",
     "output_type": "stream",
     "text": [
      "CPU times: user 212 ms, sys: 81.1 ms, total: 293 ms\n",
      "Wall time: 293 ms\n"
     ]
    }
   ],
   "source": [
    "%%time\n",
    "\n",
    "Texts = list(set([x[:-4]+'.txt' for x in list(All_Entries[\"path\"])]))\n",
    "Text_Dict = {path: open(path, 'r', encoding='utf-8-sig').read() for path in Texts}"
   ]
  },
  {
   "cell_type": "code",
   "execution_count": 63,
   "metadata": {
    "colab": {
     "base_uri": "https://localhost:8080/",
     "height": 34
    },
    "colab_type": "code",
    "executionInfo": {
     "elapsed": 98539,
     "status": "ok",
     "timestamp": 1556554618635,
     "user": {
      "displayName": "Ivan Torubarov",
      "photoUrl": "",
      "userId": "07481003931234110333"
     },
     "user_tz": -180
    },
    "id": "cnmOdGWOrOM6",
    "outputId": "fc2e8b58-3245-432d-abc1-5a21d45fa7ae"
   },
   "outputs": [
    {
     "name": "stdout",
     "output_type": "stream",
     "text": [
      "5554\n"
     ]
    }
   ],
   "source": [
    "print(len(Text_Dict))"
   ]
  },
  {
   "cell_type": "markdown",
   "metadata": {
    "colab_type": "text",
    "id": "AtOOJq70tero"
   },
   "source": [
    "Now let's generate entries for our given tokens"
   ]
  },
  {
   "cell_type": "code",
   "execution_count": 64,
   "metadata": {
    "colab": {
     "base_uri": "https://localhost:8080/",
     "height": 87
    },
    "colab_type": "code",
    "executionInfo": {
     "elapsed": 98504,
     "status": "ok",
     "timestamp": 1556554618636,
     "user": {
      "displayName": "Ivan Torubarov",
      "photoUrl": "",
      "userId": "07481003931234110333"
     },
     "user_tz": -180
    },
    "id": "v9gOMiCwt1cR",
    "outputId": "1a9418e0-c073-404d-c1ad-2248c85c0722"
   },
   "outputs": [
    {
     "name": "stdout",
     "output_type": "stream",
     "text": [
      "[nltk_data] Downloading package punkt to /root/nltk_data...\n",
      "[nltk_data]   Package punkt is already up-to-date!\n",
      "[nltk_data] Downloading package perluniprops to /root/nltk_data...\n",
      "[nltk_data]   Package perluniprops is already up-to-date!\n"
     ]
    }
   ],
   "source": [
    "import nltk\n",
    "\n",
    "nltk.download(\"punkt\")\n",
    "nltk.download(\"perluniprops\")\n",
    "\n",
    "from nltk.tokenize import TweetTokenizer\n",
    "tknzr = TweetTokenizer()\n",
    "\n",
    "from nltk.tokenize.moses import MosesDetokenizer\n",
    "detokenizer = MosesDetokenizer()"
   ]
  },
  {
   "cell_type": "markdown",
   "metadata": {
    "colab_type": "text",
    "id": "2tHsy7eDjYG8"
   },
   "source": [
    "We have to change our substrings first to a character that never appears in the corpus to avoid further confusion. Let's check some things..."
   ]
  },
  {
   "cell_type": "code",
   "execution_count": 65,
   "metadata": {
    "colab": {
     "base_uri": "https://localhost:8080/",
     "height": 34
    },
    "colab_type": "code",
    "executionInfo": {
     "elapsed": 98464,
     "status": "ok",
     "timestamp": 1556554618638,
     "user": {
      "displayName": "Ivan Torubarov",
      "photoUrl": "",
      "userId": "07481003931234110333"
     },
     "user_tz": -180
    },
    "id": "codKWJnMgoXD",
    "outputId": "f78e2702-3353-461e-989a-0d273da12eb4"
   },
   "outputs": [
    {
     "data": {
      "text/plain": [
       "'\\x08'"
      ]
     },
     "execution_count": 65,
     "metadata": {
      "tags": []
     },
     "output_type": "execute_result"
    }
   ],
   "source": [
    "chr(8)"
   ]
  },
  {
   "cell_type": "code",
   "execution_count": 66,
   "metadata": {
    "colab": {
     "base_uri": "https://localhost:8080/",
     "height": 34
    },
    "colab_type": "code",
    "executionInfo": {
     "elapsed": 98455,
     "status": "ok",
     "timestamp": 1556554618640,
     "user": {
      "displayName": "Ivan Torubarov",
      "photoUrl": "",
      "userId": "07481003931234110333"
     },
     "user_tz": -180
    },
    "id": "vv4NiCIrcB2C",
    "outputId": "ba801a89-ebbf-42b4-a2f5-5f6a1dd6b83e"
   },
   "outputs": [
    {
     "name": "stdout",
     "output_type": "stream",
     "text": [
      "0\n"
     ]
    }
   ],
   "source": [
    "contain = []\n",
    "\n",
    "for el in Text_Dict:\n",
    "  if chr(8) in Text_Dict[el]:\n",
    "    contain.append(Text_Dict[el])\n",
    "\n",
    "print(len(contain))"
   ]
  },
  {
   "cell_type": "markdown",
   "metadata": {
    "colab_type": "text",
    "id": "-oGylasmhffi"
   },
   "source": [
    "Perfect."
   ]
  },
  {
   "cell_type": "code",
   "execution_count": 0,
   "metadata": {
    "colab": {},
    "colab_type": "code",
    "collapsed": true,
    "id": "gnVpoxQ-viAG"
   },
   "outputs": [],
   "source": [
    "def maskify(instr):\n",
    "  replist = tknzr.tokenize(instr)\n",
    "  for replacement in replist:\n",
    "    instr = instr.replace(replacement, chr(8), 1)\n",
    "  instr = instr.replace(chr(8)+chr(8), chr(8)+' '+chr(8))\n",
    "  spacechars = chr(9)+chr(10)+chr(160)+\" \"\n",
    "  intext = re.sub(r'[^'+spacechars+']'+chr(8), ' '+chr(8), instr)\n",
    "  intext = re.sub(chr(8)+r'[^'+spacechars+']', chr(8)+' ', instr)\n",
    "  if not re.search(chr(8)+r'['+spacechars+']', intext):\n",
    "    intext = intext.replace(chr(8), chr(8)+' ')\n",
    "  instr = instr.replace(chr(8), \"[MASK]\")\n",
    "  return instr"
   ]
  },
  {
   "cell_type": "markdown",
   "metadata": {
    "colab_type": "text",
    "id": "pXZIzC55xtsF"
   },
   "source": [
    "Yes, this means that we're masking punctuation. So if we dropped a number of sentence delimeters here, we will just concatenate this contexts with adjacent sentences in future"
   ]
  },
  {
   "cell_type": "code",
   "execution_count": 68,
   "metadata": {
    "colab": {
     "base_uri": "https://localhost:8080/",
     "height": 34
    },
    "colab_type": "code",
    "executionInfo": {
     "elapsed": 98443,
     "status": "ok",
     "timestamp": 1556554618645,
     "user": {
      "displayName": "Ivan Torubarov",
      "photoUrl": "",
      "userId": "07481003931234110333"
     },
     "user_tz": -180
    },
    "id": "Ae2RYwEUuD4K",
    "outputId": "1fb6c3ff-a187-46f3-bf7e-a23b28c2bae3"
   },
   "outputs": [
    {
     "data": {
      "text/plain": [
       "'[MASK] [MASK] [MASK] [MASK] [MASK] [MASK] [MASK] [MASK] [MASK] [MASK] [MASK]'"
      ]
     },
     "execution_count": 68,
     "metadata": {
      "tags": []
     },
     "output_type": "execute_result"
    }
   ],
   "source": [
    "maskify(\"Although, in my child time I wasn't a child,\")"
   ]
  },
  {
   "cell_type": "code",
   "execution_count": 0,
   "metadata": {
    "colab": {},
    "colab_type": "code",
    "collapsed": true,
    "id": "rrQP_kgKwFQ_"
   },
   "outputs": [],
   "source": [
    "All_Entries['context'] = \"\""
   ]
  },
  {
   "cell_type": "code",
   "execution_count": 0,
   "metadata": {
    "colab": {},
    "colab_type": "code",
    "collapsed": true,
    "id": "sxI9gkzyzdMm"
   },
   "outputs": [],
   "source": [
    "All_Entries.begin = All_Entries.begin.astype(int)\n",
    "All_Entries.end = All_Entries.end.astype(int)"
   ]
  },
  {
   "cell_type": "code",
   "execution_count": 71,
   "metadata": {
    "colab": {
     "base_uri": "https://localhost:8080/",
     "height": 52
    },
    "colab_type": "code",
    "executionInfo": {
     "elapsed": 214865,
     "status": "ok",
     "timestamp": 1556554735143,
     "user": {
      "displayName": "Ivan Torubarov",
      "photoUrl": "",
      "userId": "07481003931234110333"
     },
     "user_tz": -180
    },
    "id": "_3zynSLswMHo",
    "outputId": "0471d2a9-cc7a-4893-f796-53a04fc8f5e9"
   },
   "outputs": [
    {
     "name": "stdout",
     "output_type": "stream",
     "text": [
      "CPU times: user 1min 55s, sys: 224 ms, total: 1min 56s\n",
      "Wall time: 1min 56s\n"
     ]
    }
   ],
   "source": [
    "%%time\n",
    "\n",
    "for i, row in All_Entries.iterrows():\n",
    "  fpath = row['path'][:-4]+'.txt'\n",
    "  start = row['begin']\n",
    "  end = row['end']\n",
    "  raw = Text_Dict[fpath]\n",
    "  substr = raw[start:end]\n",
    "  raw = raw[:start] + maskify(substr) + raw[end:]\n",
    "  raw = re.sub(r'\\s', ' ', raw)\n",
    "  raw = re.sub(r'( )+', ' ', raw)\n",
    "  sentences = nltk.sent_tokenize(raw)\n",
    "  for k in range(len(sentences)):\n",
    "    if '[MASK]' in sentences[k]:\n",
    "      if k < 1:\n",
    "        All_Entries.at[i,'context'] = ' '.join(sentences[0:k+2])\n",
    "      else:\n",
    "        All_Entries.at[i,'context'] = ' '.join(sentences[k-1:k+2])\n",
    "      break"
   ]
  },
  {
   "cell_type": "code",
   "execution_count": 72,
   "metadata": {
    "colab": {
     "base_uri": "https://localhost:8080/",
     "height": 195
    },
    "colab_type": "code",
    "executionInfo": {
     "elapsed": 214855,
     "status": "ok",
     "timestamp": 1556554735145,
     "user": {
      "displayName": "Ivan Torubarov",
      "photoUrl": "",
      "userId": "07481003931234110333"
     },
     "user_tz": -180
    },
    "id": "Z4R9j05ns7MA",
    "outputId": "466edf16-9b90-478b-d31a-e6191926ea19"
   },
   "outputs": [
    {
     "data": {
      "text/html": [
       "<div>\n",
       "<style scoped>\n",
       "    .dataframe tbody tr th:only-of-type {\n",
       "        vertical-align: middle;\n",
       "    }\n",
       "\n",
       "    .dataframe tbody tr th {\n",
       "        vertical-align: top;\n",
       "    }\n",
       "\n",
       "    .dataframe thead th {\n",
       "        text-align: right;\n",
       "    }\n",
       "</style>\n",
       "<table border=\"1\" class=\"dataframe\">\n",
       "  <thead>\n",
       "    <tr style=\"text-align: right;\">\n",
       "      <th></th>\n",
       "      <th>path</th>\n",
       "      <th>id</th>\n",
       "      <th>type</th>\n",
       "      <th>begin</th>\n",
       "      <th>end</th>\n",
       "      <th>substring</th>\n",
       "      <th>correction</th>\n",
       "      <th>delete</th>\n",
       "      <th>context</th>\n",
       "    </tr>\n",
       "  </thead>\n",
       "  <tbody>\n",
       "    <tr>\n",
       "      <th>0</th>\n",
       "      <td>./data/exam/exam2017_3/DOv_7_1.ann</td>\n",
       "      <td>T1</td>\n",
       "      <td>Prepositions</td>\n",
       "      <td>60</td>\n",
       "      <td>64</td>\n",
       "      <td>from</td>\n",
       "      <td>of</td>\n",
       "      <td>False</td>\n",
       "      <td>On the line chart we can see how online adults...</td>\n",
       "    </tr>\n",
       "    <tr>\n",
       "      <th>1</th>\n",
       "      <td>./data/exam/exam2017_3/DOv_7_1.ann</td>\n",
       "      <td>T2</td>\n",
       "      <td>Redundant_comp</td>\n",
       "      <td>79</td>\n",
       "      <td>85</td>\n",
       "      <td>groups</td>\n",
       "      <td></td>\n",
       "      <td>True</td>\n",
       "      <td>On the line chart we can see how online adults...</td>\n",
       "    </tr>\n",
       "    <tr>\n",
       "      <th>2</th>\n",
       "      <td>./data/exam/exam2017_3/DOv_7_1.ann</td>\n",
       "      <td>T11</td>\n",
       "      <td>Agreement_errors</td>\n",
       "      <td>314</td>\n",
       "      <td>321</td>\n",
       "      <td>becomes</td>\n",
       "      <td>become</td>\n",
       "      <td>False</td>\n",
       "      <td>We can see that Facebook is the most popular s...</td>\n",
       "    </tr>\n",
       "    <tr>\n",
       "      <th>3</th>\n",
       "      <td>./data/exam/exam2017_3/DOv_4_1.ann</td>\n",
       "      <td>T16</td>\n",
       "      <td>Possessive</td>\n",
       "      <td>777</td>\n",
       "      <td>786</td>\n",
       "      <td>Linked In</td>\n",
       "      <td>LinkedIn's</td>\n",
       "      <td>False</td>\n",
       "      <td>So Instagram and LinkedIn has similar rates, w...</td>\n",
       "    </tr>\n",
       "    <tr>\n",
       "      <th>4</th>\n",
       "      <td>./data/exam/best_works/36_1.ann</td>\n",
       "      <td>T12</td>\n",
       "      <td>Tense_choice</td>\n",
       "      <td>698</td>\n",
       "      <td>707</td>\n",
       "      <td>comprises</td>\n",
       "      <td>was</td>\n",
       "      <td>False</td>\n",
       "      <td>Comparing two the most successful companies it...</td>\n",
       "    </tr>\n",
       "  </tbody>\n",
       "</table>\n",
       "</div>"
      ],
      "text/plain": [
       "                                 path   id              type  begin  end  \\\n",
       "0  ./data/exam/exam2017_3/DOv_7_1.ann   T1      Prepositions     60   64   \n",
       "1  ./data/exam/exam2017_3/DOv_7_1.ann   T2    Redundant_comp     79   85   \n",
       "2  ./data/exam/exam2017_3/DOv_7_1.ann  T11  Agreement_errors    314  321   \n",
       "3  ./data/exam/exam2017_3/DOv_4_1.ann  T16        Possessive    777  786   \n",
       "4     ./data/exam/best_works/36_1.ann  T12      Tense_choice    698  707   \n",
       "\n",
       "   substring  correction  delete  \\\n",
       "0       from          of   False   \n",
       "1     groups                True   \n",
       "2    becomes      become   False   \n",
       "3  Linked In  LinkedIn's   False   \n",
       "4  comprises         was   False   \n",
       "\n",
       "                                             context  \n",
       "0  On the line chart we can see how online adults...  \n",
       "1  On the line chart we can see how online adults...  \n",
       "2  We can see that Facebook is the most popular s...  \n",
       "3  So Instagram and LinkedIn has similar rates, w...  \n",
       "4  Comparing two the most successful companies it...  "
      ]
     },
     "execution_count": 72,
     "metadata": {
      "tags": []
     },
     "output_type": "execute_result"
    }
   ],
   "source": [
    "All_Entries.head()"
   ]
  },
  {
   "cell_type": "markdown",
   "metadata": {
    "colab_type": "text",
    "id": "hLK5jXlkDhvU"
   },
   "source": [
    "Let's deal with these strange cases where `begin` and `end` values differ but we're not given any `substring`. We should just get it manually!"
   ]
  },
  {
   "cell_type": "code",
   "execution_count": 0,
   "metadata": {
    "colab": {},
    "colab_type": "code",
    "collapsed": true,
    "id": "3tih9fFyDhTN"
   },
   "outputs": [],
   "source": [
    "for i, row in All_Entries.iterrows():\n",
    "  if (row['end'] > row['begin']) and (row['substring'] == \"\"):\n",
    "    fpath = row['path'][:-4]+'.txt'\n",
    "    start = int(row['begin'])\n",
    "    end = int(row['end'])\n",
    "    raw = Text_Dict[fpath]\n",
    "    All_Entries.at[i,'substring'] = raw[start:end]"
   ]
  },
  {
   "cell_type": "markdown",
   "metadata": {
    "colab_type": "text",
    "id": "NuaApFJ81zP3"
   },
   "source": [
    "Now all what is left is to also count the length of substrings in terms of words as measured by `nltk.TweetTokenizer`"
   ]
  },
  {
   "cell_type": "code",
   "execution_count": 0,
   "metadata": {
    "colab": {},
    "colab_type": "code",
    "collapsed": true,
    "id": "1kNjCwzv2JUE"
   },
   "outputs": [],
   "source": [
    "def twttknzr_length(instr):\n",
    "  return len(tknzr.tokenize(instr))"
   ]
  },
  {
   "cell_type": "code",
   "execution_count": 0,
   "metadata": {
    "colab": {},
    "colab_type": "code",
    "collapsed": true,
    "id": "wMZhhVYa2Tvb"
   },
   "outputs": [],
   "source": [
    "All_Entries['substr_words'] = All_Entries.apply(lambda x: twttknzr_length(x['substring']), axis=1)"
   ]
  },
  {
   "cell_type": "code",
   "execution_count": 0,
   "metadata": {
    "colab": {},
    "colab_type": "code",
    "collapsed": true,
    "id": "pOz5qPYM24Dr"
   },
   "outputs": [],
   "source": [
    "All_Entries.loc[All_Entries['type'] == 'lex_part_choice']"
   ]
  },
  {
   "cell_type": "markdown",
   "metadata": {
    "colab_type": "text",
    "id": "G5wVxxclrGPy"
   },
   "source": [
    "## Uploading the results"
   ]
  },
  {
   "cell_type": "markdown",
   "metadata": {
    "colab_type": "text",
    "id": "sWvWoj8DCgt1"
   },
   "source": [
    "Wow. That was epic and took a looong time. We'd better save it into a json file to accelerate future load-ups."
   ]
  },
  {
   "cell_type": "code",
   "execution_count": 76,
   "metadata": {
    "colab": {
     "base_uri": "https://localhost:8080/",
     "height": 52
    },
    "colab_type": "code",
    "executionInfo": {
     "elapsed": 848,
     "status": "ok",
     "timestamp": 1556554797035,
     "user": {
      "displayName": "Ivan Torubarov",
      "photoUrl": "",
      "userId": "07481003931234110333"
     },
     "user_tz": -180
    },
    "id": "XSarzvO5DhNV",
    "outputId": "41c6dd01-dfea-4aec-f004-6a0f1853bed0"
   },
   "outputs": [
    {
     "name": "stdout",
     "output_type": "stream",
     "text": [
      "CPU times: user 342 ms, sys: 95 ms, total: 437 ms\n",
      "Wall time: 438 ms\n"
     ]
    }
   ],
   "source": [
    "%%time\n",
    "\n",
    "jsonname = \"All_Entries.json\" #@param {type:\"string\"}\n",
    "with open(jsonname, 'w', encoding=\"utf-8\") as outie:\n",
    "    exec(\"outie.write(\"+jsonname[:-5]+\".to_json())\")"
   ]
  },
  {
   "cell_type": "markdown",
   "metadata": {
    "colab_type": "text",
    "id": "eryvINGWEFBY"
   },
   "source": [
    "Whew, great! Let's upload this to Google Drive right now. "
   ]
  },
  {
   "cell_type": "code",
   "execution_count": 0,
   "metadata": {
    "colab": {},
    "colab_type": "code",
    "collapsed": true,
    "id": "AJh_36xcDDB2"
   },
   "outputs": [],
   "source": [
    "# Install the PyDrive wrapper & import libraries.\n",
    "# This only needs to be done once in a notebook.\n",
    "!pip install -U -q PyDrive\n",
    "from pydrive.auth import GoogleAuth\n",
    "from pydrive.drive import GoogleDrive\n",
    "from google.colab import auth\n",
    "from oauth2client.client import GoogleCredentials\n",
    "\n",
    "# Authenticate and create the PyDrive client.\n",
    "# This only needs to be done once in a notebook.\n",
    "auth.authenticate_user()\n",
    "gauth = GoogleAuth()\n",
    "gauth.credentials = GoogleCredentials.get_application_default()\n",
    "drive = GoogleDrive(gauth)"
   ]
  },
  {
   "cell_type": "code",
   "execution_count": 78,
   "metadata": {
    "colab": {
     "base_uri": "https://localhost:8080/",
     "height": 527
    },
    "colab_type": "code",
    "executionInfo": {
     "elapsed": 2910,
     "status": "ok",
     "timestamp": 1556554810241,
     "user": {
      "displayName": "Ivan Torubarov",
      "photoUrl": "",
      "userId": "07481003931234110333"
     },
     "user_tz": -180
    },
    "id": "57ajXFuqDgYO",
    "outputId": "e13f9f82-7651-4276-90c6-c29d78bf2f03"
   },
   "outputs": [
    {
     "name": "stderr",
     "output_type": "stream",
     "text": [
      "W0429 16:20:07.569351 140327652452224 __init__.py:44] file_cache is unavailable when using oauth2client >= 4.0.0\n",
      "Traceback (most recent call last):\n",
      "  File \"/usr/local/lib/python3.6/dist-packages/googleapiclient/discovery_cache/__init__.py\", line 36, in autodetect\n",
      "    from google.appengine.api import memcache\n",
      "ModuleNotFoundError: No module named 'google.appengine'\n",
      "\n",
      "During handling of the above exception, another exception occurred:\n",
      "\n",
      "Traceback (most recent call last):\n",
      "  File \"/usr/local/lib/python3.6/dist-packages/googleapiclient/discovery_cache/file_cache.py\", line 33, in <module>\n",
      "    from oauth2client.contrib.locked_file import LockedFile\n",
      "ModuleNotFoundError: No module named 'oauth2client.contrib.locked_file'\n",
      "\n",
      "During handling of the above exception, another exception occurred:\n",
      "\n",
      "Traceback (most recent call last):\n",
      "  File \"/usr/local/lib/python3.6/dist-packages/googleapiclient/discovery_cache/file_cache.py\", line 37, in <module>\n",
      "    from oauth2client.locked_file import LockedFile\n",
      "ModuleNotFoundError: No module named 'oauth2client.locked_file'\n",
      "\n",
      "During handling of the above exception, another exception occurred:\n",
      "\n",
      "Traceback (most recent call last):\n",
      "  File \"/usr/local/lib/python3.6/dist-packages/googleapiclient/discovery_cache/__init__.py\", line 41, in autodetect\n",
      "    from . import file_cache\n",
      "  File \"/usr/local/lib/python3.6/dist-packages/googleapiclient/discovery_cache/file_cache.py\", line 41, in <module>\n",
      "    'file_cache is unavailable when using oauth2client >= 4.0.0')\n",
      "ImportError: file_cache is unavailable when using oauth2client >= 4.0.0\n"
     ]
    },
    {
     "name": "stdout",
     "output_type": "stream",
     "text": [
      "Uploaded file with ID 1iekC92H3Q1qt0SSPMIgp1HtqstafZaXh\n"
     ]
    }
   ],
   "source": [
    "# Create & upload a file.\n",
    "uploaded = drive.CreateFile({'title': jsonname})\n",
    "uploaded.SetContentFile(jsonname)\n",
    "uploaded.Upload()\n",
    "print('Uploaded file with ID {}'.format(uploaded.get('id')))"
   ]
  }
 ],
 "metadata": {
  "colab": {
   "name": "REALEC Entry collection",
   "provenance": [],
   "version": "0.3.2"
  },
  "kernelspec": {
   "display_name": "Python 3",
   "language": "python",
   "name": "python3"
  },
  "language_info": {
   "codemirror_mode": {
    "name": "ipython",
    "version": 3
   },
   "file_extension": ".py",
   "mimetype": "text/x-python",
   "name": "python",
   "nbconvert_exporter": "python",
   "pygments_lexer": "ipython3",
   "version": "3.6.7"
  }
 },
 "nbformat": 4,
 "nbformat_minor": 1
}
