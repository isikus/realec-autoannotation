{
 "cells": [
  {
   "cell_type": "markdown",
   "metadata": {
    "colab_type": "text",
    "id": "3G83EpSt-cSI"
   },
   "source": [
    "First we start with importing the libraries"
   ]
  },
  {
   "cell_type": "code",
   "execution_count": 0,
   "metadata": {
    "colab": {},
    "colab_type": "code",
    "collapsed": true,
    "id": "Bk6rfUCw-i_5"
   },
   "outputs": [],
   "source": [
    "import pandas as pd\n",
    "import shutil\n",
    "import re\n",
    "import nltk"
   ]
  },
  {
   "cell_type": "code",
   "execution_count": 32,
   "metadata": {
    "colab": {
     "base_uri": "https://localhost:8080/",
     "height": 87
    },
    "colab_type": "code",
    "executionInfo": {
     "elapsed": 879,
     "status": "ok",
     "timestamp": 1556554938599,
     "user": {
      "displayName": "Ivan Torubarov",
      "photoUrl": "",
      "userId": "07481003931234110333"
     },
     "user_tz": -180
    },
    "id": "KKKLIi3_ny6j",
    "outputId": "ab6b42c0-d242-42c8-ba4e-2b14d9aeb5a2"
   },
   "outputs": [
    {
     "name": "stdout",
     "output_type": "stream",
     "text": [
      "[nltk_data] Downloading package punkt to /root/nltk_data...\n",
      "[nltk_data]   Package punkt is already up-to-date!\n",
      "[nltk_data] Downloading package perluniprops to /root/nltk_data...\n",
      "[nltk_data]   Package perluniprops is already up-to-date!\n"
     ]
    }
   ],
   "source": [
    "nltk.download(\"punkt\")\n",
    "nltk.download(\"perluniprops\")\n",
    "\n",
    "from nltk.tokenize import TweetTokenizer\n",
    "tknzr = TweetTokenizer()\n",
    "\n",
    "from nltk.tokenize.moses import MosesDetokenizer\n",
    "detokenizer = MosesDetokenizer()"
   ]
  },
  {
   "cell_type": "markdown",
   "metadata": {
    "colab_type": "text",
    "id": "N9lmNsVo-00w"
   },
   "source": [
    "Now we fetch our tokens data"
   ]
  },
  {
   "cell_type": "code",
   "execution_count": 33,
   "metadata": {
    "colab": {
     "base_uri": "https://localhost:8080/",
     "height": 34
    },
    "colab_type": "code",
    "executionInfo": {
     "elapsed": 23005,
     "status": "ok",
     "timestamp": 1556554960752,
     "user": {
      "displayName": "Ivan Torubarov",
      "photoUrl": "",
      "userId": "07481003931234110333"
     },
     "user_tz": -180
    },
    "id": "PnHN2cBq-kyf",
    "outputId": "f0fbba33-fe49-4daf-8d6e-59d15cae10c9"
   },
   "outputs": [
    {
     "name": "stdout",
     "output_type": "stream",
     "text": [
      "Mounted at /content/gdrive\n"
     ]
    }
   ],
   "source": [
    "from google.colab import drive\n",
    "drive.mount('/content/gdrive', force_remount=True)"
   ]
  },
  {
   "cell_type": "code",
   "execution_count": 0,
   "metadata": {
    "colab": {},
    "colab_type": "code",
    "collapsed": true,
    "id": "AkQn6bJK_CIB"
   },
   "outputs": [],
   "source": [
    "filename = \"All_Entries.json\"\n",
    "shutil.copy2('/content/gdrive/My Drive/'+filename,'.')\n",
    "\n",
    "All_Entries = pd.read_json(filename).reset_index(drop=True)\n",
    "All_Entries.begin = All_Entries.begin.astype(int)\n",
    "All_Entries.end = All_Entries.end.astype(int)\n",
    "All_Entries.delete = All_Entries.delete.astype(bool)\n",
    "All_Entries.substr_words = All_Entries.substr_words.astype(int)"
   ]
  },
  {
   "cell_type": "code",
   "execution_count": 35,
   "metadata": {
    "colab": {
     "base_uri": "https://localhost:8080/",
     "height": 125
    },
    "colab_type": "code",
    "executionInfo": {
     "elapsed": 24502,
     "status": "ok",
     "timestamp": 1556554962280,
     "user": {
      "displayName": "Ivan Torubarov",
      "photoUrl": "",
      "userId": "07481003931234110333"
     },
     "user_tz": -180
    },
    "id": "YwTK62TUnFbV",
    "outputId": "338a538f-4aed-4fbf-ca32-487b2b3f2ac1"
   },
   "outputs": [
    {
     "data": {
      "text/plain": [
       "['Many people are agree with this point of view and have a lot of reasons for it. Firstly, large number of stadiums, sportsgrounds and swimming pools make sport activities [MASK] to citizens. For instance, you will attend to some sports when they are really geographically close to you.',\n",
       " 'In sharp contrast to this, the percent of mothers of two children grows gradually and they keep getting the highest position all 25 years. The amount of families with one child also becomes higher [MASK] 5.6 percent. Finally, more and more women decide not to have child at all – 8.5 percent in 1981 versus 15.9 in 2006.',\n",
       " 'To begin with, I would like to say, that it is true, that every year musicians and film producers lose huge amounts of money from illegal pirate copies, but I can’t agree, that copying and sharing music or films on the internet is bad and should be punished. For my opinion, musicians and film producers should be thankful to people[MASK] [MASK] theire products on the Internet, because they made for them a land of commercial. It is difficult not to agree, that in such industry doesn’t matter if it is music, film making, art or smth else, PR plays one of the main role, and of course, much more people can learn more about your work, your movies, music tracks and so on if it is free.',\n",
       " 'But if you like to go on vocation, you won’t, becouse you spent all the time for movement. Secondly, some big flight companies will have big economic [MASK] after government reduce the amount of air travel. Becouse, the biggest percentage of the income companies get from the touristic air travel and business flights.',\n",
       " 'Proposed pair of the chart and table [MASK] information on rate of satisfaction of air transport passengers in 3 years: 1999, 2000 and 2006. From the table we can see, that the rate of customers who where satisfied by politeness of flight attendants slightly increased(from 88% to 92%), politeness of check-in/gate agents within 3 years remained on the average level, as well as previous 2 parameters, a relatively high percentage positively evaluated schedule(first, it was 75%, next year it grew to 79% and remained the same till 2007).']"
      ]
     },
     "execution_count": 35,
     "metadata": {
      "tags": []
     },
     "output_type": "execute_result"
    }
   ],
   "source": [
    "list(All_Entries.sample(5)[\"context\"])"
   ]
  },
  {
   "cell_type": "markdown",
   "metadata": {
    "colab_type": "text",
    "id": "RyLhmEFcWUZM"
   },
   "source": [
    "# Adding contexts"
   ]
  },
  {
   "cell_type": "markdown",
   "metadata": {
    "colab_type": "text",
    "id": "rLXi-t1MWUZL"
   },
   "source": [
    "Let's get our data here"
   ]
  },
  {
   "cell_type": "code",
   "execution_count": 36,
   "metadata": {
    "colab": {
     "base_uri": "https://localhost:8080/",
     "height": 34
    },
    "colab_type": "code",
    "executionInfo": {
     "elapsed": 25423,
     "status": "ok",
     "timestamp": 1556554963214,
     "user": {
      "displayName": "Ivan Torubarov",
      "photoUrl": "",
      "userId": "07481003931234110333"
     },
     "user_tz": -180
    },
    "id": "dTgdBomZWUZG",
    "outputId": "77fe8776-3bb8-420b-a3a4-168d5dd3fa2a"
   },
   "outputs": [
    {
     "data": {
      "text/plain": [
       "'./realec_110319_2315.tar.gz'"
      ]
     },
     "execution_count": 36,
     "metadata": {
      "tags": []
     },
     "output_type": "execute_result"
    }
   ],
   "source": [
    "import shutil\n",
    "\n",
    "drive_path = \"Clean REALEC dumps/\" #@param {type:\"string\"}\n",
    "filename = \"realec_110319_2315.tar.gz\" #@param {type:\"string\"}\n",
    "\n",
    "\n",
    "shutil.copy2('/content/gdrive/My Drive/'+drive_path+filename,'.')"
   ]
  },
  {
   "cell_type": "code",
   "execution_count": 0,
   "metadata": {
    "colab": {},
    "colab_type": "code",
    "collapsed": true,
    "id": "DQz27Zu0WUZB"
   },
   "outputs": [],
   "source": [
    "import tarfile\n",
    "\n",
    "tar = tarfile.open(filename)\n",
    "tar.extractall()"
   ]
  },
  {
   "cell_type": "markdown",
   "metadata": {
    "colab_type": "text",
    "id": "jqiYaIffWUZA"
   },
   "source": [
    "Time to create another monster: a structure to contain all the texts we're interested in"
   ]
  },
  {
   "cell_type": "code",
   "execution_count": 38,
   "metadata": {
    "colab": {
     "base_uri": "https://localhost:8080/",
     "height": 52
    },
    "colab_type": "code",
    "executionInfo": {
     "elapsed": 43492,
     "status": "ok",
     "timestamp": 1556554981318,
     "user": {
      "displayName": "Ivan Torubarov",
      "photoUrl": "",
      "userId": "07481003931234110333"
     },
     "user_tz": -180
    },
    "id": "QRElFLyqWUY3",
    "outputId": "fc93148a-661b-4109-9def-f44146377849"
   },
   "outputs": [
    {
     "name": "stdout",
     "output_type": "stream",
     "text": [
      "CPU times: user 182 ms, sys: 77.2 ms, total: 259 ms\n",
      "Wall time: 259 ms\n"
     ]
    }
   ],
   "source": [
    "%%time\n",
    "\n",
    "Texts = list(set([x[:-4]+'.txt' for x in list(All_Entries[\"path\"])]))\n",
    "Text_Dict = {path: open(path, 'r', encoding='utf-8-sig').read() for path in Texts}"
   ]
  },
  {
   "cell_type": "code",
   "execution_count": 39,
   "metadata": {
    "colab": {
     "base_uri": "https://localhost:8080/",
     "height": 34
    },
    "colab_type": "code",
    "executionInfo": {
     "elapsed": 43477,
     "status": "ok",
     "timestamp": 1556554981319,
     "user": {
      "displayName": "Ivan Torubarov",
      "photoUrl": "",
      "userId": "07481003931234110333"
     },
     "user_tz": -180
    },
    "id": "bbveltuBWUYv",
    "outputId": "1d7739e6-cea3-46c8-e654-e45697135d89"
   },
   "outputs": [
    {
     "name": "stdout",
     "output_type": "stream",
     "text": [
      "5554\n"
     ]
    }
   ],
   "source": [
    "print(len(Text_Dict))"
   ]
  },
  {
   "cell_type": "markdown",
   "metadata": {
    "colab_type": "text",
    "id": "AtOOJq70tero"
   },
   "source": [
    "Now let's add unmasked entries to our dataset"
   ]
  },
  {
   "cell_type": "code",
   "execution_count": 0,
   "metadata": {
    "colab": {},
    "colab_type": "code",
    "collapsed": true,
    "id": "rrQP_kgKwFQ_"
   },
   "outputs": [],
   "source": [
    "All_Entries['unmasked_context'] = \"\""
   ]
  },
  {
   "cell_type": "markdown",
   "metadata": {
    "colab_type": "text",
    "id": "2LmZq_hVkOcC"
   },
   "source": [
    "We still shoulda check a pair of things..."
   ]
  },
  {
   "cell_type": "code",
   "execution_count": 41,
   "metadata": {
    "colab": {
     "base_uri": "https://localhost:8080/",
     "height": 34
    },
    "colab_type": "code",
    "executionInfo": {
     "elapsed": 43466,
     "status": "ok",
     "timestamp": 1556554981323,
     "user": {
      "displayName": "Ivan Torubarov",
      "photoUrl": "",
      "userId": "07481003931234110333"
     },
     "user_tz": -180
    },
    "id": "BPQ7lqX4ioND",
    "outputId": "f7419a9f-fe92-49ad-a614-dfbc082b1d5b"
   },
   "outputs": [
    {
     "data": {
      "text/plain": [
       "'\\x08'"
      ]
     },
     "execution_count": 41,
     "metadata": {
      "tags": []
     },
     "output_type": "execute_result"
    }
   ],
   "source": [
    "raw = chr(8)\n",
    "raw = re.sub(r'\\s', ' ', raw)\n",
    "raw = re.sub(r'( )+', ' ', raw)\n",
    "raw"
   ]
  },
  {
   "cell_type": "code",
   "execution_count": 42,
   "metadata": {
    "colab": {
     "base_uri": "https://localhost:8080/",
     "height": 34
    },
    "colab_type": "code",
    "executionInfo": {
     "elapsed": 43461,
     "status": "ok",
     "timestamp": 1556554981325,
     "user": {
      "displayName": "Ivan Torubarov",
      "photoUrl": "",
      "userId": "07481003931234110333"
     },
     "user_tz": -180
    },
    "id": "b3jZ5mZEkUar",
    "outputId": "6150359b-6911-4a8b-c81e-2b18a1db6026"
   },
   "outputs": [
    {
     "data": {
      "text/plain": [
       "['This is a generic example.', 'This is \\x08 example of masked context.']"
      ]
     },
     "execution_count": 42,
     "metadata": {
      "tags": []
     },
     "output_type": "execute_result"
    }
   ],
   "source": [
    "s = \"This is a generic example. This is \"+chr(8)+\" example of masked context.\"\n",
    "ss = nltk.sent_tokenize(s)\n",
    "ss"
   ]
  },
  {
   "cell_type": "markdown",
   "metadata": {
    "colab_type": "text",
    "id": "b9POML-Uklzb"
   },
   "source": [
    "Working great! Good to go."
   ]
  },
  {
   "cell_type": "code",
   "execution_count": 43,
   "metadata": {
    "colab": {
     "base_uri": "https://localhost:8080/",
     "height": 52
    },
    "colab_type": "code",
    "executionInfo": {
     "elapsed": 154493,
     "status": "ok",
     "timestamp": 1556555092371,
     "user": {
      "displayName": "Ivan Torubarov",
      "photoUrl": "",
      "userId": "07481003931234110333"
     },
     "user_tz": -180
    },
    "id": "_3zynSLswMHo",
    "outputId": "a65878a2-7150-4b53-c39f-87acc62dc058"
   },
   "outputs": [
    {
     "name": "stdout",
     "output_type": "stream",
     "text": [
      "CPU times: user 1min 50s, sys: 70.1 ms, total: 1min 50s\n",
      "Wall time: 1min 51s\n"
     ]
    }
   ],
   "source": [
    "%%time\n",
    "\n",
    "for i, row in All_Entries.iterrows():\n",
    "  fpath = row['path'][:-4]+'.txt'\n",
    "  start = row['begin']\n",
    "  end = row['end']\n",
    "  raw = Text_Dict[fpath]\n",
    "  substr = raw[start:end]\n",
    "  raw = raw[:start] + chr(8) + raw[end:]\n",
    "  raw = re.sub(r'\\s', ' ', raw)\n",
    "  raw = re.sub(r'( )+', ' ', raw)\n",
    "  sentences = nltk.sent_tokenize(raw)\n",
    "  for k in range(len(sentences)):\n",
    "    if chr(8) in sentences[k]:\n",
    "      if k < 1:\n",
    "        retstr = ' '.join(sentences[0:k+2])\n",
    "        retstr = retstr.replace(chr(8), substr)\n",
    "        All_Entries.at[i,'unmasked_context'] = retstr\n",
    "      else:\n",
    "        retstr = ' '.join(sentences[k-1:k+2])\n",
    "        retstr = retstr.replace(chr(8), substr)\n",
    "        All_Entries.at[i,'unmasked_context'] = retstr\n",
    "      break"
   ]
  },
  {
   "cell_type": "code",
   "execution_count": 44,
   "metadata": {
    "colab": {
     "base_uri": "https://localhost:8080/",
     "height": 125
    },
    "colab_type": "code",
    "executionInfo": {
     "elapsed": 650,
     "status": "ok",
     "timestamp": 1556555095139,
     "user": {
      "displayName": "Ivan Torubarov",
      "photoUrl": "",
      "userId": "07481003931234110333"
     },
     "user_tz": -180
    },
    "id": "Z4R9j05ns7MA",
    "outputId": "7aa58e31-fcb4-4963-ad2f-c18d2a7d097b"
   },
   "outputs": [
    {
     "data": {
      "text/plain": [
       "['Recently, there has been considered discussion of acception male and female students at universities. Some people reckon that equal numbers of men and women should be accepted in every subject.',\n",
       " 'We can consider that Germany and China are more old-fashioned countries than USA. Meanwhile the markets in the UK will have steady decreasing in selling eBooks and steady increasing in selling print. The same with Germany and China.',\n",
       " 'The young and the older try to care about themselves. Actually some people are sure that if the government increases the quantity of places for doing sport, the aim stated will be reached, other think there are lots of other ways in deciding this problem. To begin with, people of the first group want more sport equipment.',\n",
       " 'Considering charts for Italy, the quantity of people of 15-59 years takes 61,6% out of 100%, but it will reduce to 2050. The number of children is low enough and it consists 14,3% out of all population, and it will be also reduce to 11,5%. Most people in Italy have age 60_ years.',\n",
       " 'In conclusion, it can be said, that mankind needs help from the government to stop air pollution and global warming, which caused by people who think only about comfort, fast travelling, and do not think about healthy of their children. So, I agree with citizens, who want to have necessary laws.']"
      ]
     },
     "execution_count": 44,
     "metadata": {
      "tags": []
     },
     "output_type": "execute_result"
    }
   ],
   "source": [
    "list(All_Entries.sample(5)[\"unmasked_context\"])"
   ]
  },
  {
   "cell_type": "markdown",
   "metadata": {
    "colab_type": "text",
    "id": "G5wVxxclrGPy"
   },
   "source": [
    "# Uploading the results"
   ]
  },
  {
   "cell_type": "markdown",
   "metadata": {
    "colab_type": "text",
    "id": "sWvWoj8DCgt1"
   },
   "source": [
    "Wow. That was epic and took a looong time. We'd better save it into a json file to accelerate future load-ups."
   ]
  },
  {
   "cell_type": "code",
   "execution_count": 45,
   "metadata": {
    "colab": {
     "base_uri": "https://localhost:8080/",
     "height": 52
    },
    "colab_type": "code",
    "executionInfo": {
     "elapsed": 1410,
     "status": "ok",
     "timestamp": 1556555141739,
     "user": {
      "displayName": "Ivan Torubarov",
      "photoUrl": "",
      "userId": "07481003931234110333"
     },
     "user_tz": -180
    },
    "id": "XSarzvO5DhNV",
    "outputId": "35003588-5b4f-4c93-eb15-d3bfff369e08"
   },
   "outputs": [
    {
     "name": "stdout",
     "output_type": "stream",
     "text": [
      "CPU times: user 397 ms, sys: 151 ms, total: 548 ms\n",
      "Wall time: 550 ms\n"
     ]
    }
   ],
   "source": [
    "%%time\n",
    "\n",
    "jsonname = \"All_Entries.json\" #@param {type:\"string\"}\n",
    "with open(jsonname, 'w', encoding=\"utf-8\") as outie:\n",
    "    exec(\"outie.write(\"+jsonname[:-5]+\".to_json())\")"
   ]
  },
  {
   "cell_type": "markdown",
   "metadata": {
    "colab_type": "text",
    "id": "eryvINGWEFBY"
   },
   "source": [
    "Whew, great! Let's upload this to Google Drive right now. "
   ]
  },
  {
   "cell_type": "code",
   "execution_count": 0,
   "metadata": {
    "colab": {},
    "colab_type": "code",
    "collapsed": true,
    "id": "AJh_36xcDDB2"
   },
   "outputs": [],
   "source": [
    "# Install the PyDrive wrapper & import libraries.\n",
    "# This only needs to be done once in a notebook.\n",
    "!pip install -U -q PyDrive\n",
    "from pydrive.auth import GoogleAuth\n",
    "from pydrive.drive import GoogleDrive\n",
    "from google.colab import auth\n",
    "from oauth2client.client import GoogleCredentials\n",
    "\n",
    "# Authenticate and create the PyDrive client.\n",
    "# This only needs to be done once in a notebook.\n",
    "auth.authenticate_user()\n",
    "gauth = GoogleAuth()\n",
    "gauth.credentials = GoogleCredentials.get_application_default()\n",
    "drive = GoogleDrive(gauth)"
   ]
  },
  {
   "cell_type": "code",
   "execution_count": 47,
   "metadata": {
    "colab": {
     "base_uri": "https://localhost:8080/",
     "height": 34
    },
    "colab_type": "code",
    "executionInfo": {
     "elapsed": 3508,
     "status": "ok",
     "timestamp": 1556555153991,
     "user": {
      "displayName": "Ivan Torubarov",
      "photoUrl": "",
      "userId": "07481003931234110333"
     },
     "user_tz": -180
    },
    "id": "57ajXFuqDgYO",
    "outputId": "de3fc02c-2972-4d50-b6d2-6a79f2ef68a1"
   },
   "outputs": [
    {
     "name": "stdout",
     "output_type": "stream",
     "text": [
      "Uploaded file with ID 1Ut0jtIhPA-mFVOobWhbYAL9NmxgGSgkq\n"
     ]
    }
   ],
   "source": [
    "# Create & upload a file.\n",
    "uploaded = drive.CreateFile({'title': jsonname})\n",
    "uploaded.SetContentFile(jsonname)\n",
    "uploaded.Upload()\n",
    "print('Uploaded file with ID {}'.format(uploaded.get('id')))"
   ]
  }
 ],
 "metadata": {
  "colab": {
   "name": "REALEC Entries clean contexts appending",
   "provenance": [],
   "version": "0.3.2"
  },
  "kernelspec": {
   "display_name": "Python 3",
   "language": "python",
   "name": "python3"
  },
  "language_info": {
   "codemirror_mode": {
    "name": "ipython",
    "version": 3
   },
   "file_extension": ".py",
   "mimetype": "text/x-python",
   "name": "python",
   "nbconvert_exporter": "python",
   "pygments_lexer": "ipython3",
   "version": "3.6.7"
  }
 },
 "nbformat": 4,
 "nbformat_minor": 1
}
