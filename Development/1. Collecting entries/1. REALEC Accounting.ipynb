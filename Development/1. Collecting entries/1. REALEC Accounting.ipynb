{
 "cells": [
  {
   "cell_type": "markdown",
   "metadata": {
    "colab_type": "text",
    "id": "hseeLMAVkL3e"
   },
   "source": [
    "Initial import"
   ]
  },
  {
   "cell_type": "code",
   "execution_count": 1,
   "metadata": {
    "colab": {
     "base_uri": "https://localhost:8080/",
     "height": 52
    },
    "colab_type": "code",
    "executionInfo": {
     "elapsed": 2975,
     "status": "ok",
     "timestamp": 1556294929465,
     "user": {
      "displayName": "Ivan Torubarov",
      "photoUrl": "",
      "userId": "07481003931234110333"
     },
     "user_tz": -180
    },
    "id": "791D28AUd6FS",
    "outputId": "bb4619e9-80c1-4178-f801-09c3ce8c1906"
   },
   "outputs": [
    {
     "name": "stderr",
     "output_type": "stream",
     "text": [
      "WARNING: Logging before flag parsing goes to stderr.\n",
      "W0426 16:08:49.338508 139735888795520 __init__.py:56] Some hub symbols are not available because TensorFlow version is less than 1.14\n"
     ]
    }
   ],
   "source": [
    "from sklearn.model_selection import train_test_split\n",
    "import pandas as pd\n",
    "import tensorflow as tf\n",
    "import tensorflow_hub as hub\n",
    "from datetime import datetime\n",
    "\n",
    "from tensorflow import keras\n",
    "import os\n",
    "import re"
   ]
  },
  {
   "cell_type": "markdown",
   "metadata": {
    "colab_type": "text",
    "id": "S_PS9RN4kTPx"
   },
   "source": [
    "Download actual data from REALEC"
   ]
  },
  {
   "cell_type": "code",
   "execution_count": 2,
   "metadata": {
    "colab": {
     "base_uri": "https://localhost:8080/",
     "height": 52
    },
    "colab_type": "code",
    "executionInfo": {
     "elapsed": 63827,
     "status": "ok",
     "timestamp": 1556295005575,
     "user": {
      "displayName": "Ivan Torubarov",
      "photoUrl": "",
      "userId": "07481003931234110333"
     },
     "user_tz": -180
    },
    "id": "K5dY9G2teBVM",
    "outputId": "4d920aab-2fb0-48b0-d836-ccbab403666f"
   },
   "outputs": [
    {
     "name": "stdout",
     "output_type": "stream",
     "text": [
      "Downloading data from http://realec.org/ajax.cgi?action=downloadCollection&collection=%2F&protocol=1\n",
      "90169344/Unknown - 28s 0us/step"
     ]
    }
   ],
   "source": [
    "  dataset = tf.keras.utils.get_file(\n",
    "      fname=\"data.tar.gz\", \n",
    "      origin=\"http://realec.org/ajax.cgi?action=downloadCollection&collection=%2F&protocol=1\", \n",
    "      extract=True)"
   ]
  },
  {
   "cell_type": "code",
   "execution_count": 3,
   "metadata": {
    "colab": {
     "base_uri": "https://localhost:8080/",
     "height": 34
    },
    "colab_type": "code",
    "executionInfo": {
     "elapsed": 637,
     "status": "ok",
     "timestamp": 1556295009017,
     "user": {
      "displayName": "Ivan Torubarov",
      "photoUrl": "",
      "userId": "07481003931234110333"
     },
     "user_tz": -180
    },
    "id": "4b2y7CxqfkVU",
    "outputId": "9306b8d5-6447-4829-fa2a-653a91be6421"
   },
   "outputs": [
    {
     "data": {
      "text/plain": [
       "'/root/.keras/datasets/data.tar.gz'"
      ]
     },
     "execution_count": 3,
     "metadata": {
      "tags": []
     },
     "output_type": "execute_result"
    }
   ],
   "source": [
    "dataset"
   ]
  },
  {
   "cell_type": "code",
   "execution_count": 4,
   "metadata": {
    "colab": {
     "base_uri": "https://localhost:8080/",
     "height": 316
    },
    "colab_type": "code",
    "executionInfo": {
     "elapsed": 669,
     "status": "ok",
     "timestamp": 1556295011235,
     "user": {
      "displayName": "Ivan Torubarov",
      "photoUrl": "",
      "userId": "07481003931234110333"
     },
     "user_tz": -180
    },
    "id": "t48D0tWpgV4c",
    "outputId": "43d06b9c-c9e8-4904-be2f-1075473b7044"
   },
   "outputs": [
    {
     "data": {
      "text/plain": [
       "['2012-2014',\n",
       " 'realec_0516.tar.gz',\n",
       " 'tools.conf',\n",
       " 'Academic_Writing',\n",
       " 'README',\n",
       " '01_different.py',\n",
       " 'errors.lst',\n",
       " 'Exam_practice',\n",
       " 'de',\n",
       " 'old IELTS',\n",
       " 'MAGOLEGO',\n",
       " 'visual.conf',\n",
       " 'kb_shortcuts.conf',\n",
       " 'annotation.conf',\n",
       " '.json',\n",
       " 'exam',\n",
       " 'Vladimir Seleznev.json']"
      ]
     },
     "execution_count": 4,
     "metadata": {
      "tags": []
     },
     "output_type": "execute_result"
    }
   ],
   "source": [
    "os.listdir(\"/root/.keras/datasets/data\")"
   ]
  },
  {
   "cell_type": "markdown",
   "metadata": {
    "colab_type": "text",
    "id": "qQ4R_KiUkabv"
   },
   "source": [
    "Move downloaded data to local playground"
   ]
  },
  {
   "cell_type": "code",
   "execution_count": 5,
   "metadata": {
    "colab": {
     "base_uri": "https://localhost:8080/",
     "height": 34
    },
    "colab_type": "code",
    "executionInfo": {
     "elapsed": 7616,
     "status": "ok",
     "timestamp": 1556295021822,
     "user": {
      "displayName": "Ivan Torubarov",
      "photoUrl": "",
      "userId": "07481003931234110333"
     },
     "user_tz": -180
    },
    "id": "3u_ZLEPgkfYW",
    "outputId": "8b12ac86-36eb-41e1-c8b7-b1fb8f237d00"
   },
   "outputs": [
    {
     "data": {
      "text/plain": [
       "'./data'"
      ]
     },
     "execution_count": 5,
     "metadata": {
      "tags": []
     },
     "output_type": "execute_result"
    }
   ],
   "source": [
    "import shutil\n",
    "\n",
    "shutil.copytree(\"/root/.keras/datasets/data\",\"./data\")"
   ]
  },
  {
   "cell_type": "code",
   "execution_count": 0,
   "metadata": {
    "colab": {},
    "colab_type": "code",
    "collapsed": true,
    "id": "Ph6SbuPrk7N6"
   },
   "outputs": [],
   "source": [
    "os.chdir(\"data\")"
   ]
  },
  {
   "cell_type": "markdown",
   "metadata": {
    "colab_type": "text",
    "id": "JwxVKb1clCX-"
   },
   "source": [
    "Delete german files to clean the dataset\n"
   ]
  },
  {
   "cell_type": "code",
   "execution_count": 0,
   "metadata": {
    "colab": {},
    "colab_type": "code",
    "collapsed": true,
    "id": "MPg3VMDMk-mI"
   },
   "outputs": [],
   "source": [
    "shutil.rmtree(\"de\")"
   ]
  },
  {
   "cell_type": "markdown",
   "metadata": {
    "colab_type": "text",
    "id": "SGnpiGc7l6Ci"
   },
   "source": [
    "Check if any texts don't have a corresponding annotation file"
   ]
  },
  {
   "cell_type": "code",
   "execution_count": 8,
   "metadata": {
    "colab": {
     "base_uri": "https://localhost:8080/",
     "height": 492
    },
    "colab_type": "code",
    "executionInfo": {
     "elapsed": 682,
     "status": "ok",
     "timestamp": 1556295033931,
     "user": {
      "displayName": "Ivan Torubarov",
      "photoUrl": "",
      "userId": "07481003931234110333"
     },
     "user_tz": -180
    },
    "id": "Ehhpd8PcmKeP",
    "outputId": "e715bf9f-d3fb-4fe3-cc6a-e16b79fe4c1e"
   },
   "outputs": [
    {
     "name": "stdout",
     "output_type": "stream",
     "text": [
      "./Exam_practice/KP201819/ghost2.txt does not have .ann!\n",
      "./MAGOLEGO/2019/Midterm essay/group_5/130.txt does not have .ann!\n",
      "./MAGOLEGO/2019/Midterm essay/group_5/129.txt does not have .ann!\n",
      "./MAGOLEGO/2019/Midterm essay/group_5/128.txt does not have .ann!\n",
      "./MAGOLEGO/2019/Midterm essay/group_5/131.txt does not have .ann!\n",
      "./MAGOLEGO/2019/Midterm essay/group_5/132.txt does not have .ann!\n",
      "./MAGOLEGO/2019/Midterm essay/group_5/133.txt does not have .ann!\n",
      "./MAGOLEGO/2019/Midterm essay/group_2/53.txt does not have .ann!\n",
      "./MAGOLEGO/2019/Midterm essay/group_2/54.txt does not have .ann!\n",
      "./MAGOLEGO/2019/Midterm essay/group_6/156.txt does not have .ann!\n",
      "./MAGOLEGO/2019/Midterm essay/group_6/153.txt does not have .ann!\n",
      "./MAGOLEGO/2019/Midterm essay/group_6/155.txt does not have .ann!\n",
      "./MAGOLEGO/2019/Midterm essay/group_6/157.txt does not have .ann!\n",
      "./MAGOLEGO/2019/Midterm essay/group_6/154.txt does not have .ann!\n",
      "./MAGOLEGO/2019/Midterm essay/group_4/103.txt does not have .ann!\n",
      "./MAGOLEGO/2019/Midterm essay/group_4/102.txt does not have .ann!\n",
      "./MAGOLEGO/2019/Midterm essay/group_4/101.txt does not have .ann!\n",
      "./MAGOLEGO/2019/Midterm essay/group_1/20.txt does not have .ann!\n",
      "./MAGOLEGO/2019/Midterm essay/group_1/17.txt does not have .ann!\n",
      "./MAGOLEGO/2019/Midterm essay/group_1/18.txt does not have .ann!\n",
      "./MAGOLEGO/2019/Midterm essay/group_1/21.txt does not have .ann!\n",
      "./MAGOLEGO/2019/Midterm essay/group_1/19.txt does not have .ann!\n",
      "./MAGOLEGO/2019/Midterm essay/group_3/76.txt does not have .ann!\n",
      "./MAGOLEGO/2019/Midterm essay/group_3/77.txt does not have .ann!\n",
      "./MAGOLEGO/2019/Midterm essay/group_3/75.txt does not have .ann!\n",
      "./MAGOLEGO/2019/Midterm essay/group_3/74.txt does not have .ann!\n",
      "./MAGOLEGO/2019/Midterm essay/group_3/78.txt does not have .ann!\n"
     ]
    }
   ],
   "source": [
    "loose_files = []\n",
    "\n",
    "for root, dirs, files in os.walk('.'):\n",
    "    for file in os.listdir(root):\n",
    "        if file.endswith(\".txt\"):\n",
    "            path = root+os.sep+file\n",
    "            if not os.path.isfile(path[:-4]+\".ann\"):\n",
    "              print(path,\"does not have .ann!\")\n",
    "              loose_files.append(path)"
   ]
  },
  {
   "cell_type": "markdown",
   "metadata": {
    "colab_type": "text",
    "id": "A5VtsUO9oJXB"
   },
   "source": [
    "And vice versa:"
   ]
  },
  {
   "cell_type": "code",
   "execution_count": 0,
   "metadata": {
    "colab": {},
    "colab_type": "code",
    "collapsed": true,
    "id": "_03Ld1t8nQJf"
   },
   "outputs": [],
   "source": [
    "loose_annotations = []\n",
    "\n",
    "for root, dirs, files in os.walk('.'):\n",
    "    for file in os.listdir(root):\n",
    "        if file.endswith(\".ann\"):\n",
    "            path = root+os.sep+file\n",
    "            if not os.path.isfile(path[:-4]+\".txt\"):\n",
    "              print(path,\"does not have .ann!\")\n",
    "              loose_annotations.append(path)"
   ]
  },
  {
   "cell_type": "markdown",
   "metadata": {
    "colab_type": "text",
    "id": "WN5ZldAwoOTw"
   },
   "source": [
    "Delete the unpaired files:"
   ]
  },
  {
   "cell_type": "code",
   "execution_count": 10,
   "metadata": {
    "colab": {
     "base_uri": "https://localhost:8080/",
     "height": 492
    },
    "colab_type": "code",
    "executionInfo": {
     "elapsed": 729,
     "status": "ok",
     "timestamp": 1556295073203,
     "user": {
      "displayName": "Ivan Torubarov",
      "photoUrl": "",
      "userId": "07481003931234110333"
     },
     "user_tz": -180
    },
    "id": "ig3DPkPdoNvf",
    "outputId": "dd7c63d6-65a4-46d5-b592-82bf4bebeb47"
   },
   "outputs": [
    {
     "name": "stdout",
     "output_type": "stream",
     "text": [
      "Removed ./Exam_practice/KP201819/ghost2.txt\n",
      "Removed ./MAGOLEGO/2019/Midterm essay/group_5/130.txt\n",
      "Removed ./MAGOLEGO/2019/Midterm essay/group_5/129.txt\n",
      "Removed ./MAGOLEGO/2019/Midterm essay/group_5/128.txt\n",
      "Removed ./MAGOLEGO/2019/Midterm essay/group_5/131.txt\n",
      "Removed ./MAGOLEGO/2019/Midterm essay/group_5/132.txt\n",
      "Removed ./MAGOLEGO/2019/Midterm essay/group_5/133.txt\n",
      "Removed ./MAGOLEGO/2019/Midterm essay/group_2/53.txt\n",
      "Removed ./MAGOLEGO/2019/Midterm essay/group_2/54.txt\n",
      "Removed ./MAGOLEGO/2019/Midterm essay/group_6/156.txt\n",
      "Removed ./MAGOLEGO/2019/Midterm essay/group_6/153.txt\n",
      "Removed ./MAGOLEGO/2019/Midterm essay/group_6/155.txt\n",
      "Removed ./MAGOLEGO/2019/Midterm essay/group_6/157.txt\n",
      "Removed ./MAGOLEGO/2019/Midterm essay/group_6/154.txt\n",
      "Removed ./MAGOLEGO/2019/Midterm essay/group_4/103.txt\n",
      "Removed ./MAGOLEGO/2019/Midterm essay/group_4/102.txt\n",
      "Removed ./MAGOLEGO/2019/Midterm essay/group_4/101.txt\n",
      "Removed ./MAGOLEGO/2019/Midterm essay/group_1/20.txt\n",
      "Removed ./MAGOLEGO/2019/Midterm essay/group_1/17.txt\n",
      "Removed ./MAGOLEGO/2019/Midterm essay/group_1/18.txt\n",
      "Removed ./MAGOLEGO/2019/Midterm essay/group_1/21.txt\n",
      "Removed ./MAGOLEGO/2019/Midterm essay/group_1/19.txt\n",
      "Removed ./MAGOLEGO/2019/Midterm essay/group_3/76.txt\n",
      "Removed ./MAGOLEGO/2019/Midterm essay/group_3/77.txt\n",
      "Removed ./MAGOLEGO/2019/Midterm essay/group_3/75.txt\n",
      "Removed ./MAGOLEGO/2019/Midterm essay/group_3/74.txt\n",
      "Removed ./MAGOLEGO/2019/Midterm essay/group_3/78.txt\n"
     ]
    }
   ],
   "source": [
    "for path in loose_files + loose_annotations:\n",
    "  os.remove(path)\n",
    "  print(\"Removed\",path)"
   ]
  },
  {
   "cell_type": "markdown",
   "metadata": {
    "colab_type": "text",
    "id": "TZUhonqAo-Z2"
   },
   "source": [
    "Now let's check the collection for duplicate text files. We won't search for duplicate annotations as two hypothetically empty annotations corresponding to two different ideal texts should not be interpreted as duplicates."
   ]
  },
  {
   "cell_type": "code",
   "execution_count": 0,
   "metadata": {
    "colab": {},
    "colab_type": "code",
    "collapsed": true,
    "id": "8ldWg69QqSH4"
   },
   "outputs": [],
   "source": [
    "import sys\n",
    "import os\n",
    "import hashlib\n",
    "\n",
    "\n",
    "def chunk_reader(fobj, chunk_size=1024):\n",
    "    \"\"\"Generator that reads a file in chunks of bytes\"\"\"\n",
    "    while True:\n",
    "        chunk = fobj.read(chunk_size)\n",
    "        if not chunk:\n",
    "            return\n",
    "        yield chunk\n",
    "\n",
    "\n",
    "def get_hash(filename, first_chunk_only=False, hash=hashlib.sha1):\n",
    "    hashobj = hash()\n",
    "    file_object = open(filename, 'rb')\n",
    "\n",
    "    if first_chunk_only:\n",
    "        hashobj.update(file_object.read(1024))\n",
    "    else:\n",
    "        for chunk in chunk_reader(file_object):\n",
    "            hashobj.update(chunk)\n",
    "    hashed = hashobj.digest()\n",
    "\n",
    "    file_object.close()\n",
    "    return hashed\n",
    "\n",
    "\n",
    "def check_for_duplicates(paths, hash=hashlib.sha1):\n",
    "    duplicate_pairs = []\n",
    "    \n",
    "    hashes_by_size = {}\n",
    "    hashes_on_1k = {}\n",
    "    hashes_full = {}\n",
    "\n",
    "    for path in paths:\n",
    "        for dirpath, dirnames, filenames in os.walk(path):\n",
    "            for filename in filenames:\n",
    "                full_path = os.path.join(dirpath, filename)\n",
    "                try:\n",
    "                    # if the target is a symlink (soft one), this will \n",
    "                    # dereference it - change the value to the actual target file\n",
    "                    full_path = os.path.realpath(full_path)\n",
    "                    file_size = os.path.getsize(full_path)\n",
    "                except (OSError,):\n",
    "                    # not accessible (permissions, etc) - pass on\n",
    "                    continue\n",
    "\n",
    "                duplicate = hashes_by_size.get(file_size)\n",
    "\n",
    "                if duplicate:\n",
    "                    hashes_by_size[file_size].append(full_path)\n",
    "                else:\n",
    "                    hashes_by_size[file_size] = []  # create the list for this file size\n",
    "                    hashes_by_size[file_size].append(full_path)\n",
    "\n",
    "    # For all files with the same file size, get their hash on the 1st 1024 bytes\n",
    "    for __, files in hashes_by_size.items():\n",
    "        if len(files) < 2:\n",
    "            continue    # this file size is unique, no need to spend cpy cycles on it\n",
    "\n",
    "        for filename in files:\n",
    "            try:\n",
    "                small_hash = get_hash(filename, first_chunk_only=True)\n",
    "            except (OSError,):\n",
    "                # the file access might've changed till the exec point got here \n",
    "                continue\n",
    "\n",
    "            duplicate = hashes_on_1k.get(small_hash)\n",
    "            if duplicate:\n",
    "                hashes_on_1k[small_hash].append(filename)\n",
    "            else:\n",
    "                hashes_on_1k[small_hash] = []          # create the list for this 1k hash\n",
    "                hashes_on_1k[small_hash].append(filename)\n",
    "\n",
    "    # For all files with the hash on the 1st 1024 bytes, get their hash on the full file - collisions will be duplicates\n",
    "    for __, files in hashes_on_1k.items():\n",
    "        if len(files) < 2:\n",
    "            continue    # this hash of fist 1k file bytes is unique, no need to spend cpy cycles on it\n",
    "\n",
    "        for filename in files:\n",
    "            try: \n",
    "                full_hash = get_hash(filename, first_chunk_only=False)\n",
    "            except (OSError,):\n",
    "                # the file access might've changed till the exec point got here \n",
    "                continue\n",
    "\n",
    "            duplicate = hashes_full.get(full_hash)\n",
    "            if duplicate:\n",
    "                duplicate_pairs.append((filename, duplicate))\n",
    "            else:\n",
    "                hashes_full[full_hash] = filename\n",
    "\n",
    "    return duplicate_pairs"
   ]
  },
  {
   "cell_type": "code",
   "execution_count": 0,
   "metadata": {
    "colab": {},
    "colab_type": "code",
    "collapsed": true,
    "id": "LIdA0-l0t99_"
   },
   "outputs": [],
   "source": [
    "duplicate_pairs = check_for_duplicates(\".\")"
   ]
  },
  {
   "cell_type": "code",
   "execution_count": 0,
   "metadata": {
    "colab": {},
    "colab_type": "code",
    "collapsed": true,
    "id": "l1t6a5HewMex"
   },
   "outputs": [],
   "source": [
    "duplicate_txts = [pair for pair in duplicate_pairs if pair[0].endswith('.txt') and pair[1].endswith('.txt')]"
   ]
  },
  {
   "cell_type": "code",
   "execution_count": 19,
   "metadata": {
    "colab": {
     "base_uri": "https://localhost:8080/",
     "height": 195
    },
    "colab_type": "code",
    "executionInfo": {
     "elapsed": 691,
     "status": "ok",
     "timestamp": 1556295228761,
     "user": {
      "displayName": "Ivan Torubarov",
      "photoUrl": "",
      "userId": "07481003931234110333"
     },
     "user_tz": -180
    },
    "id": "jzQBilraaxZa",
    "outputId": "aeb14055-5111-4b23-d8cc-2cfa94713eaa"
   },
   "outputs": [
    {
     "data": {
      "text/html": [
       "<div>\n",
       "<style scoped>\n",
       "    .dataframe tbody tr th:only-of-type {\n",
       "        vertical-align: middle;\n",
       "    }\n",
       "\n",
       "    .dataframe tbody tr th {\n",
       "        vertical-align: top;\n",
       "    }\n",
       "\n",
       "    .dataframe thead th {\n",
       "        text-align: right;\n",
       "    }\n",
       "</style>\n",
       "<table border=\"1\" class=\"dataframe\">\n",
       "  <thead>\n",
       "    <tr style=\"text-align: right;\">\n",
       "      <th></th>\n",
       "      <th>0</th>\n",
       "      <th>1</th>\n",
       "    </tr>\n",
       "  </thead>\n",
       "  <tbody>\n",
       "    <tr>\n",
       "      <th>0</th>\n",
       "      <td>/content/data/exam/exam2017_5_2/EGe_162_2.txt</td>\n",
       "      <td>/content/data/exam/exam2017/EGe_162_2.txt</td>\n",
       "    </tr>\n",
       "    <tr>\n",
       "      <th>1</th>\n",
       "      <td>/content/data/exam/undefined/DZu_15_1.txt</td>\n",
       "      <td>/content/data/old IELTS/IELTS2016/DZu_15_1.txt</td>\n",
       "    </tr>\n",
       "    <tr>\n",
       "      <th>2</th>\n",
       "      <td>/content/data/exam/exam2014/EZa_8_2.txt</td>\n",
       "      <td>/content/data/old IELTS/IELTS2015/EZa_8_2.txt</td>\n",
       "    </tr>\n",
       "    <tr>\n",
       "      <th>3</th>\n",
       "      <td>/content/data/exam/exam2014/MTsy_5_1.txt</td>\n",
       "      <td>/content/data/old IELTS/IELTS2015/MTsy_5_1.txt</td>\n",
       "    </tr>\n",
       "    <tr>\n",
       "      <th>4</th>\n",
       "      <td>/content/data/exam/exam2014/2012-2014_2/esl_00...</td>\n",
       "      <td>/content/data/2012-2014/esl_00274.txt</td>\n",
       "    </tr>\n",
       "  </tbody>\n",
       "</table>\n",
       "</div>"
      ],
      "text/plain": [
       "                                                   0  \\\n",
       "0      /content/data/exam/exam2017_5_2/EGe_162_2.txt   \n",
       "1          /content/data/exam/undefined/DZu_15_1.txt   \n",
       "2            /content/data/exam/exam2014/EZa_8_2.txt   \n",
       "3           /content/data/exam/exam2014/MTsy_5_1.txt   \n",
       "4  /content/data/exam/exam2014/2012-2014_2/esl_00...   \n",
       "\n",
       "                                                1  \n",
       "0       /content/data/exam/exam2017/EGe_162_2.txt  \n",
       "1  /content/data/old IELTS/IELTS2016/DZu_15_1.txt  \n",
       "2   /content/data/old IELTS/IELTS2015/EZa_8_2.txt  \n",
       "3  /content/data/old IELTS/IELTS2015/MTsy_5_1.txt  \n",
       "4           /content/data/2012-2014/esl_00274.txt  "
      ]
     },
     "execution_count": 19,
     "metadata": {
      "tags": []
     },
     "output_type": "execute_result"
    }
   ],
   "source": [
    "import numpy as np\n",
    "\n",
    "dup_ex = pd.DataFrame(duplicate_txts)\n",
    "dup_ex.head()"
   ]
  },
  {
   "cell_type": "code",
   "execution_count": 0,
   "metadata": {
    "colab": {},
    "colab_type": "code",
    "collapsed": true,
    "id": "r0Z-lBmxNMBd"
   },
   "outputs": [],
   "source": [
    "import networkx as nx\n",
    "G=nx.Graph()"
   ]
  },
  {
   "cell_type": "code",
   "execution_count": 0,
   "metadata": {
    "colab": {},
    "colab_type": "code",
    "collapsed": true,
    "id": "N7HWA9tk_19s"
   },
   "outputs": [],
   "source": [
    "G.add_edges_from(duplicate_txts)"
   ]
  },
  {
   "cell_type": "code",
   "execution_count": 0,
   "metadata": {
    "colab": {},
    "colab_type": "code",
    "collapsed": true,
    "id": "eTRv9-NGNqwQ"
   },
   "outputs": [],
   "source": [
    "conns = list(nx.connected_components(G))"
   ]
  },
  {
   "cell_type": "code",
   "execution_count": 26,
   "metadata": {
    "colab": {
     "base_uri": "https://localhost:8080/",
     "height": 562
    },
    "colab_type": "code",
    "executionInfo": {
     "elapsed": 686,
     "status": "ok",
     "timestamp": 1556295412822,
     "user": {
      "displayName": "Ivan Torubarov",
      "photoUrl": "",
      "userId": "07481003931234110333"
     },
     "user_tz": -180
    },
    "id": "wOE-4IskboFO",
    "outputId": "855e795c-aafe-409f-894a-8605cf2840ec"
   },
   "outputs": [
    {
     "data": {
      "text/plain": [
       "[{'/content/data/exam/exam2014/ESha_31_1.txt',\n",
       "  '/content/data/exam/exam2014/best_works/ESha_31_1.txt',\n",
       "  '/content/data/old IELTS/IELTS2015/ESha_31_1.txt'},\n",
       " {'/content/data/2012-2014/esl_01163.txt',\n",
       "  '/content/data/Exam_practice/AV_1_year/Book_reviews/student65_review.txt',\n",
       "  '/content/data/exam/exam2014/2012-2014_5/esl_01163.txt'},\n",
       " {'/content/data/2012-2014/esl_01255.txt',\n",
       "  '/content/data/Exam_practice/AV_1_year/Home_assignments/student77_final2.txt',\n",
       "  '/content/data/exam/exam2014/2012-2014_6/esl_01255.txt'},\n",
       " {'/content/data/2012-2014/esl_01291.txt',\n",
       "  '/content/data/2012-2014/esl_01292.txt',\n",
       "  '/content/data/exam/exam2014/2012-2014_6/esl_01291.txt',\n",
       "  '/content/data/exam/exam2014/2012-2014_6/esl_01292.txt'},\n",
       " {'/content/data/2012-2014/esl_00981.txt',\n",
       "  '/content/data/Exam_practice/AV_1_year/Test_essays/student53_final.txt',\n",
       "  '/content/data/exam/exam2014/2012-2014_4/esl_00981.txt'},\n",
       " {'/content/data/2012-2014/esl_01015.txt',\n",
       "  '/content/data/Exam_practice/AV_1_year/Book_reviews/student57_review_final.txt',\n",
       "  '/content/data/exam/exam2014/2012-2014_5/esl_01015.txt'},\n",
       " {'/content/data/2012-2014/esl_00937.txt',\n",
       "  '/content/data/Exam_practice/AV_2_year/student86_2.txt',\n",
       "  '/content/data/exam/exam2014/2012-2014_4/esl_00937.txt'},\n",
       " {'/content/data/2012-2014/esl_01209.txt',\n",
       "  '/content/data/Exam_practice/AV_2_year/student92_1.txt',\n",
       "  '/content/data/exam/exam2014/2012-2014_5/esl_01209.txt'},\n",
       " {'/content/data/2012-2014/esl_01009.txt',\n",
       "  '/content/data/Exam_practice/AV_2_year/Essays/student85_class4.txt',\n",
       "  '/content/data/exam/exam2014/2012-2014_5/esl_01009.txt'},\n",
       " {'/content/data/2012-2014/esl_01224.txt',\n",
       "  '/content/data/Exam_practice/AV_2_year/Essays/student95_final.txt',\n",
       "  '/content/data/exam/exam2014/2012-2014_5/esl_01224.txt'}]"
      ]
     },
     "execution_count": 26,
     "metadata": {
      "tags": []
     },
     "output_type": "execute_result"
    }
   ],
   "source": [
    "conn_ex = [conn for conn in conns if len(conn) > 2]\n",
    "conn_ex[:10] # example of detecting more than 2 duplicates"
   ]
  },
  {
   "cell_type": "markdown",
   "metadata": {
    "colab_type": "text",
    "id": "3ioJXdyRPwT3"
   },
   "source": [
    "Now we will clear the dataset from duplicates. We will preserve the files with the most complete annotations (judging simply by file size)"
   ]
  },
  {
   "cell_type": "code",
   "execution_count": 29,
   "metadata": {
    "colab": {
     "base_uri": "https://localhost:8080/",
     "height": 34
    },
    "colab_type": "code",
    "executionInfo": {
     "elapsed": 1114,
     "status": "ok",
     "timestamp": 1556295699922,
     "user": {
      "displayName": "Ivan Torubarov",
      "photoUrl": "",
      "userId": "07481003931234110333"
     },
     "user_tz": -180
    },
    "id": "qRKZBol8Nw2p",
    "outputId": "5844546f-7afd-4ba8-fac1-f4a77d3f4d05"
   },
   "outputs": [
    {
     "name": "stdout",
     "output_type": "stream",
     "text": [
      "Duplicate files removed: 6482\n"
     ]
    }
   ],
   "source": [
    "import operator\n",
    "\n",
    "duplicates_removed = 0\n",
    "\n",
    "for duplicate_group in conns:\n",
    "  duplicate_group = list(duplicate_group)\n",
    "  duplicate_dict = {path: os.path.getsize(path[:-4]+\".ann\") for path in duplicate_group}\n",
    "  maxval = max(duplicate_dict.items(), key=operator.itemgetter(1))[0]\n",
    "  for path in duplicate_group:\n",
    "    if path != maxval:\n",
    "      # print (path, maxval)\n",
    "      os.remove(path)\n",
    "      os.remove(path[:-4]+\".ann\")\n",
    "      duplicates_removed += 1\n",
    "\n",
    "print(\"Duplicate files removed:\", duplicates_removed)"
   ]
  },
  {
   "cell_type": "markdown",
   "metadata": {
    "colab_type": "text",
    "id": "CMTsrBy3VCLt"
   },
   "source": [
    "Let's check if we have left any duplicates:"
   ]
  },
  {
   "cell_type": "code",
   "execution_count": 30,
   "metadata": {
    "colab": {
     "base_uri": "https://localhost:8080/",
     "height": 34
    },
    "colab_type": "code",
    "executionInfo": {
     "elapsed": 2003,
     "status": "ok",
     "timestamp": 1556295795878,
     "user": {
      "displayName": "Ivan Torubarov",
      "photoUrl": "",
      "userId": "07481003931234110333"
     },
     "user_tz": -180
    },
    "id": "0mZ2NO5AOLYL",
    "outputId": "2c566979-1559-4129-8d43-ba649f1aebd6"
   },
   "outputs": [
    {
     "data": {
      "text/plain": [
       "0"
      ]
     },
     "execution_count": 30,
     "metadata": {
      "tags": []
     },
     "output_type": "execute_result"
    }
   ],
   "source": [
    "duplicate_pairs = check_for_duplicates(\".\")\n",
    "duplicate_txts = [pair for pair in duplicate_pairs if pair[0].endswith('.txt') and pair[1].endswith('.txt')]\n",
    "len(duplicate_txts)"
   ]
  },
  {
   "cell_type": "markdown",
   "metadata": {
    "colab_type": "text",
    "id": "f7jF7FGwVN8y"
   },
   "source": [
    "That's it. Now we basically have a cleaned collection, free of junk files and duplicates. Here I prepare the collection for download as .tar.gz:"
   ]
  },
  {
   "cell_type": "code",
   "execution_count": 0,
   "metadata": {
    "colab": {},
    "colab_type": "code",
    "collapsed": true,
    "id": "BuifOLjOWM5_"
   },
   "outputs": [],
   "source": [
    "import tarfile\n",
    "\n",
    "def make_tarfile(output_filename, source_dir):\n",
    "    with tarfile.open(output_filename, \"w:gz\") as tar:\n",
    "        tar.add(source_dir, arcname=os.path.basename(source_dir))"
   ]
  },
  {
   "cell_type": "code",
   "execution_count": 0,
   "metadata": {
    "colab": {},
    "colab_type": "code",
    "collapsed": true,
    "id": "JjHRge48WOXX"
   },
   "outputs": [],
   "source": [
    "import datetime\n",
    "import pytz\n",
    "\n",
    "utc_offset = lambda offset: datetime.timezone(datetime.timedelta(seconds=offset))\n",
    "dt = datetime.datetime.now()\n",
    "tzone = pytz.timezone('Europe/Moscow')\n",
    "dt = dt.astimezone(tzone)\n",
    "fname = \"realec_\" + dt.strftime(\"%d%m%y_%H%M\") + \".tar.gz\""
   ]
  },
  {
   "cell_type": "code",
   "execution_count": 0,
   "metadata": {
    "colab": {},
    "colab_type": "code",
    "collapsed": true,
    "id": "tZgykUpoZRyG"
   },
   "outputs": [],
   "source": [
    "os.chdir(\"..\")\n",
    "make_tarfile(fname, \"data\")"
   ]
  },
  {
   "cell_type": "code",
   "execution_count": 34,
   "metadata": {
    "colab": {
     "base_uri": "https://localhost:8080/",
     "height": 34
    },
    "colab_type": "code",
    "executionInfo": {
     "elapsed": 1163,
     "status": "ok",
     "timestamp": 1556295890056,
     "user": {
      "displayName": "Ivan Torubarov",
      "photoUrl": "",
      "userId": "07481003931234110333"
     },
     "user_tz": -180
    },
    "id": "ap4d0nKHZhNv",
    "outputId": "f65309e2-429b-49e1-a7e9-087d1fadfe82"
   },
   "outputs": [
    {
     "data": {
      "text/plain": [
       "['.config', 'data', 'realec_260419_1923.tar.gz', 'sample_data']"
      ]
     },
     "execution_count": 34,
     "metadata": {
      "tags": []
     },
     "output_type": "execute_result"
    }
   ],
   "source": [
    "os.listdir(\".\")"
   ]
  },
  {
   "cell_type": "markdown",
   "metadata": {
    "colab_type": "text",
    "id": "05IbzbjfZmP_"
   },
   "source": [
    "One final step - we need to download the file from Colab's temporary workspace. Here's how it's done (uploading to your Google Drive):"
   ]
  },
  {
   "cell_type": "code",
   "execution_count": 35,
   "metadata": {
    "colab": {
     "base_uri": "https://localhost:8080/",
     "height": 52
    },
    "colab_type": "code",
    "executionInfo": {
     "elapsed": 7148,
     "status": "ok",
     "timestamp": 1556295900817,
     "user": {
      "displayName": "Ivan Torubarov",
      "photoUrl": "",
      "userId": "07481003931234110333"
     },
     "user_tz": -180
    },
    "id": "hXfT9-tFZ-Ex",
    "outputId": "1e5777dd-560e-4ca5-c40e-926ef8c29fe7"
   },
   "outputs": [
    {
     "name": "stdout",
     "output_type": "stream",
     "text": [
      "\u001b[?25l\r",
      "\u001b[K    1% |▎                               | 10kB 17.6MB/s eta 0:00:01\r",
      "\u001b[K    2% |▋                               | 20kB 3.5MB/s eta 0:00:01\r",
      "\u001b[K    3% |█                               | 30kB 5.0MB/s eta 0:00:01\r",
      "\u001b[K    4% |█▎                              | 40kB 3.1MB/s eta 0:00:01\r",
      "\u001b[K    5% |█▋                              | 51kB 3.8MB/s eta 0:00:01\r",
      "\u001b[K    6% |██                              | 61kB 4.5MB/s eta 0:00:01\r",
      "\u001b[K    7% |██▎                             | 71kB 5.1MB/s eta 0:00:01\r",
      "\u001b[K    8% |██▋                             | 81kB 5.7MB/s eta 0:00:01\r",
      "\u001b[K    9% |███                             | 92kB 6.3MB/s eta 0:00:01\r",
      "\u001b[K    10% |███▎                            | 102kB 5.0MB/s eta 0:00:01\r",
      "\u001b[K    11% |███▋                            | 112kB 5.0MB/s eta 0:00:01\r",
      "\u001b[K    12% |████                            | 122kB 6.7MB/s eta 0:00:01\r",
      "\u001b[K    13% |████▎                           | 133kB 6.7MB/s eta 0:00:01\r",
      "\u001b[K    14% |████▋                           | 143kB 12.1MB/s eta 0:00:01\r",
      "\u001b[K    15% |█████                           | 153kB 12.2MB/s eta 0:00:01\r",
      "\u001b[K    16% |█████▎                          | 163kB 12.3MB/s eta 0:00:01\r",
      "\u001b[K    17% |█████▋                          | 174kB 12.8MB/s eta 0:00:01\r",
      "\u001b[K    18% |██████                          | 184kB 12.9MB/s eta 0:00:01\r",
      "\u001b[K    19% |██████▎                         | 194kB 12.9MB/s eta 0:00:01\r",
      "\u001b[K    20% |██████▋                         | 204kB 40.7MB/s eta 0:00:01\r",
      "\u001b[K    21% |███████                         | 215kB 14.0MB/s eta 0:00:01\r",
      "\u001b[K    22% |███████▎                        | 225kB 14.0MB/s eta 0:00:01\r",
      "\u001b[K    23% |███████▋                        | 235kB 14.2MB/s eta 0:00:01\r",
      "\u001b[K    24% |████████                        | 245kB 14.2MB/s eta 0:00:01\r",
      "\u001b[K    25% |████████▎                       | 256kB 14.3MB/s eta 0:00:01\r",
      "\u001b[K    26% |████████▋                       | 266kB 13.7MB/s eta 0:00:01\r",
      "\u001b[K    27% |█████████                       | 276kB 13.9MB/s eta 0:00:01\r",
      "\u001b[K    29% |█████████▎                      | 286kB 14.0MB/s eta 0:00:01\r",
      "\u001b[K    30% |█████████▋                      | 296kB 14.0MB/s eta 0:00:01\r",
      "\u001b[K    31% |██████████                      | 307kB 14.8MB/s eta 0:00:01\r",
      "\u001b[K    32% |██████████▎                     | 317kB 52.6MB/s eta 0:00:01\r",
      "\u001b[K    33% |██████████▋                     | 327kB 55.7MB/s eta 0:00:01\r",
      "\u001b[K    34% |███████████                     | 337kB 58.2MB/s eta 0:00:01\r",
      "\u001b[K    35% |███████████▎                    | 348kB 51.3MB/s eta 0:00:01\r",
      "\u001b[K    36% |███████████▋                    | 358kB 51.1MB/s eta 0:00:01\r",
      "\u001b[K    37% |████████████                    | 368kB 58.7MB/s eta 0:00:01\r",
      "\u001b[K    38% |████████████▎                   | 378kB 56.7MB/s eta 0:00:01\r",
      "\u001b[K    39% |████████████▋                   | 389kB 55.6MB/s eta 0:00:01\r",
      "\u001b[K    40% |█████████████                   | 399kB 19.4MB/s eta 0:00:01\r",
      "\u001b[K    41% |█████████████▎                  | 409kB 19.0MB/s eta 0:00:01\r",
      "\u001b[K    42% |█████████████▋                  | 419kB 18.8MB/s eta 0:00:01\r",
      "\u001b[K    43% |██████████████                  | 430kB 18.6MB/s eta 0:00:01\r",
      "\u001b[K    44% |██████████████▎                 | 440kB 18.5MB/s eta 0:00:01\r",
      "\u001b[K    45% |██████████████▋                 | 450kB 18.6MB/s eta 0:00:01\r",
      "\u001b[K    46% |███████████████                 | 460kB 18.4MB/s eta 0:00:01\r",
      "\u001b[K    47% |███████████████▎                | 471kB 18.6MB/s eta 0:00:01\r",
      "\u001b[K    48% |███████████████▋                | 481kB 18.7MB/s eta 0:00:01\r",
      "\u001b[K    49% |████████████████                | 491kB 18.9MB/s eta 0:00:01\r",
      "\u001b[K    50% |████████████████▎               | 501kB 52.2MB/s eta 0:00:01\r",
      "\u001b[K    51% |████████████████▋               | 512kB 50.2MB/s eta 0:00:01\r",
      "\u001b[K    52% |█████████████████               | 522kB 51.5MB/s eta 0:00:01\r",
      "\u001b[K    53% |█████████████████▎              | 532kB 52.8MB/s eta 0:00:01\r",
      "\u001b[K    54% |█████████████████▋              | 542kB 54.0MB/s eta 0:00:01\r",
      "\u001b[K    55% |██████████████████              | 552kB 63.2MB/s eta 0:00:01\r",
      "\u001b[K    57% |██████████████████▎             | 563kB 66.3MB/s eta 0:00:01\r",
      "\u001b[K    58% |██████████████████▋             | 573kB 66.1MB/s eta 0:00:01\r",
      "\u001b[K    59% |███████████████████             | 583kB 67.9MB/s eta 0:00:01\r",
      "\u001b[K    60% |███████████████████▎            | 593kB 67.8MB/s eta 0:00:01\r",
      "\u001b[K    61% |███████████████████▋            | 604kB 68.0MB/s eta 0:00:01\r",
      "\u001b[K    62% |████████████████████            | 614kB 77.3MB/s eta 0:00:01\r",
      "\u001b[K    63% |████████████████████▎           | 624kB 78.2MB/s eta 0:00:01\r",
      "\u001b[K    64% |████████████████████▋           | 634kB 79.3MB/s eta 0:00:01\r",
      "\u001b[K    65% |█████████████████████           | 645kB 80.2MB/s eta 0:00:01\r",
      "\u001b[K    66% |█████████████████████▎          | 655kB 79.6MB/s eta 0:00:01\r",
      "\u001b[K    67% |█████████████████████▋          | 665kB 55.2MB/s eta 0:00:01\r",
      "\u001b[K    68% |██████████████████████          | 675kB 54.4MB/s eta 0:00:01\r",
      "\u001b[K    69% |██████████████████████▎         | 686kB 54.6MB/s eta 0:00:01\r",
      "\u001b[K    70% |██████████████████████▋         | 696kB 54.7MB/s eta 0:00:01\r",
      "\u001b[K    71% |███████████████████████         | 706kB 54.2MB/s eta 0:00:01\r",
      "\u001b[K    72% |███████████████████████▎        | 716kB 55.1MB/s eta 0:00:01\r",
      "\u001b[K    73% |███████████████████████▋        | 727kB 54.7MB/s eta 0:00:01\r",
      "\u001b[K    74% |████████████████████████        | 737kB 54.2MB/s eta 0:00:01\r",
      "\u001b[K    75% |████████████████████████▎       | 747kB 54.5MB/s eta 0:00:01\r",
      "\u001b[K    76% |████████████████████████▋       | 757kB 54.3MB/s eta 0:00:01\r",
      "\u001b[K    77% |████████████████████████▉       | 768kB 78.2MB/s eta 0:00:01\r",
      "\u001b[K    78% |█████████████████████████▏      | 778kB 79.6MB/s eta 0:00:01\r",
      "\u001b[K    79% |█████████████████████████▌      | 788kB 78.2MB/s eta 0:00:01\r",
      "\u001b[K    80% |█████████████████████████▉      | 798kB 79.3MB/s eta 0:00:01\r",
      "\u001b[K    81% |██████████████████████████▏     | 808kB 60.5MB/s eta 0:00:01\r",
      "\u001b[K    82% |██████████████████████████▌     | 819kB 57.6MB/s eta 0:00:01\r",
      "\u001b[K    83% |██████████████████████████▉     | 829kB 56.7MB/s eta 0:00:01\r",
      "\u001b[K    85% |███████████████████████████▏    | 839kB 55.0MB/s eta 0:00:01\r",
      "\u001b[K    86% |███████████████████████████▌    | 849kB 54.5MB/s eta 0:00:01\r",
      "\u001b[K    87% |███████████████████████████▉    | 860kB 48.2MB/s eta 0:00:01\r",
      "\u001b[K    88% |████████████████████████████▏   | 870kB 46.6MB/s eta 0:00:01\r",
      "\u001b[K    89% |████████████████████████████▌   | 880kB 46.4MB/s eta 0:00:01\r",
      "\u001b[K    90% |████████████████████████████▉   | 890kB 45.9MB/s eta 0:00:01\r",
      "\u001b[K    91% |█████████████████████████████▏  | 901kB 44.9MB/s eta 0:00:01\r",
      "\u001b[K    92% |█████████████████████████████▌  | 911kB 54.0MB/s eta 0:00:01\r",
      "\u001b[K    93% |█████████████████████████████▉  | 921kB 55.2MB/s eta 0:00:01\r",
      "\u001b[K    94% |██████████████████████████████▏ | 931kB 55.9MB/s eta 0:00:01\r",
      "\u001b[K    95% |██████████████████████████████▌ | 942kB 56.5MB/s eta 0:00:01\r",
      "\u001b[K    96% |██████████████████████████████▉ | 952kB 55.2MB/s eta 0:00:01\r",
      "\u001b[K    97% |███████████████████████████████▏| 962kB 62.4MB/s eta 0:00:01\r",
      "\u001b[K    98% |███████████████████████████████▌| 972kB 63.2MB/s eta 0:00:01\r",
      "\u001b[K    99% |███████████████████████████████▉| 983kB 62.3MB/s eta 0:00:01\r",
      "\u001b[K    100% |████████████████████████████████| 993kB 19.1MB/s \n",
      "\u001b[?25h  Building wheel for PyDrive (setup.py) ... \u001b[?25ldone\n",
      "\u001b[?25h"
     ]
    }
   ],
   "source": [
    "# Install the PyDrive wrapper & import libraries.\n",
    "# This only needs to be done once in a notebook.\n",
    "!pip install -U -q PyDrive\n",
    "from pydrive.auth import GoogleAuth\n",
    "from pydrive.drive import GoogleDrive\n",
    "from google.colab import auth\n",
    "from oauth2client.client import GoogleCredentials"
   ]
  },
  {
   "cell_type": "code",
   "execution_count": 0,
   "metadata": {
    "colab": {},
    "colab_type": "code",
    "collapsed": true,
    "id": "TNF9ksp8aNQm"
   },
   "outputs": [],
   "source": [
    "# Authenticate and create the PyDrive client.\n",
    "# This only needs to be done once in a notebook.\n",
    "auth.authenticate_user()\n",
    "gauth = GoogleAuth()\n",
    "gauth.credentials = GoogleCredentials.get_application_default()\n",
    "drive = GoogleDrive(gauth)"
   ]
  },
  {
   "cell_type": "code",
   "execution_count": 37,
   "metadata": {
    "colab": {
     "base_uri": "https://localhost:8080/",
     "height": 527
    },
    "colab_type": "code",
    "executionInfo": {
     "elapsed": 2902,
     "status": "ok",
     "timestamp": 1556295938123,
     "user": {
      "displayName": "Ivan Torubarov",
      "photoUrl": "",
      "userId": "07481003931234110333"
     },
     "user_tz": -180
    },
    "id": "CMyAfEoraRaP",
    "outputId": "b7d696b9-2920-46a8-bf09-47192c53f65e"
   },
   "outputs": [
    {
     "name": "stderr",
     "output_type": "stream",
     "text": [
      "W0426 16:25:35.796497 139735888795520 __init__.py:44] file_cache is unavailable when using oauth2client >= 4.0.0\n",
      "Traceback (most recent call last):\n",
      "  File \"/usr/local/lib/python3.6/dist-packages/googleapiclient/discovery_cache/__init__.py\", line 36, in autodetect\n",
      "    from google.appengine.api import memcache\n",
      "ModuleNotFoundError: No module named 'google.appengine'\n",
      "\n",
      "During handling of the above exception, another exception occurred:\n",
      "\n",
      "Traceback (most recent call last):\n",
      "  File \"/usr/local/lib/python3.6/dist-packages/googleapiclient/discovery_cache/file_cache.py\", line 33, in <module>\n",
      "    from oauth2client.contrib.locked_file import LockedFile\n",
      "ModuleNotFoundError: No module named 'oauth2client.contrib.locked_file'\n",
      "\n",
      "During handling of the above exception, another exception occurred:\n",
      "\n",
      "Traceback (most recent call last):\n",
      "  File \"/usr/local/lib/python3.6/dist-packages/googleapiclient/discovery_cache/file_cache.py\", line 37, in <module>\n",
      "    from oauth2client.locked_file import LockedFile\n",
      "ModuleNotFoundError: No module named 'oauth2client.locked_file'\n",
      "\n",
      "During handling of the above exception, another exception occurred:\n",
      "\n",
      "Traceback (most recent call last):\n",
      "  File \"/usr/local/lib/python3.6/dist-packages/googleapiclient/discovery_cache/__init__.py\", line 41, in autodetect\n",
      "    from . import file_cache\n",
      "  File \"/usr/local/lib/python3.6/dist-packages/googleapiclient/discovery_cache/file_cache.py\", line 41, in <module>\n",
      "    'file_cache is unavailable when using oauth2client >= 4.0.0')\n",
      "ImportError: file_cache is unavailable when using oauth2client >= 4.0.0\n"
     ]
    },
    {
     "name": "stdout",
     "output_type": "stream",
     "text": [
      "Uploaded file with ID 1VJufLj-heEIZ5OOpTg-Kqg4V8rnrCyuq\n"
     ]
    }
   ],
   "source": [
    "# Create & upload a file.\n",
    "uploaded = drive.CreateFile({'title': fname})\n",
    "uploaded.SetContentFile(fname)\n",
    "uploaded.Upload()\n",
    "print('Uploaded file with ID {}'.format(uploaded.get('id')))"
   ]
  }
 ],
 "metadata": {
  "colab": {
   "name": "REALEC Accounting",
   "provenance": [],
   "version": "0.3.2"
  },
  "kernelspec": {
   "display_name": "Python 3",
   "language": "python",
   "name": "python3"
  },
  "language_info": {
   "codemirror_mode": {
    "name": "ipython",
    "version": 3
   },
   "file_extension": ".py",
   "mimetype": "text/x-python",
   "name": "python",
   "nbconvert_exporter": "python",
   "pygments_lexer": "ipython3",
   "version": "3.6.7"
  }
 },
 "nbformat": 4,
 "nbformat_minor": 1
}
